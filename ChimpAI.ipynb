{
 "cells": [
  {
   "cell_type": "markdown",
   "metadata": {},
   "source": [
    "<a id=\"1\"></a>\n",
    "<p style=\"background-color:#2d8077;font-family:newtimeroman;color:#FFF9ED;font-size:120%;text-align:center;border-radius:10px 10px;\"> BUSINESS UNDERSTANDING</p>\n",
    "\n",
    "ChimpAI Beauty Boost: Smart Recommendations for Glam\n",
    "\n",
    "The goal of our study is to help develop a product recommendation system using the provided datasets. This system aims to suggest products to users based on their preferences and interactions, leveraging the makeup products metadata and user review data. We will develop a business values proposition for predictive marketing to the board of Chimp Beauty to target customers based on features of their purchasing behavior to increase their customer lifetime value. Therefore, to ensure successful completion of this extensive study, we will implement a 5-step methodology.\n"
   ]
  },
  {
   "cell_type": "markdown",
   "metadata": {},
   "source": [
    "<a id='top'></a>\n",
    "<div class=\"list-group\" id=\"list-tab\" role=\"tablist\">\n",
    "<p style=\"background-color:#2d8077;font-family:newtimeroman;color:#FFF9ED;font-size:150%;text-align:center;border-radius:10px 10px;\">TABLE OF CONTENTS</p> \n",
    "\n",
    "[OVERVIEW](#0)\n",
    "- [1. BUSINESS UNDERSTANDING](#1)\n",
    "\n",
    "- [2. DATA UNDERSTANDING](#2)\n",
    "\n",
    "    - [2.1 Get information on the data](#2.1)\n",
    "    - [2.2 Conducting summary statistics](#2.2)\n",
    "    - [2.3 Taking care of Null values](#2.3)\n",
    "\n",
    "- [3. DATA PREPARATION](#3)\n",
    "    - [3.1 Taking care of \"Null\" string present in Metadata](#3.1)\n",
    "    - [3.2 Replacing \"null\" values in Product Category with \"Category Not Specified\"](#3.2)\n",
    "    - [3.3 Investigating all elements within each feature](#3.3)\n",
    "    - [3.4 Transforming user reviews to long format](#3.4)\n",
    "\n",
    "- [4. DATA VISUALIZATION STUDY](#4)\n",
    "\n",
    "    - [4.1 Visualizing Distribution of Review Scores](#4.1)    \n",
    "    - [4.2 Visualizing Top 20 Product Categories Distribution](#4.2)\n",
    "    - [4.3 Visualizing Product Price Distribution](#4.3)\n",
    "    - [4.4 Visualizing Top 20 Brands Distribution](#4.4)\n",
    "    - [4.5 Visualizing Product Price vs. Category](#4.5)\n",
    "\n",
    "- [5. DEPLOYMENT](#5)\n",
    "    - [5.1 Recommendations Engine(POC)](#5.1)\n",
    "\n",
    "- [6. IMPLEMENTATION PLAN](#6)"
   ]
  },
  {
   "cell_type": "code",
   "execution_count": 2,
   "metadata": {},
   "outputs": [],
   "source": [
    "# IMPORTING PACKAGES\n",
    "import numpy as np\n",
    "import pandas as pd\n",
    "import plotly.express as px"
   ]
  },
  {
   "cell_type": "code",
   "execution_count": 3,
   "metadata": {},
   "outputs": [
    {
     "data": {
      "text/html": [
       "<div>\n",
       "<style scoped>\n",
       "    .dataframe tbody tr th:only-of-type {\n",
       "        vertical-align: middle;\n",
       "    }\n",
       "\n",
       "    .dataframe tbody tr th {\n",
       "        vertical-align: top;\n",
       "    }\n",
       "\n",
       "    .dataframe thead th {\n",
       "        text-align: right;\n",
       "    }\n",
       "</style>\n",
       "<table border=\"1\" class=\"dataframe\">\n",
       "  <thead>\n",
       "    <tr style=\"text-align: right;\">\n",
       "      <th></th>\n",
       "      <th>Product ID</th>\n",
       "      <th>Product Category</th>\n",
       "      <th>Product Brand</th>\n",
       "      <th>Product Name</th>\n",
       "      <th>Product Price [SEK]</th>\n",
       "      <th>Product Description</th>\n",
       "      <th>Product Tags</th>\n",
       "      <th>Product Contents</th>\n",
       "    </tr>\n",
       "  </thead>\n",
       "  <tbody>\n",
       "    <tr>\n",
       "      <th>0</th>\n",
       "      <td>90001</td>\n",
       "      <td>Makeup &gt; Face &gt; Contour</td>\n",
       "      <td>ETUDE HOUSE</td>\n",
       "      <td>ETUDE HOUSE Face Color Shading - 02</td>\n",
       "      <td>120.0</td>\n",
       "      <td>Etude House Face Color Shading provides a shad...</td>\n",
       "      <td>ETUDE HOUSE Face Color Shading - 02, Makeup, F...</td>\n",
       "      <td>NaN</td>\n",
       "    </tr>\n",
       "    <tr>\n",
       "      <th>1</th>\n",
       "      <td>90002</td>\n",
       "      <td>Brand &gt; L'Oreal Paris</td>\n",
       "      <td>L'Oreal Paris</td>\n",
       "      <td>L'Oreal Paris Glow Mon Amour Highlighting Drop...</td>\n",
       "      <td>90.8</td>\n",
       "      <td>It's time to skip the snooze button and get up...</td>\n",
       "      <td>L'Oreal Paris Glow Mon Amour Highlighting Drop...</td>\n",
       "      <td>G927637, Cyclopentasiloxane, Dimethicone, Isod...</td>\n",
       "    </tr>\n",
       "    <tr>\n",
       "      <th>2</th>\n",
       "      <td>90003</td>\n",
       "      <td>Makeup &gt; Face &gt; Foundation</td>\n",
       "      <td>The Body Shop</td>\n",
       "      <td>The Body Shop All-In-One Face Base - 045</td>\n",
       "      <td>279.0</td>\n",
       "      <td>Note: The Body Shop products will be dispatche...</td>\n",
       "      <td>The Body Shop All-In-One Face Base - 045 , Mak...</td>\n",
       "      <td>NaN</td>\n",
       "    </tr>\n",
       "    <tr>\n",
       "      <th>3</th>\n",
       "      <td>90004</td>\n",
       "      <td>Health &amp; Wellness &gt; Good for You &gt; Super Food</td>\n",
       "      <td>True Elements</td>\n",
       "      <td>True Elements Sunflower Raw Seeds</td>\n",
       "      <td>35.0</td>\n",
       "      <td>Sunflower has always been admired for its beau...</td>\n",
       "      <td>True Elements Sunflower Raw Seeds, Wellness, S...</td>\n",
       "      <td>Raw Sunflower Seeds</td>\n",
       "    </tr>\n",
       "    <tr>\n",
       "      <th>4</th>\n",
       "      <td>90005</td>\n",
       "      <td>Makeup &gt; Lips &gt; Lip Stain</td>\n",
       "      <td>Nykaa Cosmetics</td>\n",
       "      <td>Nykaa Wonderpuff Cushion Liquid Lipstick - Wer...</td>\n",
       "      <td>107.8</td>\n",
       "      <td>It's no secret that a good lippie is a real mo...</td>\n",
       "      <td>NykaaÃ‚Â Wonderpuff!Ã‚Â LipÃ‚Â &amp;Ã‚Â CheekÃ‚Â C...</td>\n",
       "      <td>NaN</td>\n",
       "    </tr>\n",
       "    <tr>\n",
       "      <th>...</th>\n",
       "      <td>...</td>\n",
       "      <td>...</td>\n",
       "      <td>...</td>\n",
       "      <td>...</td>\n",
       "      <td>...</td>\n",
       "      <td>...</td>\n",
       "      <td>...</td>\n",
       "      <td>...</td>\n",
       "    </tr>\n",
       "    <tr>\n",
       "      <th>561</th>\n",
       "      <td>90562</td>\n",
       "      <td>Null</td>\n",
       "      <td>Ralph Lauren</td>\n",
       "      <td>Ralph Lauren Polo Red Intense Eau De Parfum</td>\n",
       "      <td>980.0</td>\n",
       "      <td>SOURCED FROM PARCOS, THE OFFICIAL BRAND PARTNE...</td>\n",
       "      <td>Ralph Lauren Polo Red Intense Eau De Parfum, F...</td>\n",
       "      <td>NaN</td>\n",
       "    </tr>\n",
       "    <tr>\n",
       "      <th>562</th>\n",
       "      <td>90563</td>\n",
       "      <td>Makeup &gt; Nails &gt; Nail Polish</td>\n",
       "      <td>Orly</td>\n",
       "      <td>Orly Breathable Treatment + Color Nail Lacquer...</td>\n",
       "      <td>200.0</td>\n",
       "      <td>Orly Breathable Treatment + Colour Nail Lacque...</td>\n",
       "      <td>Orly Breathable Treatment + Color Nail Lacquer...</td>\n",
       "      <td>NaN</td>\n",
       "    </tr>\n",
       "    <tr>\n",
       "      <th>563</th>\n",
       "      <td>90564</td>\n",
       "      <td>Makeup &gt; Eyes &gt; Under Eye Concealer</td>\n",
       "      <td>BOLLYGLOW</td>\n",
       "      <td>BOLLYGLOW Concealer + Corrector Masala - Cocoa</td>\n",
       "      <td>133.0</td>\n",
       "      <td>Have you been waking up with raccoon eyes due ...</td>\n",
       "      <td>BOLLYGLOW Concealer + Corrector Masala - Cocoa...</td>\n",
       "      <td>NaN</td>\n",
       "    </tr>\n",
       "    <tr>\n",
       "      <th>564</th>\n",
       "      <td>90565</td>\n",
       "      <td>Makeup &gt; Makeup Kits &gt; Eye Palettes</td>\n",
       "      <td>L.A. Girl</td>\n",
       "      <td>L.A. Girl Eye Lux Mesmerizing Eyeshadow - Trop...</td>\n",
       "      <td>135.0</td>\n",
       "      <td>L.A Girl introduces a luxurious, long wearing ...</td>\n",
       "      <td>L.A. Girl Eye Lux Mesmerizing Eyeshadow - Trop...</td>\n",
       "      <td>NaN</td>\n",
       "    </tr>\n",
       "    <tr>\n",
       "      <th>565</th>\n",
       "      <td>90566</td>\n",
       "      <td>Makeup &gt; Makeup Kits &gt; Customize Your Palette</td>\n",
       "      <td>M.A.C</td>\n",
       "      <td>M.A.C Veluxe Pearl Eye Shadow (Pro Palette Ref...</td>\n",
       "      <td>220.0</td>\n",
       "      <td>Highly pigmented powder. Applies evenly, blend...</td>\n",
       "      <td>M.A.C Veluxe Pearl Eye Shadow (Pro Palette Ref...</td>\n",
       "      <td>NaN</td>\n",
       "    </tr>\n",
       "  </tbody>\n",
       "</table>\n",
       "<p>566 rows × 8 columns</p>\n",
       "</div>"
      ],
      "text/plain": [
       "     Product ID                               Product Category  \\\n",
       "0         90001                        Makeup > Face > Contour   \n",
       "1         90002                          Brand > L'Oreal Paris   \n",
       "2         90003                     Makeup > Face > Foundation   \n",
       "3         90004  Health & Wellness > Good for You > Super Food   \n",
       "4         90005                      Makeup > Lips > Lip Stain   \n",
       "..          ...                                            ...   \n",
       "561       90562                                           Null   \n",
       "562       90563                   Makeup > Nails > Nail Polish   \n",
       "563       90564            Makeup > Eyes > Under Eye Concealer   \n",
       "564       90565            Makeup > Makeup Kits > Eye Palettes   \n",
       "565       90566  Makeup > Makeup Kits > Customize Your Palette   \n",
       "\n",
       "       Product Brand                                       Product Name  \\\n",
       "0        ETUDE HOUSE                ETUDE HOUSE Face Color Shading - 02   \n",
       "1      L'Oreal Paris  L'Oreal Paris Glow Mon Amour Highlighting Drop...   \n",
       "2      The Body Shop           The Body Shop All-In-One Face Base - 045   \n",
       "3      True Elements                  True Elements Sunflower Raw Seeds   \n",
       "4    Nykaa Cosmetics  Nykaa Wonderpuff Cushion Liquid Lipstick - Wer...   \n",
       "..               ...                                                ...   \n",
       "561     Ralph Lauren        Ralph Lauren Polo Red Intense Eau De Parfum   \n",
       "562             Orly  Orly Breathable Treatment + Color Nail Lacquer...   \n",
       "563        BOLLYGLOW     BOLLYGLOW Concealer + Corrector Masala - Cocoa   \n",
       "564        L.A. Girl  L.A. Girl Eye Lux Mesmerizing Eyeshadow - Trop...   \n",
       "565            M.A.C  M.A.C Veluxe Pearl Eye Shadow (Pro Palette Ref...   \n",
       "\n",
       "     Product Price [SEK]                                Product Description  \\\n",
       "0                  120.0  Etude House Face Color Shading provides a shad...   \n",
       "1                   90.8  It's time to skip the snooze button and get up...   \n",
       "2                  279.0  Note: The Body Shop products will be dispatche...   \n",
       "3                   35.0  Sunflower has always been admired for its beau...   \n",
       "4                  107.8  It's no secret that a good lippie is a real mo...   \n",
       "..                   ...                                                ...   \n",
       "561                980.0  SOURCED FROM PARCOS, THE OFFICIAL BRAND PARTNE...   \n",
       "562                200.0  Orly Breathable Treatment + Colour Nail Lacque...   \n",
       "563                133.0  Have you been waking up with raccoon eyes due ...   \n",
       "564                135.0  L.A Girl introduces a luxurious, long wearing ...   \n",
       "565                220.0  Highly pigmented powder. Applies evenly, blend...   \n",
       "\n",
       "                                          Product Tags  \\\n",
       "0    ETUDE HOUSE Face Color Shading - 02, Makeup, F...   \n",
       "1    L'Oreal Paris Glow Mon Amour Highlighting Drop...   \n",
       "2    The Body Shop All-In-One Face Base - 045 , Mak...   \n",
       "3    True Elements Sunflower Raw Seeds, Wellness, S...   \n",
       "4    NykaaÃ‚Â Wonderpuff!Ã‚Â LipÃ‚Â &Ã‚Â CheekÃ‚Â C...   \n",
       "..                                                 ...   \n",
       "561  Ralph Lauren Polo Red Intense Eau De Parfum, F...   \n",
       "562  Orly Breathable Treatment + Color Nail Lacquer...   \n",
       "563  BOLLYGLOW Concealer + Corrector Masala - Cocoa...   \n",
       "564  L.A. Girl Eye Lux Mesmerizing Eyeshadow - Trop...   \n",
       "565  M.A.C Veluxe Pearl Eye Shadow (Pro Palette Ref...   \n",
       "\n",
       "                                      Product Contents  \n",
       "0                                                  NaN  \n",
       "1    G927637, Cyclopentasiloxane, Dimethicone, Isod...  \n",
       "2                                                  NaN  \n",
       "3                                  Raw Sunflower Seeds  \n",
       "4                                                  NaN  \n",
       "..                                                 ...  \n",
       "561                                                NaN  \n",
       "562                                                NaN  \n",
       "563                                                NaN  \n",
       "564                                                NaN  \n",
       "565                                                NaN  \n",
       "\n",
       "[566 rows x 8 columns]"
      ]
     },
     "execution_count": 3,
     "metadata": {},
     "output_type": "execute_result"
    }
   ],
   "source": [
    "# LOADING PRODUCT META DATA\n",
    "product__metadata= pd.read_excel(\"/Users/rupesh/Desktop/Res/Interviews/Chimp_AI/Data/Makeup_Products_Metadata.xlsx\")\n",
    "metadata_df = product__metadata.copy()\n",
    "metadata_df"
   ]
  },
  {
   "cell_type": "code",
   "execution_count": 4,
   "metadata": {},
   "outputs": [
    {
     "name": "stdout",
     "output_type": "stream",
     "text": [
      "<class 'pandas.core.frame.DataFrame'>\n",
      "RangeIndex: 566 entries, 0 to 565\n",
      "Data columns (total 8 columns):\n",
      " #   Column               Non-Null Count  Dtype  \n",
      "---  ------               --------------  -----  \n",
      " 0   Product ID           566 non-null    int64  \n",
      " 1   Product Category     566 non-null    object \n",
      " 2   Product Brand        566 non-null    object \n",
      " 3   Product Name         566 non-null    object \n",
      " 4   Product Price [SEK]  566 non-null    float64\n",
      " 5   Product Description  566 non-null    object \n",
      " 6   Product Tags         523 non-null    object \n",
      " 7   Product Contents     259 non-null    object \n",
      "dtypes: float64(1), int64(1), object(6)\n",
      "memory usage: 35.5+ KB\n"
     ]
    },
    {
     "data": {
      "text/plain": [
       "(   Product ID                               Product Category    Product Brand  \\\n",
       " 0       90001                        Makeup > Face > Contour      ETUDE HOUSE   \n",
       " 1       90002                          Brand > L'Oreal Paris    L'Oreal Paris   \n",
       " 2       90003                     Makeup > Face > Foundation    The Body Shop   \n",
       " 3       90004  Health & Wellness > Good for You > Super Food    True Elements   \n",
       " 4       90005                      Makeup > Lips > Lip Stain  Nykaa Cosmetics   \n",
       " \n",
       "                                         Product Name  Product Price [SEK]  \\\n",
       " 0                ETUDE HOUSE Face Color Shading - 02                120.0   \n",
       " 1  L'Oreal Paris Glow Mon Amour Highlighting Drop...                 90.8   \n",
       " 2           The Body Shop All-In-One Face Base - 045                279.0   \n",
       " 3                  True Elements Sunflower Raw Seeds                 35.0   \n",
       " 4  Nykaa Wonderpuff Cushion Liquid Lipstick - Wer...                107.8   \n",
       " \n",
       "                                  Product Description  \\\n",
       " 0  Etude House Face Color Shading provides a shad...   \n",
       " 1  It's time to skip the snooze button and get up...   \n",
       " 2  Note: The Body Shop products will be dispatche...   \n",
       " 3  Sunflower has always been admired for its beau...   \n",
       " 4  It's no secret that a good lippie is a real mo...   \n",
       " \n",
       "                                         Product Tags  \\\n",
       " 0  ETUDE HOUSE Face Color Shading - 02, Makeup, F...   \n",
       " 1  L'Oreal Paris Glow Mon Amour Highlighting Drop...   \n",
       " 2  The Body Shop All-In-One Face Base - 045 , Mak...   \n",
       " 3  True Elements Sunflower Raw Seeds, Wellness, S...   \n",
       " 4  NykaaÃ‚Â Wonderpuff!Ã‚Â LipÃ‚Â &Ã‚Â CheekÃ‚Â C...   \n",
       " \n",
       "                                     Product Contents  \n",
       " 0                                                NaN  \n",
       " 1  G927637, Cyclopentasiloxane, Dimethicone, Isod...  \n",
       " 2                                                NaN  \n",
       " 3                                Raw Sunflower Seeds  \n",
       " 4                                                NaN  ,\n",
       " None)"
      ]
     },
     "execution_count": 4,
     "metadata": {},
     "output_type": "execute_result"
    }
   ],
   "source": [
    "metadata_df.head(), metadata_df.info()"
   ]
  },
  {
   "cell_type": "code",
   "execution_count": 5,
   "metadata": {},
   "outputs": [
    {
     "data": {
      "text/html": [
       "<div>\n",
       "<style scoped>\n",
       "    .dataframe tbody tr th:only-of-type {\n",
       "        vertical-align: middle;\n",
       "    }\n",
       "\n",
       "    .dataframe tbody tr th {\n",
       "        vertical-align: top;\n",
       "    }\n",
       "\n",
       "    .dataframe thead th {\n",
       "        text-align: right;\n",
       "    }\n",
       "</style>\n",
       "<table border=\"1\" class=\"dataframe\">\n",
       "  <thead>\n",
       "    <tr style=\"text-align: right;\">\n",
       "      <th></th>\n",
       "      <th>User</th>\n",
       "      <th>90001</th>\n",
       "      <th>90002</th>\n",
       "      <th>90003</th>\n",
       "      <th>90004</th>\n",
       "      <th>90005</th>\n",
       "      <th>90006</th>\n",
       "      <th>90007</th>\n",
       "      <th>90008</th>\n",
       "      <th>90009</th>\n",
       "      <th>...</th>\n",
       "      <th>90557</th>\n",
       "      <th>90558</th>\n",
       "      <th>90559</th>\n",
       "      <th>90560</th>\n",
       "      <th>90561</th>\n",
       "      <th>90562</th>\n",
       "      <th>90563</th>\n",
       "      <th>90564</th>\n",
       "      <th>90565</th>\n",
       "      <th>90566</th>\n",
       "    </tr>\n",
       "  </thead>\n",
       "  <tbody>\n",
       "    <tr>\n",
       "      <th>0</th>\n",
       "      <td>Vincent</td>\n",
       "      <td>0</td>\n",
       "      <td>0</td>\n",
       "      <td>0</td>\n",
       "      <td>0</td>\n",
       "      <td>0</td>\n",
       "      <td>0</td>\n",
       "      <td>0</td>\n",
       "      <td>0</td>\n",
       "      <td>0</td>\n",
       "      <td>...</td>\n",
       "      <td>0</td>\n",
       "      <td>0</td>\n",
       "      <td>0</td>\n",
       "      <td>0</td>\n",
       "      <td>0</td>\n",
       "      <td>0</td>\n",
       "      <td>0</td>\n",
       "      <td>0</td>\n",
       "      <td>0</td>\n",
       "      <td>0</td>\n",
       "    </tr>\n",
       "    <tr>\n",
       "      <th>1</th>\n",
       "      <td>Edgar</td>\n",
       "      <td>0</td>\n",
       "      <td>0</td>\n",
       "      <td>0</td>\n",
       "      <td>0</td>\n",
       "      <td>0</td>\n",
       "      <td>0</td>\n",
       "      <td>0</td>\n",
       "      <td>0</td>\n",
       "      <td>0</td>\n",
       "      <td>...</td>\n",
       "      <td>0</td>\n",
       "      <td>0</td>\n",
       "      <td>0</td>\n",
       "      <td>0</td>\n",
       "      <td>0</td>\n",
       "      <td>0</td>\n",
       "      <td>0</td>\n",
       "      <td>0</td>\n",
       "      <td>0</td>\n",
       "      <td>0</td>\n",
       "    </tr>\n",
       "    <tr>\n",
       "      <th>2</th>\n",
       "      <td>Addilyn</td>\n",
       "      <td>0</td>\n",
       "      <td>0</td>\n",
       "      <td>0</td>\n",
       "      <td>0</td>\n",
       "      <td>0</td>\n",
       "      <td>0</td>\n",
       "      <td>0</td>\n",
       "      <td>0</td>\n",
       "      <td>0</td>\n",
       "      <td>...</td>\n",
       "      <td>0</td>\n",
       "      <td>0</td>\n",
       "      <td>0</td>\n",
       "      <td>0</td>\n",
       "      <td>0</td>\n",
       "      <td>0</td>\n",
       "      <td>0</td>\n",
       "      <td>0</td>\n",
       "      <td>0</td>\n",
       "      <td>0</td>\n",
       "    </tr>\n",
       "    <tr>\n",
       "      <th>3</th>\n",
       "      <td>Marlee</td>\n",
       "      <td>0</td>\n",
       "      <td>0</td>\n",
       "      <td>0</td>\n",
       "      <td>0</td>\n",
       "      <td>0</td>\n",
       "      <td>0</td>\n",
       "      <td>0</td>\n",
       "      <td>0</td>\n",
       "      <td>0</td>\n",
       "      <td>...</td>\n",
       "      <td>0</td>\n",
       "      <td>0</td>\n",
       "      <td>0</td>\n",
       "      <td>0</td>\n",
       "      <td>0</td>\n",
       "      <td>0</td>\n",
       "      <td>0</td>\n",
       "      <td>0</td>\n",
       "      <td>0</td>\n",
       "      <td>0</td>\n",
       "    </tr>\n",
       "    <tr>\n",
       "      <th>4</th>\n",
       "      <td>Javier</td>\n",
       "      <td>0</td>\n",
       "      <td>0</td>\n",
       "      <td>0</td>\n",
       "      <td>0</td>\n",
       "      <td>0</td>\n",
       "      <td>0</td>\n",
       "      <td>0</td>\n",
       "      <td>0</td>\n",
       "      <td>0</td>\n",
       "      <td>...</td>\n",
       "      <td>0</td>\n",
       "      <td>0</td>\n",
       "      <td>0</td>\n",
       "      <td>0</td>\n",
       "      <td>0</td>\n",
       "      <td>0</td>\n",
       "      <td>0</td>\n",
       "      <td>0</td>\n",
       "      <td>0</td>\n",
       "      <td>0</td>\n",
       "    </tr>\n",
       "    <tr>\n",
       "      <th>...</th>\n",
       "      <td>...</td>\n",
       "      <td>...</td>\n",
       "      <td>...</td>\n",
       "      <td>...</td>\n",
       "      <td>...</td>\n",
       "      <td>...</td>\n",
       "      <td>...</td>\n",
       "      <td>...</td>\n",
       "      <td>...</td>\n",
       "      <td>...</td>\n",
       "      <td>...</td>\n",
       "      <td>...</td>\n",
       "      <td>...</td>\n",
       "      <td>...</td>\n",
       "      <td>...</td>\n",
       "      <td>...</td>\n",
       "      <td>...</td>\n",
       "      <td>...</td>\n",
       "      <td>...</td>\n",
       "      <td>...</td>\n",
       "      <td>...</td>\n",
       "    </tr>\n",
       "    <tr>\n",
       "      <th>595</th>\n",
       "      <td>Mariana</td>\n",
       "      <td>5</td>\n",
       "      <td>0</td>\n",
       "      <td>0</td>\n",
       "      <td>0</td>\n",
       "      <td>0</td>\n",
       "      <td>0</td>\n",
       "      <td>0</td>\n",
       "      <td>0</td>\n",
       "      <td>0</td>\n",
       "      <td>...</td>\n",
       "      <td>0</td>\n",
       "      <td>0</td>\n",
       "      <td>0</td>\n",
       "      <td>0</td>\n",
       "      <td>0</td>\n",
       "      <td>0</td>\n",
       "      <td>0</td>\n",
       "      <td>0</td>\n",
       "      <td>0</td>\n",
       "      <td>0</td>\n",
       "    </tr>\n",
       "    <tr>\n",
       "      <th>596</th>\n",
       "      <td>Ivy</td>\n",
       "      <td>0</td>\n",
       "      <td>0</td>\n",
       "      <td>0</td>\n",
       "      <td>0</td>\n",
       "      <td>0</td>\n",
       "      <td>0</td>\n",
       "      <td>0</td>\n",
       "      <td>0</td>\n",
       "      <td>0</td>\n",
       "      <td>...</td>\n",
       "      <td>0</td>\n",
       "      <td>0</td>\n",
       "      <td>0</td>\n",
       "      <td>0</td>\n",
       "      <td>0</td>\n",
       "      <td>0</td>\n",
       "      <td>0</td>\n",
       "      <td>0</td>\n",
       "      <td>0</td>\n",
       "      <td>0</td>\n",
       "    </tr>\n",
       "    <tr>\n",
       "      <th>597</th>\n",
       "      <td>Kevin</td>\n",
       "      <td>0</td>\n",
       "      <td>0</td>\n",
       "      <td>0</td>\n",
       "      <td>0</td>\n",
       "      <td>0</td>\n",
       "      <td>0</td>\n",
       "      <td>0</td>\n",
       "      <td>0</td>\n",
       "      <td>0</td>\n",
       "      <td>...</td>\n",
       "      <td>0</td>\n",
       "      <td>0</td>\n",
       "      <td>0</td>\n",
       "      <td>0</td>\n",
       "      <td>0</td>\n",
       "      <td>0</td>\n",
       "      <td>0</td>\n",
       "      <td>0</td>\n",
       "      <td>0</td>\n",
       "      <td>0</td>\n",
       "    </tr>\n",
       "    <tr>\n",
       "      <th>598</th>\n",
       "      <td>Nora</td>\n",
       "      <td>0</td>\n",
       "      <td>0</td>\n",
       "      <td>0</td>\n",
       "      <td>0</td>\n",
       "      <td>0</td>\n",
       "      <td>0</td>\n",
       "      <td>0</td>\n",
       "      <td>0</td>\n",
       "      <td>0</td>\n",
       "      <td>...</td>\n",
       "      <td>0</td>\n",
       "      <td>0</td>\n",
       "      <td>0</td>\n",
       "      <td>0</td>\n",
       "      <td>0</td>\n",
       "      <td>0</td>\n",
       "      <td>0</td>\n",
       "      <td>0</td>\n",
       "      <td>0</td>\n",
       "      <td>0</td>\n",
       "    </tr>\n",
       "    <tr>\n",
       "      <th>599</th>\n",
       "      <td>Sarai</td>\n",
       "      <td>0</td>\n",
       "      <td>0</td>\n",
       "      <td>0</td>\n",
       "      <td>0</td>\n",
       "      <td>0</td>\n",
       "      <td>0</td>\n",
       "      <td>0</td>\n",
       "      <td>0</td>\n",
       "      <td>0</td>\n",
       "      <td>...</td>\n",
       "      <td>0</td>\n",
       "      <td>0</td>\n",
       "      <td>0</td>\n",
       "      <td>0</td>\n",
       "      <td>0</td>\n",
       "      <td>0</td>\n",
       "      <td>0</td>\n",
       "      <td>0</td>\n",
       "      <td>0</td>\n",
       "      <td>0</td>\n",
       "    </tr>\n",
       "  </tbody>\n",
       "</table>\n",
       "<p>600 rows × 567 columns</p>\n",
       "</div>"
      ],
      "text/plain": [
       "        User  90001  90002  90003  90004  90005  90006  90007  90008  90009  \\\n",
       "0    Vincent      0      0      0      0      0      0      0      0      0   \n",
       "1      Edgar      0      0      0      0      0      0      0      0      0   \n",
       "2    Addilyn      0      0      0      0      0      0      0      0      0   \n",
       "3     Marlee      0      0      0      0      0      0      0      0      0   \n",
       "4     Javier      0      0      0      0      0      0      0      0      0   \n",
       "..       ...    ...    ...    ...    ...    ...    ...    ...    ...    ...   \n",
       "595  Mariana      5      0      0      0      0      0      0      0      0   \n",
       "596      Ivy      0      0      0      0      0      0      0      0      0   \n",
       "597    Kevin      0      0      0      0      0      0      0      0      0   \n",
       "598     Nora      0      0      0      0      0      0      0      0      0   \n",
       "599    Sarai      0      0      0      0      0      0      0      0      0   \n",
       "\n",
       "     ...  90557  90558  90559  90560  90561  90562  90563  90564  90565  90566  \n",
       "0    ...      0      0      0      0      0      0      0      0      0      0  \n",
       "1    ...      0      0      0      0      0      0      0      0      0      0  \n",
       "2    ...      0      0      0      0      0      0      0      0      0      0  \n",
       "3    ...      0      0      0      0      0      0      0      0      0      0  \n",
       "4    ...      0      0      0      0      0      0      0      0      0      0  \n",
       "..   ...    ...    ...    ...    ...    ...    ...    ...    ...    ...    ...  \n",
       "595  ...      0      0      0      0      0      0      0      0      0      0  \n",
       "596  ...      0      0      0      0      0      0      0      0      0      0  \n",
       "597  ...      0      0      0      0      0      0      0      0      0      0  \n",
       "598  ...      0      0      0      0      0      0      0      0      0      0  \n",
       "599  ...      0      0      0      0      0      0      0      0      0      0  \n",
       "\n",
       "[600 rows x 567 columns]"
      ]
     },
     "execution_count": 5,
     "metadata": {},
     "output_type": "execute_result"
    }
   ],
   "source": [
    "# LOADING USER REVIEW DATA\n",
    "user_reviewdata= pd.read_excel(\"/Users/rupesh/Desktop/Res/Interviews/Chimp_AI/Data/User_review_data.xlsx\")\n",
    "userdata_df = user_reviewdata.copy()\n",
    "userdata_df"
   ]
  },
  {
   "cell_type": "markdown",
   "metadata": {},
   "source": [
    "<a id=\"2\"></a>  \n",
    "<p style=\"background-color:#2d8077;font-family:newtimeroman;color:#FFF9ED;font-size:120%;text-align:center;border-radius:10px 10px;\"> DATA UNDERSTANDING</p>\n",
    "\n",
    "#### **Makup Products Metadata:**\n",
    "#### Makup Products Metadata consists of 566 Rows & 8 Columns which are as follows :\n",
    "\n",
    "- Product ID: A unique identifier for each product.\n",
    "- Product Category: The category to which the product belongs, often including a hierarchy (e.g., Makeup > Face > Contour).\n",
    "- Product Brand: The brand of the product.\n",
    "- Product Name: The name of the product.\n",
    "- Product Price [SEK]: The price of the product in Swedish Krona.\n",
    "- Product Description: A detailed description of the product.\n",
    "- Product Tags: Tags associated with the product for easier search and categorization.\n",
    "- Product Contents: Ingredients or contents of the product, if applicable.\n",
    "\n",
    "\n",
    "#### **User Review Data:**\n",
    "#### User review data consists of 600 Rows & 567 Columns:\n",
    "\n",
    "- User names: Customer name\n",
    "- Followed by columns named after product IDs (e.g., 90001, 90002, ..., up to 90566).\n",
    "\n"
   ]
  },
  {
   "cell_type": "markdown",
   "metadata": {},
   "source": [
    "<a id=\"2.1\"></a>\n",
    "## <b>2.1<span style='color:#de9e46'> Get information on the data</span></b>"
   ]
  },
  {
   "cell_type": "code",
   "execution_count": 6,
   "metadata": {},
   "outputs": [
    {
     "name": "stdout",
     "output_type": "stream",
     "text": [
      "<class 'pandas.core.frame.DataFrame'>\n",
      "RangeIndex: 566 entries, 0 to 565\n",
      "Data columns (total 8 columns):\n",
      " #   Column               Non-Null Count  Dtype  \n",
      "---  ------               --------------  -----  \n",
      " 0   Product ID           566 non-null    int64  \n",
      " 1   Product Category     566 non-null    object \n",
      " 2   Product Brand        566 non-null    object \n",
      " 3   Product Name         566 non-null    object \n",
      " 4   Product Price [SEK]  566 non-null    float64\n",
      " 5   Product Description  566 non-null    object \n",
      " 6   Product Tags         523 non-null    object \n",
      " 7   Product Contents     259 non-null    object \n",
      "dtypes: float64(1), int64(1), object(6)\n",
      "memory usage: 35.5+ KB\n"
     ]
    }
   ],
   "source": [
    "metadata_df.info()"
   ]
  },
  {
   "cell_type": "code",
   "execution_count": 7,
   "metadata": {},
   "outputs": [
    {
     "name": "stdout",
     "output_type": "stream",
     "text": [
      "<class 'pandas.core.frame.DataFrame'>\n",
      "RangeIndex: 600 entries, 0 to 599\n",
      "Columns: 567 entries, User to 90566\n",
      "dtypes: int64(566), object(1)\n",
      "memory usage: 2.6+ MB\n"
     ]
    }
   ],
   "source": [
    "userdata_df.info()"
   ]
  },
  {
   "cell_type": "markdown",
   "metadata": {},
   "source": [
    "<a id=\"2.2\"></a>\n",
    "## <b>2.2 <span style='color:#de9e46'> Conducting summary statistics</span></b>"
   ]
  },
  {
   "cell_type": "code",
   "execution_count": 8,
   "metadata": {},
   "outputs": [
    {
     "data": {
      "text/plain": [
       "Product ID               0\n",
       "Product Category         0\n",
       "Product Brand            0\n",
       "Product Name             0\n",
       "Product Price [SEK]      0\n",
       "Product Description      0\n",
       "Product Tags            43\n",
       "Product Contents       307\n",
       "dtype: int64"
      ]
     },
     "execution_count": 8,
     "metadata": {},
     "output_type": "execute_result"
    }
   ],
   "source": [
    "metadata_df.isnull().sum()"
   ]
  },
  {
   "cell_type": "code",
   "execution_count": 9,
   "metadata": {},
   "outputs": [
    {
     "data": {
      "text/plain": [
       "User     0\n",
       "90001    0\n",
       "90002    0\n",
       "90003    0\n",
       "90004    0\n",
       "        ..\n",
       "90562    0\n",
       "90563    0\n",
       "90564    0\n",
       "90565    0\n",
       "90566    0\n",
       "Length: 567, dtype: int64"
      ]
     },
     "execution_count": 9,
     "metadata": {},
     "output_type": "execute_result"
    }
   ],
   "source": [
    "userdata_df.isnull().sum()"
   ]
  },
  {
   "cell_type": "markdown",
   "metadata": {},
   "source": [
    "<a id=\"2.3\"></a>\n",
    "## <b>2.3 <span style='color:#de9e46'> Taking care of Null values in Makeup Metadata</span></b>"
   ]
  },
  {
   "cell_type": "code",
   "execution_count": 10,
   "metadata": {},
   "outputs": [
    {
     "data": {
      "text/html": [
       "<div>\n",
       "<style scoped>\n",
       "    .dataframe tbody tr th:only-of-type {\n",
       "        vertical-align: middle;\n",
       "    }\n",
       "\n",
       "    .dataframe tbody tr th {\n",
       "        vertical-align: top;\n",
       "    }\n",
       "\n",
       "    .dataframe thead th {\n",
       "        text-align: right;\n",
       "    }\n",
       "</style>\n",
       "<table border=\"1\" class=\"dataframe\">\n",
       "  <thead>\n",
       "    <tr style=\"text-align: right;\">\n",
       "      <th></th>\n",
       "      <th>Product ID</th>\n",
       "      <th>Product Category</th>\n",
       "      <th>Product Brand</th>\n",
       "      <th>Product Name</th>\n",
       "      <th>Product Price [SEK]</th>\n",
       "      <th>Product Description</th>\n",
       "      <th>Product Tags</th>\n",
       "      <th>Product Contents</th>\n",
       "    </tr>\n",
       "  </thead>\n",
       "  <tbody>\n",
       "    <tr>\n",
       "      <th>0</th>\n",
       "      <td>90001</td>\n",
       "      <td>Makeup &gt; Face &gt; Contour</td>\n",
       "      <td>ETUDE HOUSE</td>\n",
       "      <td>ETUDE HOUSE Face Color Shading - 02</td>\n",
       "      <td>120.0</td>\n",
       "      <td>etude house face color shading provides a shad...</td>\n",
       "      <td>etude house face color shading 02 makeup face ...</td>\n",
       "      <td>not available</td>\n",
       "    </tr>\n",
       "    <tr>\n",
       "      <th>1</th>\n",
       "      <td>90002</td>\n",
       "      <td>Brand &gt; L'Oreal Paris</td>\n",
       "      <td>L'Oreal Paris</td>\n",
       "      <td>L'Oreal Paris Glow Mon Amour Highlighting Drop...</td>\n",
       "      <td>90.8</td>\n",
       "      <td>its time to skip the snooze button and get up ...</td>\n",
       "      <td>loreal paris glow mon amour highlighting drops...</td>\n",
       "      <td>g927637 cyclopentasiloxane dimethicone isodode...</td>\n",
       "    </tr>\n",
       "    <tr>\n",
       "      <th>2</th>\n",
       "      <td>90003</td>\n",
       "      <td>Makeup &gt; Face &gt; Foundation</td>\n",
       "      <td>The Body Shop</td>\n",
       "      <td>The Body Shop All-In-One Face Base - 045</td>\n",
       "      <td>279.0</td>\n",
       "      <td>note the body shop products will be dispatched...</td>\n",
       "      <td>the body shop allinone face base 045 makeup face</td>\n",
       "      <td>not available</td>\n",
       "    </tr>\n",
       "    <tr>\n",
       "      <th>3</th>\n",
       "      <td>90004</td>\n",
       "      <td>Health &amp; Wellness &gt; Good for You &gt; Super Food</td>\n",
       "      <td>True Elements</td>\n",
       "      <td>True Elements Sunflower Raw Seeds</td>\n",
       "      <td>35.0</td>\n",
       "      <td>sunflower has always been admired for its beau...</td>\n",
       "      <td>true elements sunflower raw seeds wellness sho...</td>\n",
       "      <td>raw sunflower seeds</td>\n",
       "    </tr>\n",
       "    <tr>\n",
       "      <th>4</th>\n",
       "      <td>90005</td>\n",
       "      <td>Makeup &gt; Lips &gt; Lip Stain</td>\n",
       "      <td>Nykaa Cosmetics</td>\n",
       "      <td>Nykaa Wonderpuff Cushion Liquid Lipstick - Wer...</td>\n",
       "      <td>107.8</td>\n",
       "      <td>its no secret that a good lippie is a real moo...</td>\n",
       "      <td>nykaaã‚â wonderpuffã‚â lipã‚â ã‚â cheekã‚â cus...</td>\n",
       "      <td>not available</td>\n",
       "    </tr>\n",
       "    <tr>\n",
       "      <th>5</th>\n",
       "      <td>90006</td>\n",
       "      <td>Natural &gt; Shop By Concern &gt; Acne Treatment</td>\n",
       "      <td>HealthVit</td>\n",
       "      <td>HealthVit Activated Charcoal Powder</td>\n",
       "      <td>49.8</td>\n",
       "      <td>experience the goodness of pure activated char...</td>\n",
       "      <td>healthvit activated charcoal powder 250gm well...</td>\n",
       "      <td>not available</td>\n",
       "    </tr>\n",
       "    <tr>\n",
       "      <th>6</th>\n",
       "      <td>90007</td>\n",
       "      <td>Brand &gt; Nivea</td>\n",
       "      <td>Nivea</td>\n",
       "      <td>NIVEA Body Lotion Oil in Lotion Rose &amp; Argan O...</td>\n",
       "      <td>52.0</td>\n",
       "      <td>indulge in the goodness of natural oils in a f...</td>\n",
       "      <td>nivea oil in lotion rose argan oil skin body l...</td>\n",
       "      <td>aqua glycerin dicaprylyl ether alcohol denat g...</td>\n",
       "    </tr>\n",
       "    <tr>\n",
       "      <th>7</th>\n",
       "      <td>90008</td>\n",
       "      <td>Natural &gt; Skin &gt; Face Wash</td>\n",
       "      <td>Lotus Herbals</td>\n",
       "      <td>Lotus Herbals Whiteglow Activated Charcoal Bri...</td>\n",
       "      <td>28.0</td>\n",
       "      <td>lotus herbals whiteglow activated charcoal bri...</td>\n",
       "      <td>lotus herbals whiteglow activated charcoal bri...</td>\n",
       "      <td>key ingredientsactivated charcoal coconut shel...</td>\n",
       "    </tr>\n",
       "    <tr>\n",
       "      <th>8</th>\n",
       "      <td>90009</td>\n",
       "      <td>Mom &amp; Baby &gt; Maternity Wear &gt; Maternity Bra</td>\n",
       "      <td>Floret</td>\n",
       "      <td>Floret Pack of 2 Full-Coverage Maternity Bras ...</td>\n",
       "      <td>151.6</td>\n",
       "      <td>product color multicolorpack of two fullcovera...</td>\n",
       "      <td>floret pack of 2 fullcoverage maternity bras m...</td>\n",
       "      <td>not available</td>\n",
       "    </tr>\n",
       "    <tr>\n",
       "      <th>9</th>\n",
       "      <td>90010</td>\n",
       "      <td>Mom &amp; Baby &gt; Maternity Wear &gt; Maternity Bra</td>\n",
       "      <td>Inner Sense</td>\n",
       "      <td>Inner Sense Organic Antimicrobial Soft Nursing...</td>\n",
       "      <td>449.4</td>\n",
       "      <td>product color multicolor its better for you an...</td>\n",
       "      <td>inner sense organic antimicrobial soft nursing...</td>\n",
       "      <td>not available</td>\n",
       "    </tr>\n",
       "    <tr>\n",
       "      <th>10</th>\n",
       "      <td>90011</td>\n",
       "      <td>Makeup &gt; Face &gt; Concealer</td>\n",
       "      <td>Smashbox</td>\n",
       "      <td>Smashbox Color Correcting Stick - Look Less Ti...</td>\n",
       "      <td>418.0</td>\n",
       "      <td>these creamy colorcorrecting sticks camouflage...</td>\n",
       "      <td>smashbox color correcting stick look less tire...</td>\n",
       "      <td>formulated without parabens sodium lauryl sulf...</td>\n",
       "    </tr>\n",
       "    <tr>\n",
       "      <th>11</th>\n",
       "      <td>90012</td>\n",
       "      <td>Personal Care &gt; Face &gt; Moisturizer</td>\n",
       "      <td>Nivea</td>\n",
       "      <td>NIVEA Creme - All Season Multi Purpose Cream</td>\n",
       "      <td>35.0</td>\n",
       "      <td>introduction pamper your skin with the trusted...</td>\n",
       "      <td>nivea creme</td>\n",
       "      <td>not available</td>\n",
       "    </tr>\n",
       "    <tr>\n",
       "      <th>12</th>\n",
       "      <td>90013</td>\n",
       "      <td>Skin &gt; Body Care &gt; Lotions &amp; Creams</td>\n",
       "      <td>Vaseline</td>\n",
       "      <td>Vaseline Ice Cool Hydration Lotion</td>\n",
       "      <td>42.0</td>\n",
       "      <td>explore the entire range of lotions creams ava...</td>\n",
       "      <td>vaseline ice cool hydration lotion skin body c...</td>\n",
       "      <td>key ingredients glycerin niacinamide</td>\n",
       "    </tr>\n",
       "    <tr>\n",
       "      <th>13</th>\n",
       "      <td>90014</td>\n",
       "      <td>Makeup &gt; Lips &gt; Liquid Lipstick</td>\n",
       "      <td>Lime Crime</td>\n",
       "      <td>Lime Crime Velvetines Liquid Matte Lipstick - ...</td>\n",
       "      <td>380.0</td>\n",
       "      <td>inspired by the ã¢â‚¬ëœbloomã¢â‚¬â„¢ of rose p...</td>\n",
       "      <td>lime crime velvetines liquid matte lipstick re...</td>\n",
       "      <td>isododecane cyclopentasiloxane trimethylsiloxy...</td>\n",
       "    </tr>\n",
       "    <tr>\n",
       "      <th>14</th>\n",
       "      <td>90015</td>\n",
       "      <td>Makeup &gt; Lips &gt; Lip Balm</td>\n",
       "      <td>Maybelline New York</td>\n",
       "      <td>Maybelline New York Alia Loves New York Baby L...</td>\n",
       "      <td>35.0</td>\n",
       "      <td>alia brings you the best of the city she loves...</td>\n",
       "      <td>maybelline new york alia loves new york baby l...</td>\n",
       "      <td>not available</td>\n",
       "    </tr>\n",
       "    <tr>\n",
       "      <th>15</th>\n",
       "      <td>90016</td>\n",
       "      <td>NFBA 2020 Nominees Online Sale</td>\n",
       "      <td>Bobbi Brown</td>\n",
       "      <td>Bobbi Brown Crushed Liquid Lip Color - Big Apple</td>\n",
       "      <td>360.0</td>\n",
       "      <td>what it isã‚â the look of a liquid lipstick me...</td>\n",
       "      <td>no tags</td>\n",
       "      <td>not available</td>\n",
       "    </tr>\n",
       "    <tr>\n",
       "      <th>16</th>\n",
       "      <td>90017</td>\n",
       "      <td>Hair &gt; Shop By Concern &gt; Dry &amp; Frizzy Hair</td>\n",
       "      <td>CADIVEU</td>\n",
       "      <td>Cadiveu Brasil Cacau Brazilian Thermal Reconst...</td>\n",
       "      <td>1400.0</td>\n",
       "      <td>cadiveu professional brasil cacau brazilian th...</td>\n",
       "      <td>cadiveu brasil cacau brazilian thermal reconst...</td>\n",
       "      <td>water propylene glycol cetyl alcohol paraffinu...</td>\n",
       "    </tr>\n",
       "    <tr>\n",
       "      <th>17</th>\n",
       "      <td>90018</td>\n",
       "      <td>Makeup &gt; Face &gt; Foundation</td>\n",
       "      <td>Street Wear</td>\n",
       "      <td>Street Wear Foundation - Deep</td>\n",
       "      <td>64.0</td>\n",
       "      <td>street wear foundations weightless formula tru...</td>\n",
       "      <td>street wear foundation deep makeup face founda...</td>\n",
       "      <td>not available</td>\n",
       "    </tr>\n",
       "    <tr>\n",
       "      <th>18</th>\n",
       "      <td>90019</td>\n",
       "      <td>Luxe &gt; Fragrance &gt; Perfumes (EDP/EDT)</td>\n",
       "      <td>Versace</td>\n",
       "      <td>Versace Eros Pour Femme Eau De Toilette</td>\n",
       "      <td>654.6</td>\n",
       "      <td>sourced from parcos the official brand partner...</td>\n",
       "      <td>versace eros pour femme edt natural spray nyka...</td>\n",
       "      <td>not available</td>\n",
       "    </tr>\n",
       "    <tr>\n",
       "      <th>19</th>\n",
       "      <td>90020</td>\n",
       "      <td>Makeup &gt; Face &gt; Concealer</td>\n",
       "      <td>MyGlamm</td>\n",
       "      <td>MyGlamm Twin Faced Concealer - Toffee Dusky</td>\n",
       "      <td>159.0</td>\n",
       "      <td>this twin faced concealer by myglamm is an oil...</td>\n",
       "      <td>myglamm twin faced concealer toffee dusky make...</td>\n",
       "      <td>ricinus communis seed oil ethylhexyl palmitate...</td>\n",
       "    </tr>\n",
       "    <tr>\n",
       "      <th>20</th>\n",
       "      <td>90021</td>\n",
       "      <td>Personal Care &gt; Hands &amp; Feet &gt; Hand Creams</td>\n",
       "      <td>L'Occitane</td>\n",
       "      <td>L'Occitane Pivoine Flora Hand Cream</td>\n",
       "      <td>150.0</td>\n",
       "      <td>loccitane pivoine flora hand cream is enriched...</td>\n",
       "      <td>loccitane pivoine flora hand cream nykaa luxe ...</td>\n",
       "      <td>not available</td>\n",
       "    </tr>\n",
       "    <tr>\n",
       "      <th>21</th>\n",
       "      <td>90022</td>\n",
       "      <td>Men's Store &gt; Shop By Concern &gt; Anti Acne</td>\n",
       "      <td>Red Hunt</td>\n",
       "      <td>Red Hunt Fairness Face Wash For Men</td>\n",
       "      <td>16.0</td>\n",
       "      <td>get set glow it gives you a bright and glowing...</td>\n",
       "      <td>red hunt fairness face wash for men natural sk...</td>\n",
       "      <td>not available</td>\n",
       "    </tr>\n",
       "    <tr>\n",
       "      <th>22</th>\n",
       "      <td>90023</td>\n",
       "      <td>Mom &amp; Baby &gt; Baby Care &gt; Wipes &amp; Buds</td>\n",
       "      <td>Himalaya</td>\n",
       "      <td>Himalaya Gentle Baby Wipes 12's</td>\n",
       "      <td>8.8</td>\n",
       "      <td>clean your babys skin with utmost gentleness u...</td>\n",
       "      <td>no tags</td>\n",
       "      <td>not available</td>\n",
       "    </tr>\n",
       "    <tr>\n",
       "      <th>23</th>\n",
       "      <td>90024</td>\n",
       "      <td>Health &amp; Wellness &gt; Sports Nutrition &gt; Pre Wor...</td>\n",
       "      <td>As-It-Is Nutrition</td>\n",
       "      <td>As-It-Is Nutrition Pure Creatine Monohydrate</td>\n",
       "      <td>84.2</td>\n",
       "      <td>asitis nutrition pure creatine monohydrate is ...</td>\n",
       "      <td>asitis nutrition pure creatine monohydrate wel...</td>\n",
       "      <td>creatine</td>\n",
       "    </tr>\n",
       "    <tr>\n",
       "      <th>24</th>\n",
       "      <td>90025</td>\n",
       "      <td>Skin &gt; Shop By Concern &gt; Skin Brightening</td>\n",
       "      <td>Beeone</td>\n",
       "      <td>Beeone Diamond Facial Kit 312gm</td>\n",
       "      <td>167.0</td>\n",
       "      <td>introducing a complete facial with diamond bha...</td>\n",
       "      <td>beeone diamond facial kit 312gm skin kits comb...</td>\n",
       "      <td>not available</td>\n",
       "    </tr>\n",
       "  </tbody>\n",
       "</table>\n",
       "</div>"
      ],
      "text/plain": [
       "    Product ID                                   Product Category  \\\n",
       "0        90001                            Makeup > Face > Contour   \n",
       "1        90002                              Brand > L'Oreal Paris   \n",
       "2        90003                         Makeup > Face > Foundation   \n",
       "3        90004      Health & Wellness > Good for You > Super Food   \n",
       "4        90005                          Makeup > Lips > Lip Stain   \n",
       "5        90006         Natural > Shop By Concern > Acne Treatment   \n",
       "6        90007                                      Brand > Nivea   \n",
       "7        90008                         Natural > Skin > Face Wash   \n",
       "8        90009        Mom & Baby > Maternity Wear > Maternity Bra   \n",
       "9        90010        Mom & Baby > Maternity Wear > Maternity Bra   \n",
       "10       90011                          Makeup > Face > Concealer   \n",
       "11       90012                 Personal Care > Face > Moisturizer   \n",
       "12       90013                Skin > Body Care > Lotions & Creams   \n",
       "13       90014                    Makeup > Lips > Liquid Lipstick   \n",
       "14       90015                           Makeup > Lips > Lip Balm   \n",
       "15       90016                     NFBA 2020 Nominees Online Sale   \n",
       "16       90017         Hair > Shop By Concern > Dry & Frizzy Hair   \n",
       "17       90018                         Makeup > Face > Foundation   \n",
       "18       90019              Luxe > Fragrance > Perfumes (EDP/EDT)   \n",
       "19       90020                          Makeup > Face > Concealer   \n",
       "20       90021         Personal Care > Hands & Feet > Hand Creams   \n",
       "21       90022          Men's Store > Shop By Concern > Anti Acne   \n",
       "22       90023              Mom & Baby > Baby Care > Wipes & Buds   \n",
       "23       90024  Health & Wellness > Sports Nutrition > Pre Wor...   \n",
       "24       90025          Skin > Shop By Concern > Skin Brightening   \n",
       "\n",
       "          Product Brand                                       Product Name  \\\n",
       "0           ETUDE HOUSE                ETUDE HOUSE Face Color Shading - 02   \n",
       "1         L'Oreal Paris  L'Oreal Paris Glow Mon Amour Highlighting Drop...   \n",
       "2         The Body Shop           The Body Shop All-In-One Face Base - 045   \n",
       "3         True Elements                  True Elements Sunflower Raw Seeds   \n",
       "4       Nykaa Cosmetics  Nykaa Wonderpuff Cushion Liquid Lipstick - Wer...   \n",
       "5             HealthVit                HealthVit Activated Charcoal Powder   \n",
       "6                 Nivea  NIVEA Body Lotion Oil in Lotion Rose & Argan O...   \n",
       "7         Lotus Herbals  Lotus Herbals Whiteglow Activated Charcoal Bri...   \n",
       "8                Floret  Floret Pack of 2 Full-Coverage Maternity Bras ...   \n",
       "9           Inner Sense  Inner Sense Organic Antimicrobial Soft Nursing...   \n",
       "10             Smashbox  Smashbox Color Correcting Stick - Look Less Ti...   \n",
       "11                Nivea       NIVEA Creme - All Season Multi Purpose Cream   \n",
       "12             Vaseline                 Vaseline Ice Cool Hydration Lotion   \n",
       "13           Lime Crime  Lime Crime Velvetines Liquid Matte Lipstick - ...   \n",
       "14  Maybelline New York  Maybelline New York Alia Loves New York Baby L...   \n",
       "15          Bobbi Brown   Bobbi Brown Crushed Liquid Lip Color - Big Apple   \n",
       "16              CADIVEU  Cadiveu Brasil Cacau Brazilian Thermal Reconst...   \n",
       "17          Street Wear                      Street Wear Foundation - Deep   \n",
       "18              Versace            Versace Eros Pour Femme Eau De Toilette   \n",
       "19              MyGlamm        MyGlamm Twin Faced Concealer - Toffee Dusky   \n",
       "20           L'Occitane                L'Occitane Pivoine Flora Hand Cream   \n",
       "21             Red Hunt                Red Hunt Fairness Face Wash For Men   \n",
       "22             Himalaya                    Himalaya Gentle Baby Wipes 12's   \n",
       "23   As-It-Is Nutrition       As-It-Is Nutrition Pure Creatine Monohydrate   \n",
       "24               Beeone                    Beeone Diamond Facial Kit 312gm   \n",
       "\n",
       "    Product Price [SEK]                                Product Description  \\\n",
       "0                 120.0  etude house face color shading provides a shad...   \n",
       "1                  90.8  its time to skip the snooze button and get up ...   \n",
       "2                 279.0  note the body shop products will be dispatched...   \n",
       "3                  35.0  sunflower has always been admired for its beau...   \n",
       "4                 107.8  its no secret that a good lippie is a real moo...   \n",
       "5                  49.8  experience the goodness of pure activated char...   \n",
       "6                  52.0  indulge in the goodness of natural oils in a f...   \n",
       "7                  28.0  lotus herbals whiteglow activated charcoal bri...   \n",
       "8                 151.6  product color multicolorpack of two fullcovera...   \n",
       "9                 449.4  product color multicolor its better for you an...   \n",
       "10                418.0  these creamy colorcorrecting sticks camouflage...   \n",
       "11                 35.0  introduction pamper your skin with the trusted...   \n",
       "12                 42.0  explore the entire range of lotions creams ava...   \n",
       "13                380.0  inspired by the ã¢â‚¬ëœbloomã¢â‚¬â„¢ of rose p...   \n",
       "14                 35.0  alia brings you the best of the city she loves...   \n",
       "15                360.0  what it isã‚â the look of a liquid lipstick me...   \n",
       "16               1400.0  cadiveu professional brasil cacau brazilian th...   \n",
       "17                 64.0  street wear foundations weightless formula tru...   \n",
       "18                654.6  sourced from parcos the official brand partner...   \n",
       "19                159.0  this twin faced concealer by myglamm is an oil...   \n",
       "20                150.0  loccitane pivoine flora hand cream is enriched...   \n",
       "21                 16.0  get set glow it gives you a bright and glowing...   \n",
       "22                  8.8  clean your babys skin with utmost gentleness u...   \n",
       "23                 84.2  asitis nutrition pure creatine monohydrate is ...   \n",
       "24                167.0  introducing a complete facial with diamond bha...   \n",
       "\n",
       "                                         Product Tags  \\\n",
       "0   etude house face color shading 02 makeup face ...   \n",
       "1   loreal paris glow mon amour highlighting drops...   \n",
       "2    the body shop allinone face base 045 makeup face   \n",
       "3   true elements sunflower raw seeds wellness sho...   \n",
       "4   nykaaã‚â wonderpuffã‚â lipã‚â ã‚â cheekã‚â cus...   \n",
       "5   healthvit activated charcoal powder 250gm well...   \n",
       "6   nivea oil in lotion rose argan oil skin body l...   \n",
       "7   lotus herbals whiteglow activated charcoal bri...   \n",
       "8   floret pack of 2 fullcoverage maternity bras m...   \n",
       "9   inner sense organic antimicrobial soft nursing...   \n",
       "10  smashbox color correcting stick look less tire...   \n",
       "11                                        nivea creme   \n",
       "12  vaseline ice cool hydration lotion skin body c...   \n",
       "13  lime crime velvetines liquid matte lipstick re...   \n",
       "14  maybelline new york alia loves new york baby l...   \n",
       "15                                            no tags   \n",
       "16  cadiveu brasil cacau brazilian thermal reconst...   \n",
       "17  street wear foundation deep makeup face founda...   \n",
       "18  versace eros pour femme edt natural spray nyka...   \n",
       "19  myglamm twin faced concealer toffee dusky make...   \n",
       "20  loccitane pivoine flora hand cream nykaa luxe ...   \n",
       "21  red hunt fairness face wash for men natural sk...   \n",
       "22                                            no tags   \n",
       "23  asitis nutrition pure creatine monohydrate wel...   \n",
       "24  beeone diamond facial kit 312gm skin kits comb...   \n",
       "\n",
       "                                     Product Contents  \n",
       "0                                       not available  \n",
       "1   g927637 cyclopentasiloxane dimethicone isodode...  \n",
       "2                                       not available  \n",
       "3                                 raw sunflower seeds  \n",
       "4                                       not available  \n",
       "5                                       not available  \n",
       "6   aqua glycerin dicaprylyl ether alcohol denat g...  \n",
       "7   key ingredientsactivated charcoal coconut shel...  \n",
       "8                                       not available  \n",
       "9                                       not available  \n",
       "10  formulated without parabens sodium lauryl sulf...  \n",
       "11                                      not available  \n",
       "12               key ingredients glycerin niacinamide  \n",
       "13  isododecane cyclopentasiloxane trimethylsiloxy...  \n",
       "14                                      not available  \n",
       "15                                      not available  \n",
       "16  water propylene glycol cetyl alcohol paraffinu...  \n",
       "17                                      not available  \n",
       "18                                      not available  \n",
       "19  ricinus communis seed oil ethylhexyl palmitate...  \n",
       "20                                      not available  \n",
       "21                                      not available  \n",
       "22                                      not available  \n",
       "23                                           creatine  \n",
       "24                                      not available  "
      ]
     },
     "execution_count": 10,
     "metadata": {},
     "output_type": "execute_result"
    }
   ],
   "source": [
    "from string import punctuation\n",
    "\n",
    "# Define a function to normalize text\n",
    "def normalize_text(text):\n",
    "    # Convert text to lowercase\n",
    "    text = text.lower()\n",
    "    # Remove punctuation\n",
    "    text = ''.join([char for char in text if char not in punctuation])\n",
    "    # Remove extra spaces\n",
    "    text = ' '.join(text.split())\n",
    "    return text\n",
    "\n",
    "# Apply text normalization to the 'Product Description' column\n",
    "metadata_df['Product Description'] = metadata_df['Product Description'].apply(normalize_text)\n",
    "\n",
    "# Fill missing values in 'Product Tags' and 'Product Contents'\n",
    "metadata_df['Product Tags'] = metadata_df['Product Tags'].fillna('No Tags').apply(normalize_text)\n",
    "metadata_df['Product Contents'] = metadata_df['Product Contents'].fillna('Not Available').apply(normalize_text)\n",
    "\n",
    "# Display the first few rows of the updated dataframe to verify changes\n",
    "metadata_df.head(25)\n"
   ]
  },
  {
   "cell_type": "code",
   "execution_count": 11,
   "metadata": {},
   "outputs": [
    {
     "data": {
      "text/plain": [
       "(Product ID             0\n",
       " Product Category       0\n",
       " Product Brand          0\n",
       " Product Name           0\n",
       " Product Price [SEK]    0\n",
       " Product Description    0\n",
       " Product Tags           0\n",
       " Product Contents       0\n",
       " dtype: int64,\n",
       " Product ID             0\n",
       " Product Category       0\n",
       " Product Brand          0\n",
       " Product Name           0\n",
       " Product Price [SEK]    0\n",
       " Product Description    0\n",
       " Product Tags           0\n",
       " Product Contents       0\n",
       " dtype: int64)"
      ]
     },
     "execution_count": 11,
     "metadata": {},
     "output_type": "execute_result"
    }
   ],
   "source": [
    "# Check for null values across the entire dataset, focusing on 'Product Category' and others\n",
    "null_values_summary = metadata_df.isnull().sum()\n",
    "\n",
    "# Re-apply missing value handling for 'Product Category' if missed previously\n",
    "# This time, ensuring we accurately fill any discovered nulls\n",
    "if 'Product Category' in null_values_summary and null_values_summary['Product Category'] > 0:\n",
    "    metadata_df['Product Category'] = metadata_df['Product Category'].fillna('Category Not Specified')\n",
    "\n",
    "# Update summary after handling\n",
    "updated_null_values_summary = metadata_df.isnull().sum()\n",
    "\n",
    "null_values_summary, updated_null_values_summary\n"
   ]
  },
  {
   "cell_type": "markdown",
   "metadata": {},
   "source": [
    "<a id=\"3\"></a>\n",
    "<p style=\"background-color:#2d8077;font-family:newtimeroman;color:#FFF9ED;font-size:120%;text-align:center;border-radius:10px 10px;\"> DATA PREPARATION</p>"
   ]
  },
  {
   "cell_type": "markdown",
   "metadata": {},
   "source": [
    "<a id=\"3.1\"></a>\n",
    "## <b>3.1 <span style='color:#de9e46'> Taking care of \"Null\" string present in Metadata</span></b>"
   ]
  },
  {
   "cell_type": "code",
   "execution_count": 12,
   "metadata": {},
   "outputs": [
    {
     "data": {
      "text/plain": [
       "{'Product Category': [45,\n",
       "  47,\n",
       "  75,\n",
       "  77,\n",
       "  80,\n",
       "  81,\n",
       "  82,\n",
       "  89,\n",
       "  91,\n",
       "  95,\n",
       "  104,\n",
       "  113,\n",
       "  125,\n",
       "  139,\n",
       "  141,\n",
       "  149,\n",
       "  153,\n",
       "  154,\n",
       "  156,\n",
       "  162,\n",
       "  167,\n",
       "  172,\n",
       "  176,\n",
       "  188,\n",
       "  193,\n",
       "  196,\n",
       "  200,\n",
       "  205,\n",
       "  208,\n",
       "  210,\n",
       "  215,\n",
       "  218,\n",
       "  222,\n",
       "  223,\n",
       "  235,\n",
       "  244,\n",
       "  246,\n",
       "  251,\n",
       "  263,\n",
       "  272,\n",
       "  274,\n",
       "  284,\n",
       "  290,\n",
       "  299,\n",
       "  345,\n",
       "  353,\n",
       "  355,\n",
       "  364,\n",
       "  370,\n",
       "  371,\n",
       "  372,\n",
       "  383,\n",
       "  385,\n",
       "  388,\n",
       "  393,\n",
       "  400,\n",
       "  417,\n",
       "  418,\n",
       "  423,\n",
       "  433,\n",
       "  436,\n",
       "  459,\n",
       "  473,\n",
       "  474,\n",
       "  494,\n",
       "  497,\n",
       "  505,\n",
       "  508,\n",
       "  509,\n",
       "  512,\n",
       "  525,\n",
       "  547,\n",
       "  561]}"
      ]
     },
     "execution_count": 12,
     "metadata": {},
     "output_type": "execute_result"
    }
   ],
   "source": [
    "# Define a function to detect \"Null\" strings in a dataframe\n",
    "def detect_null_strings(df):\n",
    "    contains_null_string = {}\n",
    "    for column in df.columns:\n",
    "        # Check for various capitalization forms of \"Null\"\n",
    "        null_string_mask = df[column].astype(str).str.lower().isin([\"null\", \"n/a\", \"na\", \"none\"])\n",
    "        if null_string_mask.any():\n",
    "            contains_null_string[column] = df[null_string_mask].index.tolist()\n",
    "    return contains_null_string\n",
    "\n",
    "# Apply the function to the output dataframe\n",
    "null_string_occurrences = detect_null_strings(metadata_df)\n",
    "\n",
    "null_string_occurrences\n"
   ]
  },
  {
   "cell_type": "markdown",
   "metadata": {},
   "source": [
    "<a id=\"3.2\"></a>\n",
    "## <b>3.2 <span style='color:#de9e46'> Replacing \"null\" values in Product Category with \"Category Not Specified\" </span></b>"
   ]
  },
  {
   "cell_type": "code",
   "execution_count": 13,
   "metadata": {},
   "outputs": [
    {
     "data": {
      "text/plain": [
       "(array(['makeup > face > contour', \"brand > l'oreal paris\",\n",
       "        'makeup > face > foundation',\n",
       "        'health & wellness > good for you > super food',\n",
       "        'makeup > lips > lip stain',\n",
       "        'natural > shop by concern > acne treatment', 'brand > nivea',\n",
       "        'natural > skin > face wash',\n",
       "        'mom & baby > maternity wear > maternity bra',\n",
       "        'makeup > face > concealer'], dtype=object),\n",
       " 169)"
      ]
     },
     "execution_count": 13,
     "metadata": {},
     "output_type": "execute_result"
    }
   ],
   "source": [
    "metadata_original_df = metadata_df\n",
    "# Replace \"null\" string values in 'Product Category' with \"Category Not Specified\"\n",
    "metadata_original_df['Product Category'] = metadata_original_df['Product Category'].astype(str).str.lower().replace([\"null\", \"n/a\", \"na\", \"none\"], \"category not specified\")\n",
    "\n",
    "# Verify the replacement by checking the unique values in 'Product Category' to ensure \"null\" strings are replaced\n",
    "updated_categories = metadata_original_df['Product Category'].unique()\n",
    "\n",
    "# Check the first few updated categories to ensure correctness of the replacement\n",
    "updated_categories[:10], len(updated_categories)\n"
   ]
  },
  {
   "cell_type": "code",
   "execution_count": 14,
   "metadata": {},
   "outputs": [
    {
     "data": {
      "text/html": [
       "<div>\n",
       "<style scoped>\n",
       "    .dataframe tbody tr th:only-of-type {\n",
       "        vertical-align: middle;\n",
       "    }\n",
       "\n",
       "    .dataframe tbody tr th {\n",
       "        vertical-align: top;\n",
       "    }\n",
       "\n",
       "    .dataframe thead th {\n",
       "        text-align: right;\n",
       "    }\n",
       "</style>\n",
       "<table border=\"1\" class=\"dataframe\">\n",
       "  <thead>\n",
       "    <tr style=\"text-align: right;\">\n",
       "      <th></th>\n",
       "      <th>Product ID</th>\n",
       "      <th>Product Category</th>\n",
       "      <th>Product Brand</th>\n",
       "      <th>Product Name</th>\n",
       "      <th>Product Price [SEK]</th>\n",
       "      <th>Product Description</th>\n",
       "      <th>Product Tags</th>\n",
       "      <th>Product Contents</th>\n",
       "    </tr>\n",
       "  </thead>\n",
       "  <tbody>\n",
       "    <tr>\n",
       "      <th>0</th>\n",
       "      <td>90001</td>\n",
       "      <td>makeup &gt; face &gt; contour</td>\n",
       "      <td>ETUDE HOUSE</td>\n",
       "      <td>ETUDE HOUSE Face Color Shading - 02</td>\n",
       "      <td>120.0</td>\n",
       "      <td>etude house face color shading provides a shad...</td>\n",
       "      <td>etude house face color shading 02 makeup face ...</td>\n",
       "      <td>not available</td>\n",
       "    </tr>\n",
       "    <tr>\n",
       "      <th>1</th>\n",
       "      <td>90002</td>\n",
       "      <td>brand &gt; l'oreal paris</td>\n",
       "      <td>L'Oreal Paris</td>\n",
       "      <td>L'Oreal Paris Glow Mon Amour Highlighting Drop...</td>\n",
       "      <td>90.8</td>\n",
       "      <td>its time to skip the snooze button and get up ...</td>\n",
       "      <td>loreal paris glow mon amour highlighting drops...</td>\n",
       "      <td>g927637 cyclopentasiloxane dimethicone isodode...</td>\n",
       "    </tr>\n",
       "    <tr>\n",
       "      <th>2</th>\n",
       "      <td>90003</td>\n",
       "      <td>makeup &gt; face &gt; foundation</td>\n",
       "      <td>The Body Shop</td>\n",
       "      <td>The Body Shop All-In-One Face Base - 045</td>\n",
       "      <td>279.0</td>\n",
       "      <td>note the body shop products will be dispatched...</td>\n",
       "      <td>the body shop allinone face base 045 makeup face</td>\n",
       "      <td>not available</td>\n",
       "    </tr>\n",
       "    <tr>\n",
       "      <th>3</th>\n",
       "      <td>90004</td>\n",
       "      <td>health &amp; wellness &gt; good for you &gt; super food</td>\n",
       "      <td>True Elements</td>\n",
       "      <td>True Elements Sunflower Raw Seeds</td>\n",
       "      <td>35.0</td>\n",
       "      <td>sunflower has always been admired for its beau...</td>\n",
       "      <td>true elements sunflower raw seeds wellness sho...</td>\n",
       "      <td>raw sunflower seeds</td>\n",
       "    </tr>\n",
       "    <tr>\n",
       "      <th>4</th>\n",
       "      <td>90005</td>\n",
       "      <td>makeup &gt; lips &gt; lip stain</td>\n",
       "      <td>Nykaa Cosmetics</td>\n",
       "      <td>Nykaa Wonderpuff Cushion Liquid Lipstick - Wer...</td>\n",
       "      <td>107.8</td>\n",
       "      <td>its no secret that a good lippie is a real moo...</td>\n",
       "      <td>nykaaã‚â wonderpuffã‚â lipã‚â ã‚â cheekã‚â cus...</td>\n",
       "      <td>not available</td>\n",
       "    </tr>\n",
       "  </tbody>\n",
       "</table>\n",
       "</div>"
      ],
      "text/plain": [
       "   Product ID                               Product Category    Product Brand  \\\n",
       "0       90001                        makeup > face > contour      ETUDE HOUSE   \n",
       "1       90002                          brand > l'oreal paris    L'Oreal Paris   \n",
       "2       90003                     makeup > face > foundation    The Body Shop   \n",
       "3       90004  health & wellness > good for you > super food    True Elements   \n",
       "4       90005                      makeup > lips > lip stain  Nykaa Cosmetics   \n",
       "\n",
       "                                        Product Name  Product Price [SEK]  \\\n",
       "0                ETUDE HOUSE Face Color Shading - 02                120.0   \n",
       "1  L'Oreal Paris Glow Mon Amour Highlighting Drop...                 90.8   \n",
       "2           The Body Shop All-In-One Face Base - 045                279.0   \n",
       "3                  True Elements Sunflower Raw Seeds                 35.0   \n",
       "4  Nykaa Wonderpuff Cushion Liquid Lipstick - Wer...                107.8   \n",
       "\n",
       "                                 Product Description  \\\n",
       "0  etude house face color shading provides a shad...   \n",
       "1  its time to skip the snooze button and get up ...   \n",
       "2  note the body shop products will be dispatched...   \n",
       "3  sunflower has always been admired for its beau...   \n",
       "4  its no secret that a good lippie is a real moo...   \n",
       "\n",
       "                                        Product Tags  \\\n",
       "0  etude house face color shading 02 makeup face ...   \n",
       "1  loreal paris glow mon amour highlighting drops...   \n",
       "2   the body shop allinone face base 045 makeup face   \n",
       "3  true elements sunflower raw seeds wellness sho...   \n",
       "4  nykaaã‚â wonderpuffã‚â lipã‚â ã‚â cheekã‚â cus...   \n",
       "\n",
       "                                    Product Contents  \n",
       "0                                      not available  \n",
       "1  g927637 cyclopentasiloxane dimethicone isodode...  \n",
       "2                                      not available  \n",
       "3                                raw sunflower seeds  \n",
       "4                                      not available  "
      ]
     },
     "execution_count": 14,
     "metadata": {},
     "output_type": "execute_result"
    }
   ],
   "source": [
    "metadata_original_df.head()"
   ]
  },
  {
   "cell_type": "code",
   "execution_count": 15,
   "metadata": {},
   "outputs": [
    {
     "data": {
      "text/plain": [
       "Product ID             0\n",
       "Product Category       0\n",
       "Product Brand          0\n",
       "Product Name           0\n",
       "Product Price [SEK]    0\n",
       "Product Description    0\n",
       "Product Tags           0\n",
       "Product Contents       0\n",
       "dtype: int64"
      ]
     },
     "execution_count": 15,
     "metadata": {},
     "output_type": "execute_result"
    }
   ],
   "source": [
    "metadata_original_df.isnull().sum()"
   ]
  },
  {
   "cell_type": "markdown",
   "metadata": {},
   "source": [
    "#### <b><span style='color:#FF0000'> NOTE :</span></b>\n",
    "- **From the above we can see that we do not have null values or NULL string present**"
   ]
  },
  {
   "cell_type": "markdown",
   "metadata": {},
   "source": [
    "<a id=\"3.3\"></a>\n",
    "## <b>3.3 <span style='color:#de9e46'> Investigating all elements within each feature</span></b>"
   ]
  },
  {
   "cell_type": "code",
   "execution_count": 15,
   "metadata": {},
   "outputs": [
    {
     "name": "stdout",
     "output_type": "stream",
     "text": [
      "The number of unique values for features Product ID : 566\n",
      "The number of unique values for features Product Category : 169\n",
      "The number of unique values for features Product Brand : 235\n",
      "The number of unique values for features Product Name : 566\n",
      "The number of unique values for features Product Price [SEK] : 315\n",
      "The number of unique values for features Product Description : 563\n",
      "The number of unique values for features Product Tags : 524\n",
      "The number of unique values for features Product Contents : 254\n"
     ]
    }
   ],
   "source": [
    "for colum in metadata_original_df:\n",
    "    unique_values = np.unique(metadata_original_df[colum])\n",
    "    nr_values = len(unique_values)\n",
    "    if nr_values < 22:\n",
    "        print(\"The number of unique values for features {} : {} --- {}\".format(colum, nr_values,unique_values))\n",
    "    else:\n",
    "         print(\"The number of unique values for features {} : {}\".format(colum, nr_values))"
   ]
  },
  {
   "cell_type": "code",
   "execution_count": 16,
   "metadata": {},
   "outputs": [
    {
     "data": {
      "text/plain": [
       "count     566.000000\n",
       "mean      200.979505\n",
       "std       270.225308\n",
       "min         5.000000\n",
       "25%        35.850000\n",
       "50%        81.100000\n",
       "75%       250.000000\n",
       "max      1900.000000\n",
       "Name: Product Price [SEK], dtype: float64"
      ]
     },
     "execution_count": 16,
     "metadata": {},
     "output_type": "execute_result"
    }
   ],
   "source": [
    "# Summary statistics for 'Product Price [SEK]'\n",
    "price_summary_statistics = metadata_original_df['Product Price [SEK]'].describe()\n",
    "\n",
    "price_summary_statistics\n"
   ]
  },
  {
   "cell_type": "markdown",
   "metadata": {},
   "source": [
    "<a id=\"3.4\"></a>\n",
    "## <b>3.4 <span style='color:#de9e46'> Transforming user reviews to long format</span></b>"
   ]
  },
  {
   "cell_type": "code",
   "execution_count": 17,
   "metadata": {},
   "outputs": [
    {
     "data": {
      "text/html": [
       "<div>\n",
       "<style scoped>\n",
       "    .dataframe tbody tr th:only-of-type {\n",
       "        vertical-align: middle;\n",
       "    }\n",
       "\n",
       "    .dataframe tbody tr th {\n",
       "        vertical-align: top;\n",
       "    }\n",
       "\n",
       "    .dataframe thead th {\n",
       "        text-align: right;\n",
       "    }\n",
       "</style>\n",
       "<table border=\"1\" class=\"dataframe\">\n",
       "  <thead>\n",
       "    <tr style=\"text-align: right;\">\n",
       "      <th></th>\n",
       "      <th>User</th>\n",
       "      <th>Product ID</th>\n",
       "      <th>Review Score</th>\n",
       "    </tr>\n",
       "  </thead>\n",
       "  <tbody>\n",
       "    <tr>\n",
       "      <th>89</th>\n",
       "      <td>Lila</td>\n",
       "      <td>90001</td>\n",
       "      <td>3</td>\n",
       "    </tr>\n",
       "    <tr>\n",
       "      <th>122</th>\n",
       "      <td>Emery</td>\n",
       "      <td>90001</td>\n",
       "      <td>5</td>\n",
       "    </tr>\n",
       "    <tr>\n",
       "      <th>175</th>\n",
       "      <td>Sadie</td>\n",
       "      <td>90001</td>\n",
       "      <td>1</td>\n",
       "    </tr>\n",
       "    <tr>\n",
       "      <th>191</th>\n",
       "      <td>Adelyn</td>\n",
       "      <td>90001</td>\n",
       "      <td>5</td>\n",
       "    </tr>\n",
       "    <tr>\n",
       "      <th>209</th>\n",
       "      <td>Abby</td>\n",
       "      <td>90001</td>\n",
       "      <td>4</td>\n",
       "    </tr>\n",
       "  </tbody>\n",
       "</table>\n",
       "</div>"
      ],
      "text/plain": [
       "       User  Product ID  Review Score\n",
       "89     Lila       90001             3\n",
       "122   Emery       90001             5\n",
       "175   Sadie       90001             1\n",
       "191  Adelyn       90001             5\n",
       "209    Abby       90001             4"
      ]
     },
     "execution_count": 17,
     "metadata": {},
     "output_type": "execute_result"
    }
   ],
   "source": [
    "# Transforming the user reviews dataset from wide to long format\n",
    "user_reviews_long_df = userdata_df.melt(id_vars='User', var_name='Product ID', value_name='Review Score')\n",
    "\n",
    "# Dropping rows where Review Score is 0, assuming 0 indicates no interaction/review\n",
    "user_reviews_long_df = user_reviews_long_df[user_reviews_long_df['Review Score'] != 0]\n",
    "\n",
    "# Convert Product ID in user_reviews_long_df to numeric for consistency with product_info_df\n",
    "user_reviews_long_df['Product ID'] = pd.to_numeric(user_reviews_long_df['Product ID'])\n",
    "\n",
    "# Display the transformed user reviews dataset\n",
    "user_reviews_long_df.head()\n"
   ]
  },
  {
   "cell_type": "markdown",
   "metadata": {},
   "source": [
    "<a id=\"4\"></a>\n",
    "<p style=\"background-color:#2d8077;font-family:newtimeroman;color:#FFF9ED;font-size:120%;text-align:center;border-radius:10px 10px;\"> DATA VISUALIZATION STUDY</p>"
   ]
  },
  {
   "cell_type": "markdown",
   "metadata": {},
   "source": [
    "<a id=\"4.1\"></a>\n",
    "## <b>4.1 <span style='color:#de9e46'> Visualizing Distribution of Review Scores</span></b>"
   ]
  },
  {
   "cell_type": "code",
   "execution_count": 20,
   "metadata": {},
   "outputs": [
    {
     "data": {
      "application/vnd.plotly.v1+json": {
       "config": {
        "plotlyServerURL": "https://plot.ly"
       },
       "data": [
        {
         "alignmentgroup": "True",
         "bingroup": "x",
         "hovertemplate": "Review Score=%{x}<br>count=%{y}<extra></extra>",
         "legendgroup": "",
         "marker": {
          "color": "#636efa",
          "pattern": {
           "shape": ""
          }
         },
         "name": "",
         "nbinsx": 10,
         "offsetgroup": "",
         "orientation": "v",
         "showlegend": false,
         "type": "histogram",
         "x": [
          3,
          5,
          1,
          5,
          4,
          5,
          5,
          5,
          5,
          5,
          3,
          5,
          2,
          5,
          2,
          1,
          3,
          5,
          5,
          3,
          4,
          5,
          5,
          3,
          1,
          5,
          5,
          2,
          5,
          3,
          3,
          4,
          2,
          5,
          5,
          5,
          5,
          3,
          5,
          5,
          5,
          1,
          2,
          4,
          1,
          5,
          5,
          5,
          3,
          3,
          5,
          5,
          2,
          5,
          1,
          5,
          1,
          4,
          3,
          3,
          3,
          1,
          3,
          3,
          3,
          5,
          3,
          2,
          1,
          4,
          5,
          3,
          4,
          4,
          4,
          1,
          3,
          4,
          5,
          5,
          5,
          4,
          2,
          5,
          2,
          3,
          3,
          3,
          4,
          2,
          3,
          2,
          3,
          3,
          3,
          3,
          4,
          3,
          3,
          3,
          3,
          2,
          3,
          2,
          1,
          5,
          3,
          3,
          2,
          5,
          2,
          3,
          3,
          2,
          1,
          2,
          1,
          3,
          2,
          3,
          5,
          4,
          5,
          3,
          2,
          4,
          2,
          5,
          2,
          4,
          2,
          1,
          3,
          3,
          3,
          5,
          3,
          3,
          4,
          2,
          5,
          3,
          5,
          5,
          5,
          1,
          5,
          4,
          3,
          3,
          2,
          2,
          3,
          3,
          2,
          5,
          5,
          5,
          2,
          5,
          4,
          5,
          3,
          3,
          3,
          4,
          3,
          5,
          2,
          3,
          5,
          3,
          4,
          2,
          3,
          2,
          5,
          1,
          2,
          1,
          5,
          5,
          2,
          4,
          4,
          5,
          5,
          4,
          3,
          1,
          5,
          2,
          4,
          5,
          5,
          5,
          4,
          2,
          2,
          2,
          3,
          3,
          3,
          3,
          3,
          3,
          4,
          4,
          1,
          5,
          2,
          4,
          3,
          3,
          2,
          3,
          2,
          4,
          3,
          3,
          5,
          3,
          5,
          3,
          4,
          3,
          4,
          5,
          3,
          3,
          4,
          3,
          3,
          3,
          2,
          3,
          3,
          4,
          4,
          5,
          1,
          3,
          5,
          2,
          4,
          2,
          2,
          5,
          3,
          1,
          5,
          3,
          4,
          3,
          5,
          1,
          5,
          4,
          2,
          5,
          3,
          4,
          2,
          1,
          1,
          2,
          5,
          4,
          2,
          5,
          4,
          4,
          3,
          5,
          5,
          5,
          4,
          4,
          5,
          4,
          4,
          3,
          2,
          4,
          5,
          5,
          3,
          5,
          3,
          3,
          4,
          3,
          1,
          3,
          2,
          4,
          1,
          4,
          4,
          4,
          4,
          5,
          5,
          5,
          3,
          5,
          3,
          4,
          4,
          4,
          2,
          2,
          5,
          2,
          5,
          3,
          4,
          5,
          2,
          3,
          2,
          5,
          4,
          5,
          2,
          3,
          1,
          4,
          3,
          5,
          3,
          5,
          3,
          2,
          3,
          3,
          4,
          2,
          3,
          3,
          3,
          2,
          3,
          3,
          2,
          5,
          3,
          5,
          4,
          3,
          2,
          3,
          4,
          3,
          2,
          3,
          4,
          5,
          3,
          1,
          4,
          5,
          5,
          4,
          2,
          5,
          2,
          2,
          4,
          3,
          2,
          2,
          3,
          5,
          4,
          2,
          3,
          5,
          4,
          3,
          5,
          5,
          3,
          2,
          4,
          4,
          3,
          2,
          5,
          5,
          2,
          3,
          5,
          5,
          5,
          5,
          4,
          3,
          4,
          4,
          3,
          5,
          3,
          4,
          3,
          3,
          4,
          2,
          5,
          5,
          5,
          3,
          5,
          3,
          3,
          2,
          4,
          2,
          2,
          4,
          5,
          3,
          5,
          5,
          3,
          4,
          4,
          5,
          4,
          4,
          4,
          4,
          1,
          5,
          2,
          3,
          1,
          4,
          4,
          2,
          4,
          1,
          4,
          5,
          5,
          3,
          2,
          3,
          2,
          3,
          1,
          4,
          4,
          4,
          3,
          5,
          4,
          4,
          3,
          4,
          3,
          2,
          1,
          3,
          2,
          3,
          3,
          5,
          2,
          3,
          2,
          5,
          3,
          3,
          3,
          3,
          5,
          3,
          4,
          3,
          5,
          4,
          4,
          1,
          3,
          3,
          5,
          4,
          5,
          3,
          3,
          3,
          2,
          2,
          3,
          2,
          2,
          5,
          3,
          2,
          3,
          3,
          5,
          5,
          3,
          4,
          3,
          3,
          5,
          3,
          3,
          3,
          5,
          5,
          2,
          5,
          3,
          3,
          5,
          3,
          4,
          3,
          3,
          3,
          4,
          2,
          4,
          2,
          2,
          4,
          5,
          3,
          4,
          4,
          3,
          3,
          1,
          1,
          4,
          2,
          2,
          3,
          5,
          3,
          3,
          5,
          3,
          3,
          5,
          4,
          5,
          2,
          5,
          3,
          5,
          5,
          3,
          4,
          5,
          3,
          2,
          2,
          3,
          3,
          1,
          1,
          5,
          5,
          3,
          3,
          5,
          4,
          5,
          3,
          4,
          5,
          4,
          3,
          3,
          4,
          2,
          4,
          3,
          5,
          3,
          3,
          1,
          1,
          4,
          1,
          5,
          2,
          4,
          3,
          1,
          3,
          4,
          3,
          1,
          3,
          5,
          3,
          4,
          2,
          5,
          1,
          3,
          5,
          5,
          5,
          2,
          2,
          3,
          1,
          3,
          2,
          5,
          4,
          5,
          3,
          3,
          5,
          5,
          4,
          3,
          4,
          3,
          4,
          5,
          2,
          3,
          5,
          3,
          2,
          2,
          5,
          3,
          5,
          3,
          3,
          5,
          2,
          3,
          2,
          3,
          4,
          2,
          2,
          2,
          5,
          4,
          5,
          3,
          4,
          2,
          1,
          5,
          2,
          3,
          4,
          3,
          3,
          4,
          4,
          3,
          5,
          1,
          3,
          5,
          3,
          3,
          5,
          3,
          2,
          5,
          4,
          5,
          4,
          1,
          4,
          5,
          3,
          2,
          5,
          5,
          3,
          4,
          3,
          5,
          3,
          3,
          3,
          3,
          5,
          5,
          3,
          5,
          5,
          2,
          5,
          4,
          2,
          1,
          3,
          4,
          5,
          3,
          4,
          3,
          5,
          3,
          3,
          4,
          4,
          4,
          5,
          5,
          2,
          3,
          2,
          3,
          3,
          4,
          4,
          1,
          3,
          3,
          4,
          4,
          2,
          5,
          2,
          4,
          2,
          5,
          1,
          5,
          5,
          5,
          3,
          4,
          3,
          5,
          3,
          5,
          4,
          5,
          5,
          4,
          1,
          5,
          1,
          3,
          4,
          5,
          4,
          4,
          4,
          5,
          4,
          4,
          5,
          3,
          4,
          3,
          2,
          5,
          5,
          4,
          4,
          3,
          2,
          1,
          2,
          3,
          3,
          3,
          3,
          4,
          5,
          2,
          2,
          3,
          3,
          4,
          5,
          5,
          5,
          1,
          2,
          5,
          3,
          3,
          4,
          3,
          2,
          2,
          3,
          3,
          5,
          3,
          3,
          1,
          3,
          3,
          5,
          5,
          5,
          5,
          5,
          5,
          2,
          4,
          2,
          5,
          3,
          2,
          3,
          3,
          3,
          1,
          2,
          5,
          2,
          3,
          4,
          5,
          1,
          3,
          3,
          5,
          5,
          2,
          1,
          4,
          5,
          2,
          4,
          2,
          4,
          3,
          3,
          1,
          1,
          3,
          4,
          5,
          4,
          5,
          5,
          4,
          3,
          5,
          3,
          3,
          4,
          3,
          4,
          3,
          4,
          3,
          4,
          5,
          3,
          4,
          3,
          4,
          1,
          3,
          4,
          3,
          4,
          5,
          4,
          5,
          5,
          5,
          4,
          5,
          4,
          2,
          3,
          3,
          2,
          3,
          5,
          5,
          4,
          3,
          4,
          5,
          5,
          3,
          3,
          4,
          5,
          1,
          5,
          3,
          3,
          4,
          5,
          2,
          2,
          1,
          3,
          3,
          4,
          5,
          2,
          3,
          3,
          4,
          3,
          5,
          4,
          1,
          4,
          3,
          4,
          3,
          2,
          3,
          4,
          3,
          3,
          4,
          2,
          1,
          3,
          3,
          3,
          3,
          4,
          3,
          3,
          1,
          2,
          4,
          3,
          5,
          1,
          5,
          4,
          2,
          4,
          2,
          4,
          2,
          2,
          3,
          5,
          4,
          3,
          2,
          3,
          5,
          2,
          3,
          2,
          3,
          3,
          3,
          2,
          4,
          3,
          4,
          3,
          4,
          4,
          5,
          3,
          5,
          4,
          2,
          4,
          2,
          5,
          3,
          3,
          4,
          5,
          1,
          3,
          3,
          2,
          3,
          3,
          4,
          5,
          1,
          3,
          3,
          4,
          4,
          5,
          4,
          4,
          2,
          1,
          2,
          3,
          4,
          1,
          3,
          2,
          5,
          5,
          5,
          5,
          4,
          5,
          4,
          5,
          3,
          3,
          5,
          3,
          5,
          5,
          5,
          5,
          4,
          5,
          5,
          2,
          3,
          3,
          2,
          4,
          3,
          3,
          3,
          5,
          5,
          3,
          3,
          5,
          1,
          3,
          2,
          3,
          3,
          5,
          4,
          3,
          4,
          3,
          5,
          2,
          1,
          2,
          2,
          3,
          4,
          1,
          4,
          1,
          4,
          3,
          3,
          5,
          3,
          3,
          5,
          5,
          5,
          4,
          4,
          2,
          5,
          3,
          4,
          5,
          3,
          4,
          3,
          4,
          4,
          3,
          3,
          3,
          3,
          5,
          5,
          4,
          3,
          5,
          2,
          5,
          5,
          4,
          3,
          3,
          3,
          4,
          5,
          3,
          4,
          2,
          3,
          3,
          4,
          2,
          3,
          5,
          2,
          3,
          5,
          1,
          3,
          3,
          2,
          5,
          5,
          5,
          3,
          4,
          4,
          4,
          4,
          5,
          3,
          5,
          2,
          5,
          2,
          5,
          5,
          5,
          5,
          5,
          2,
          4,
          4,
          3,
          1,
          5,
          2,
          2,
          5,
          3,
          4,
          1,
          4,
          3,
          4,
          4,
          5,
          3,
          4,
          4,
          5,
          5,
          1,
          4,
          3,
          4,
          3,
          5,
          5,
          4,
          5,
          5,
          5,
          5,
          5,
          3,
          4,
          4,
          5,
          5,
          5,
          3,
          3,
          2,
          5,
          4,
          1,
          5,
          5,
          4,
          5,
          2,
          5,
          3,
          4,
          3,
          1,
          2,
          2,
          3,
          2,
          3,
          5,
          1,
          5,
          5,
          3,
          5,
          2,
          1,
          3,
          2,
          5,
          4,
          4,
          3,
          2,
          1,
          4,
          3,
          3,
          5,
          2,
          5,
          4,
          2,
          3,
          1,
          3,
          5,
          3,
          4,
          2,
          5,
          2,
          5,
          4,
          5,
          3,
          3,
          5,
          3,
          5,
          2,
          4,
          2,
          5,
          4,
          4,
          4,
          5,
          3,
          3,
          2,
          3,
          3,
          3,
          2,
          1,
          2,
          3,
          2,
          1,
          3,
          5,
          3,
          4,
          3,
          2,
          4,
          3,
          3,
          4,
          4,
          5,
          3,
          4,
          3,
          5,
          3,
          2,
          3,
          3,
          3,
          1,
          5,
          4,
          5,
          5,
          3,
          3,
          3,
          1,
          2,
          3,
          1,
          2,
          1,
          3,
          3,
          3,
          5,
          3,
          4,
          2,
          3,
          2,
          4,
          4,
          5,
          3,
          1,
          3,
          5,
          5,
          4,
          5,
          5,
          3,
          5,
          5,
          3,
          1,
          5,
          4,
          5,
          4,
          4,
          4,
          4,
          4,
          4,
          5,
          2,
          3,
          5,
          3,
          4,
          1,
          4,
          3,
          5,
          5,
          4,
          5,
          3,
          3,
          4,
          5,
          4,
          3,
          5,
          1,
          5,
          3,
          3,
          5,
          3,
          5,
          3,
          4,
          4,
          4,
          5,
          4,
          3,
          2,
          5,
          2,
          5,
          5,
          2,
          5,
          3,
          4,
          4,
          3,
          4,
          2,
          4,
          4,
          4,
          3,
          1,
          1,
          2,
          1,
          4,
          5,
          5,
          5,
          4,
          3,
          2,
          1,
          3,
          4,
          4,
          2,
          4,
          3,
          5,
          4,
          2,
          5,
          3,
          3,
          4,
          2,
          5,
          3,
          2,
          3,
          4,
          5,
          3,
          3,
          3,
          5,
          5,
          5,
          2,
          2,
          3,
          2,
          5,
          2,
          2,
          5,
          5,
          5,
          5,
          2,
          1,
          4,
          4,
          2,
          4,
          3,
          4,
          4,
          4,
          4,
          3,
          3,
          2,
          3,
          3,
          3,
          1,
          4,
          4,
          4,
          3,
          3,
          5,
          2,
          4,
          5,
          4,
          5,
          3,
          2,
          3,
          5,
          1,
          5,
          5,
          4,
          4,
          5,
          3,
          2,
          4,
          2,
          5,
          2,
          4,
          4,
          2,
          3,
          5,
          1,
          2,
          4,
          3,
          2,
          2,
          5,
          5,
          5,
          1,
          2,
          4,
          5,
          2,
          4,
          5,
          3,
          2,
          3,
          5,
          3,
          5,
          5,
          4,
          2,
          5,
          1,
          4,
          3,
          3,
          4,
          3,
          2,
          1,
          3,
          4,
          2,
          4,
          5,
          3,
          5,
          5,
          2,
          4,
          5,
          5,
          4,
          5,
          5,
          5,
          5,
          5,
          3,
          5,
          5,
          3,
          3,
          3,
          3,
          2,
          3,
          4,
          1,
          2,
          3,
          3,
          5,
          5,
          5,
          2,
          1,
          4,
          3,
          2,
          3,
          5,
          4,
          4,
          2,
          2,
          2,
          5,
          4,
          3,
          2,
          1,
          2,
          1,
          5,
          3,
          5,
          5,
          2,
          2,
          4,
          3,
          4,
          2,
          1,
          4,
          3,
          5,
          3,
          5,
          1,
          3,
          5,
          3,
          2,
          1,
          1,
          3,
          2,
          3,
          3,
          2,
          3,
          3,
          3,
          2,
          5,
          3,
          1,
          3,
          2,
          1,
          3,
          2,
          4,
          3,
          5,
          5,
          2,
          5,
          5,
          4,
          1,
          1,
          3,
          2,
          2,
          3,
          4,
          3,
          5,
          2,
          4,
          5,
          3,
          3,
          4,
          3,
          4,
          3,
          4,
          3,
          4,
          2,
          5,
          4,
          4,
          5,
          5,
          4,
          5,
          2,
          4,
          3,
          4,
          3,
          3,
          3,
          2,
          4,
          4,
          3,
          2,
          4,
          4,
          2,
          3,
          3,
          2,
          5,
          4,
          4,
          5,
          3,
          4,
          2,
          2,
          5,
          5,
          3,
          2,
          3,
          2,
          3,
          2,
          2,
          5,
          3,
          2,
          2,
          4,
          4,
          2,
          5,
          4,
          4,
          5,
          3,
          4,
          4,
          2,
          4,
          3,
          2,
          3,
          2,
          2,
          3,
          2,
          2,
          4,
          3,
          3,
          3,
          3,
          3,
          3,
          1,
          5,
          4,
          3,
          3,
          5,
          3,
          5,
          5,
          2,
          4,
          4,
          5,
          5,
          4,
          4,
          5,
          1,
          2,
          1,
          2,
          3,
          1,
          3,
          4,
          4,
          4,
          5,
          5,
          3,
          5,
          4,
          3,
          3,
          5,
          3,
          4,
          3,
          2,
          2,
          3,
          4,
          4,
          3,
          3,
          5,
          3,
          3,
          2,
          2,
          3,
          2,
          4,
          4,
          4,
          5,
          5,
          5,
          1,
          3,
          5,
          1,
          3,
          5,
          5,
          4,
          4,
          4,
          3,
          2,
          2,
          1,
          1,
          5,
          5,
          2,
          4,
          5,
          5,
          5,
          5,
          5,
          4,
          2,
          3,
          2,
          2,
          4,
          2,
          4,
          4,
          3,
          4,
          5,
          2,
          3,
          3,
          3,
          2,
          2,
          2,
          3,
          3,
          3,
          1,
          3,
          2,
          2,
          3,
          5,
          3,
          5,
          2,
          5,
          4,
          2,
          1,
          2,
          3,
          2,
          3,
          3,
          5,
          4,
          3,
          3,
          2,
          3,
          1,
          2,
          4,
          1,
          4,
          3,
          3,
          5,
          5,
          2,
          2,
          3,
          3,
          5,
          5,
          3,
          2,
          3,
          5,
          2,
          3,
          2,
          1,
          3,
          4,
          3,
          3,
          4,
          5,
          1,
          5,
          4,
          5,
          4,
          4,
          3,
          1,
          2,
          3,
          3,
          3,
          2,
          5,
          2,
          3,
          3,
          1,
          2,
          1,
          3,
          5,
          5,
          5,
          3,
          3,
          3,
          5,
          3,
          2,
          3,
          2,
          4,
          3,
          4,
          3,
          5,
          4,
          1,
          3,
          2,
          2,
          5,
          2,
          3,
          3,
          5,
          2,
          3,
          2,
          5,
          2,
          5,
          2,
          4,
          1,
          5,
          5,
          3,
          3,
          5,
          3,
          1,
          5,
          5,
          5,
          4,
          5,
          5,
          4,
          4,
          3,
          3,
          2,
          5,
          3,
          3,
          3,
          5,
          5,
          2,
          5,
          3,
          5,
          1,
          5,
          2,
          3,
          4,
          5,
          5,
          5,
          5,
          3,
          2,
          1,
          3,
          3,
          3,
          4,
          3,
          2,
          5,
          2,
          5,
          5,
          5,
          5,
          5,
          4,
          3,
          4,
          4,
          5,
          4,
          3,
          3,
          4,
          2,
          3,
          1,
          2,
          3,
          5,
          4,
          4,
          3,
          2,
          2,
          1,
          3,
          3,
          5,
          3,
          3,
          5,
          2,
          1,
          4,
          5,
          2,
          3,
          3,
          2,
          3,
          1,
          5,
          4,
          4,
          5,
          5,
          2,
          5,
          3,
          5,
          2,
          4,
          5,
          2,
          5,
          5,
          5,
          5,
          4,
          5,
          4,
          5,
          4,
          5,
          5,
          5,
          4,
          4,
          3,
          3,
          3,
          5,
          3,
          3,
          5,
          4,
          5,
          4,
          3,
          2,
          4,
          5,
          5,
          3,
          2,
          4,
          2,
          4,
          3,
          5,
          5,
          2,
          4,
          2,
          1,
          3,
          2,
          1,
          3,
          3,
          5,
          3,
          3,
          5,
          4,
          4,
          3,
          3,
          5,
          3,
          3,
          3,
          2,
          3,
          2,
          3,
          4,
          5,
          3,
          3,
          3,
          5,
          3,
          5,
          5,
          3,
          4,
          2,
          3,
          2,
          4,
          2,
          1,
          2,
          2,
          2,
          3,
          2,
          2,
          5,
          4,
          3,
          3,
          5,
          1,
          5,
          5,
          3,
          5,
          5,
          5,
          4,
          2,
          2,
          2,
          2,
          4,
          4,
          1,
          3,
          3,
          2,
          2,
          3,
          2,
          4,
          4,
          5,
          5,
          5,
          3,
          2,
          3,
          3,
          1,
          1,
          4,
          1,
          2,
          3,
          4,
          3,
          4,
          3,
          2,
          3,
          4,
          1,
          3,
          2,
          3,
          2,
          2,
          1,
          3,
          3,
          2,
          2,
          5,
          3,
          5,
          5,
          2,
          5,
          4,
          2,
          3,
          3,
          4,
          4,
          1,
          5,
          5,
          2,
          2,
          5,
          3,
          4,
          4,
          2,
          4,
          3,
          3,
          3,
          5,
          2,
          2,
          3,
          3,
          1,
          3,
          3,
          3,
          4,
          3,
          5,
          1,
          3,
          4,
          2,
          2,
          4,
          2,
          3,
          3,
          5,
          4,
          4,
          4,
          2,
          5,
          5,
          3,
          5,
          5,
          4,
          1,
          2,
          5,
          3,
          5,
          5,
          5,
          5,
          3,
          4,
          5,
          4,
          5,
          3,
          3,
          5,
          5,
          5,
          4,
          5,
          4,
          5,
          4,
          4,
          5,
          4,
          5,
          5,
          3,
          5,
          2,
          3,
          2,
          3,
          3,
          4,
          3,
          4,
          5,
          5,
          5,
          5,
          4,
          5,
          2,
          4,
          5,
          4,
          3,
          5,
          1,
          4,
          4,
          4,
          4,
          5,
          3,
          5,
          2,
          3,
          3,
          5,
          4,
          1,
          5,
          5,
          2,
          3,
          3,
          3,
          5,
          3,
          3,
          3,
          2,
          5,
          3,
          4,
          1,
          4,
          5,
          4,
          5,
          4,
          3,
          5,
          3,
          5,
          2,
          4,
          3,
          3,
          4,
          2,
          4,
          5,
          2,
          4,
          5,
          5,
          2,
          3,
          5,
          1,
          5,
          4,
          2,
          3,
          5,
          3,
          4,
          4,
          5,
          4,
          5,
          5,
          5,
          4,
          4,
          5,
          5,
          3,
          5,
          4,
          2,
          5,
          5,
          4,
          2,
          5,
          2,
          5,
          3,
          4,
          4,
          3,
          5,
          5,
          4,
          5,
          3,
          3,
          1,
          3,
          3,
          2,
          5,
          3,
          4,
          3,
          4,
          2,
          4,
          2,
          3,
          2,
          4,
          3,
          1,
          1,
          3,
          2,
          3,
          4,
          3,
          5,
          4,
          3,
          4,
          5,
          5,
          5,
          4,
          4,
          5,
          3,
          3,
          3,
          1,
          5,
          3,
          3,
          3,
          5,
          3,
          4,
          3,
          5,
          2,
          5,
          3,
          3,
          1,
          5,
          3,
          3,
          4,
          3,
          1,
          4,
          5,
          3,
          3,
          5,
          4,
          3,
          2,
          4,
          5,
          5,
          3,
          3,
          4,
          3,
          5,
          2,
          5,
          5,
          2,
          2,
          4,
          5,
          4,
          2,
          5,
          5,
          3,
          4,
          5,
          5,
          5,
          5,
          3,
          5,
          5,
          3,
          3,
          5,
          4,
          4,
          4,
          2,
          3,
          5,
          3,
          3,
          5,
          2,
          4,
          4,
          3,
          5,
          5,
          5,
          5,
          3,
          2,
          1,
          3,
          2,
          4,
          4,
          3,
          4,
          4,
          5,
          3,
          3,
          5,
          3,
          5,
          5,
          5,
          4,
          2,
          3,
          3,
          1,
          2,
          4,
          5,
          4,
          3,
          2,
          1,
          1,
          3,
          5,
          2,
          5,
          5,
          4,
          4,
          3,
          4,
          3,
          2,
          5,
          5,
          4,
          4,
          3,
          3,
          3,
          5,
          3,
          5,
          2,
          3,
          3,
          2,
          4,
          3,
          2,
          3,
          4,
          1,
          3,
          3,
          3,
          5,
          3,
          5,
          4,
          3,
          5,
          5,
          1,
          5,
          4,
          1,
          3,
          2,
          5,
          5,
          2,
          4,
          2,
          5,
          2,
          3,
          5,
          4,
          4,
          5,
          2,
          3,
          5,
          4,
          4,
          4,
          3,
          5,
          4,
          3,
          5,
          4,
          3,
          3,
          2,
          2,
          5,
          4,
          3,
          5,
          5,
          3,
          3,
          2,
          3,
          5,
          3,
          5,
          4,
          3,
          3,
          2,
          5,
          3,
          5,
          5,
          2,
          5,
          3,
          2,
          4,
          2,
          3,
          2,
          5,
          4,
          3,
          3,
          4,
          3,
          3,
          4,
          3,
          2,
          4,
          1,
          1,
          2,
          3,
          2,
          3,
          2,
          4,
          5,
          4,
          4,
          4,
          3,
          1,
          3,
          1,
          4,
          5,
          2,
          5,
          3,
          2,
          2,
          1,
          3,
          5,
          2,
          4,
          2,
          2,
          3,
          3,
          5,
          4,
          3,
          2,
          3,
          4,
          5,
          3,
          5,
          5,
          4,
          2,
          2,
          5,
          5,
          5,
          4,
          4,
          5,
          2,
          5,
          3,
          2,
          3,
          3,
          2,
          3,
          4,
          3,
          5,
          3,
          5,
          3,
          4,
          2,
          4,
          3,
          4,
          2,
          5,
          4,
          4,
          4,
          5,
          3,
          2,
          5,
          3,
          3,
          5,
          4,
          5,
          4,
          1,
          4,
          2,
          5,
          3,
          5,
          4,
          5,
          4,
          5,
          1,
          4,
          2,
          4,
          4,
          3,
          4,
          1,
          4,
          3,
          3,
          1,
          4,
          2,
          5,
          4,
          2,
          1,
          4,
          3,
          3,
          3,
          4,
          4,
          4,
          5,
          3,
          5,
          5,
          3,
          4,
          3,
          4,
          3,
          4,
          3,
          5,
          4,
          5,
          3,
          4,
          2,
          4,
          3,
          4,
          5,
          4,
          3,
          5,
          5,
          5,
          4,
          3,
          5,
          2,
          1,
          3,
          2,
          2,
          5,
          3,
          4,
          4,
          4,
          3,
          3,
          2,
          4,
          5,
          5,
          5,
          3,
          4,
          4,
          3,
          5,
          4,
          5,
          1,
          2,
          2,
          3,
          5,
          5,
          2,
          5,
          1,
          3,
          4,
          4,
          5,
          2,
          2,
          5,
          3,
          2,
          4,
          4,
          3,
          2,
          1,
          5,
          2,
          4,
          4,
          3,
          3,
          4,
          5,
          4,
          3,
          4,
          5,
          5,
          5,
          5,
          2,
          3,
          1,
          2,
          4,
          3,
          1,
          2,
          5,
          3,
          5,
          2,
          5,
          3,
          3,
          4,
          4,
          5,
          5,
          4,
          2,
          3,
          5,
          5,
          4,
          3,
          3,
          2,
          4,
          2,
          5,
          2,
          3,
          3,
          3,
          4,
          4,
          4,
          2,
          4,
          2,
          4,
          2,
          4,
          3,
          2,
          2,
          4,
          5,
          5,
          5,
          5,
          5,
          3,
          5,
          1,
          4,
          5,
          2,
          1,
          5,
          4,
          4,
          3,
          4,
          5,
          2,
          5,
          5,
          4,
          3,
          3,
          1,
          3,
          1,
          2,
          5,
          2,
          4,
          3,
          3,
          3,
          5,
          4,
          1,
          5,
          5,
          3,
          3,
          3,
          3,
          2,
          2,
          3,
          3,
          4,
          1,
          1,
          5,
          3,
          2,
          2,
          3,
          5,
          3,
          3,
          4,
          5,
          4,
          2,
          1,
          5,
          1,
          3,
          5,
          2,
          3,
          3,
          3,
          4,
          4,
          4,
          4,
          3,
          2,
          3,
          5,
          3,
          3,
          1,
          5,
          2,
          5,
          3,
          4,
          2,
          5,
          4,
          4,
          3,
          3,
          3,
          5,
          3,
          5,
          1,
          4,
          5,
          4,
          3,
          2,
          4,
          3,
          4,
          5,
          3,
          3,
          2,
          2,
          4,
          4,
          3,
          4,
          5,
          3,
          3,
          2,
          4,
          4,
          4,
          5,
          1,
          4,
          3,
          4,
          4,
          4,
          2,
          2,
          4,
          5,
          2,
          5,
          3,
          4,
          4,
          5,
          3,
          4,
          2,
          5,
          5,
          4,
          3,
          3,
          4,
          4,
          3,
          5,
          5,
          5,
          3,
          3,
          2,
          3,
          4,
          4,
          2,
          2,
          5,
          1,
          3,
          4,
          3,
          2,
          4,
          3,
          1,
          1,
          2,
          2,
          2,
          3,
          3,
          4,
          3,
          3,
          3,
          5,
          2,
          3,
          3,
          3,
          3,
          3,
          3,
          4,
          3,
          2,
          3,
          1,
          3,
          3,
          5,
          2,
          4,
          2,
          2,
          5,
          3,
          4,
          4,
          5,
          2,
          5,
          5,
          2,
          1,
          2,
          2,
          3,
          2,
          2,
          3,
          5,
          3,
          3,
          3,
          5,
          3,
          3,
          3,
          5,
          3,
          5,
          3,
          1,
          2,
          5,
          5,
          5,
          2,
          3,
          2,
          1,
          3,
          1,
          2,
          3,
          4,
          1,
          3,
          4,
          5,
          4,
          4,
          3,
          5,
          2,
          5,
          3,
          2,
          3,
          3,
          3,
          2,
          4,
          1,
          3,
          3,
          3,
          4,
          4,
          3,
          2,
          1,
          3,
          3,
          3,
          2,
          5,
          2,
          5,
          3,
          4,
          3,
          1,
          1,
          2,
          5,
          3,
          4,
          4,
          5,
          2,
          4,
          2,
          4,
          2,
          2,
          1,
          4,
          5,
          5,
          3,
          4,
          4,
          1,
          2,
          4,
          2,
          3,
          3,
          2,
          3,
          3,
          3,
          3,
          3,
          2,
          3,
          1,
          5,
          3,
          3,
          2,
          5,
          2,
          5,
          5,
          2,
          4,
          2,
          4,
          4,
          3,
          5,
          2,
          5,
          3,
          1,
          2,
          2,
          2,
          1,
          2,
          1,
          5,
          4,
          5,
          3,
          2,
          4,
          3,
          4,
          3,
          4,
          3,
          3,
          5,
          2,
          4,
          4,
          4,
          3,
          4,
          1,
          4,
          3,
          3,
          2,
          5,
          5,
          4,
          3,
          3,
          3,
          3,
          5,
          3,
          2,
          3,
          4,
          1,
          4,
          2,
          3,
          5,
          5,
          3,
          3,
          3,
          5,
          5,
          5,
          5,
          5,
          2,
          5,
          5,
          3,
          2,
          2,
          4,
          3,
          5,
          1,
          5,
          3,
          4,
          2,
          4,
          2,
          4,
          5,
          5,
          1,
          2,
          3,
          3,
          1,
          4,
          3,
          3,
          3,
          1,
          3,
          5,
          3,
          2,
          2,
          4,
          3,
          5,
          1,
          1,
          3,
          3,
          3,
          1,
          3,
          2,
          3,
          1,
          2,
          1,
          2,
          2,
          3,
          2,
          2,
          2,
          3,
          5,
          2,
          3,
          2,
          5,
          4,
          3,
          5,
          4,
          3,
          4,
          2,
          3,
          5,
          3,
          3,
          5,
          5,
          2,
          3,
          5,
          4,
          5,
          2,
          1,
          1,
          1,
          3,
          5,
          3,
          4,
          4,
          5,
          4,
          2,
          3,
          4,
          2,
          3,
          4,
          2,
          2,
          2,
          1,
          4,
          1,
          3,
          5,
          5,
          3,
          4,
          3,
          3,
          2,
          3,
          4,
          2,
          5,
          4,
          3,
          5,
          5,
          1,
          5,
          4,
          5,
          1,
          2,
          2,
          4,
          4,
          4,
          5,
          3,
          3,
          4,
          5,
          5,
          5,
          5,
          3,
          2,
          4,
          4,
          1,
          3,
          2,
          3,
          1,
          4,
          3,
          3,
          3,
          3,
          5,
          1,
          4,
          4,
          4,
          5,
          4,
          4,
          2,
          4,
          4,
          2,
          2,
          3,
          3,
          3,
          3,
          4,
          3,
          4,
          5,
          3,
          5,
          5,
          3,
          4,
          3,
          5,
          5,
          2,
          3,
          1,
          3,
          2,
          4,
          4,
          5,
          4,
          3,
          5,
          1,
          4,
          5,
          3,
          5,
          3,
          5,
          4,
          3,
          5,
          2,
          4,
          2,
          2,
          5,
          1,
          1,
          5,
          3,
          3,
          3,
          4,
          4,
          5,
          4,
          5,
          3,
          4,
          5,
          3,
          5,
          2,
          5,
          5,
          2,
          2,
          5,
          4,
          4,
          5,
          5,
          5,
          4,
          5,
          3,
          3,
          5,
          5,
          3,
          4,
          4,
          2,
          3,
          4,
          5,
          3,
          5,
          3,
          2,
          1,
          3,
          3,
          2,
          4,
          1,
          4,
          3,
          3,
          2,
          5,
          4,
          2,
          5,
          3,
          3,
          3,
          1,
          5,
          3,
          4,
          4,
          2,
          4,
          4,
          1,
          1,
          4,
          5,
          5,
          3,
          3,
          3,
          4,
          4,
          3,
          3,
          4,
          1,
          3,
          4,
          3,
          3,
          1,
          2,
          5,
          3,
          4,
          3,
          5,
          5,
          5,
          5,
          2,
          3,
          2,
          4,
          3,
          2,
          5,
          2,
          4,
          4,
          2,
          5,
          1,
          3,
          2,
          3,
          2,
          2,
          3,
          2,
          3,
          2,
          2,
          3,
          2,
          5,
          2,
          2,
          3,
          3,
          4,
          2,
          3,
          5,
          2,
          3,
          5,
          2,
          3,
          3,
          3,
          2,
          3,
          4,
          3,
          4,
          3,
          3,
          4,
          5,
          2,
          2,
          4,
          2,
          3,
          5,
          4,
          5,
          3,
          5,
          3,
          3,
          4,
          4,
          2,
          1,
          2,
          1,
          5,
          3,
          1,
          1,
          2,
          4,
          3,
          4,
          4,
          2,
          3,
          2,
          3,
          4,
          3,
          4,
          4,
          4,
          4,
          5,
          5,
          3,
          3,
          3,
          1,
          2,
          4,
          3,
          3,
          1,
          3,
          3,
          5,
          4,
          5,
          4,
          4,
          5,
          3,
          3,
          2,
          3,
          5,
          5,
          4,
          5,
          5,
          4,
          5,
          5,
          2,
          5,
          5,
          3,
          3,
          2,
          5,
          5,
          3,
          5,
          3,
          4,
          1,
          3,
          4,
          3,
          5,
          4,
          3,
          5,
          2,
          3,
          2,
          4,
          4,
          2,
          4,
          2,
          5,
          4,
          4,
          5,
          3,
          5,
          4,
          5,
          5,
          3,
          5,
          1,
          3,
          4,
          4,
          4,
          2,
          3,
          2,
          4,
          3,
          2,
          4,
          3,
          2,
          3,
          1,
          2,
          3,
          5,
          4,
          5,
          3,
          5,
          5,
          2,
          5,
          3,
          4,
          4,
          5,
          4,
          4,
          3,
          5,
          4,
          2,
          4,
          5,
          4,
          2,
          3,
          2,
          3,
          3,
          2,
          3,
          3,
          3,
          5,
          4,
          5,
          3,
          5,
          4,
          5,
          4,
          4,
          3,
          4,
          3,
          2,
          2,
          3,
          2,
          2,
          5,
          4,
          3,
          4,
          3,
          5,
          3,
          2,
          5,
          2,
          5,
          5,
          2,
          1,
          1,
          4,
          4,
          5,
          4,
          3,
          4,
          5,
          3,
          3,
          1,
          3,
          4,
          3,
          3,
          3,
          3,
          2,
          5,
          4,
          5,
          5,
          5,
          2,
          4,
          4,
          5,
          2,
          3,
          3,
          5,
          4,
          4,
          2,
          4,
          5,
          3,
          4,
          4,
          3,
          3,
          3,
          2,
          3,
          3,
          2,
          2,
          3,
          3,
          2,
          4,
          5,
          4,
          2,
          4,
          4,
          4,
          5,
          4,
          5,
          3,
          5,
          2,
          4,
          2,
          5,
          2,
          1,
          5,
          5,
          3,
          2,
          4,
          2,
          3,
          2,
          4,
          3,
          5,
          5,
          4,
          4,
          5,
          1,
          3,
          2,
          2,
          4,
          1,
          2,
          3,
          2,
          4,
          3,
          5,
          4,
          4,
          5,
          4,
          4,
          3,
          3,
          4,
          5,
          4,
          2,
          4,
          5,
          5,
          4,
          3,
          3,
          5,
          3,
          5,
          3,
          5,
          3,
          4,
          5,
          2,
          5,
          5,
          3,
          3,
          2,
          2,
          3,
          4,
          2,
          3,
          3,
          3,
          5,
          3,
          2,
          2,
          4,
          4,
          5,
          4,
          2,
          1,
          4,
          4,
          5,
          3,
          4,
          3,
          3,
          4,
          3,
          4,
          3,
          3,
          3,
          3,
          5,
          3,
          5,
          2,
          5,
          4,
          2,
          4,
          3,
          4,
          4,
          2,
          3,
          2,
          1,
          2,
          1,
          1,
          2,
          3,
          2,
          3,
          3,
          4,
          3,
          3,
          3,
          2,
          5,
          2,
          5,
          4,
          2,
          4,
          2,
          3,
          5,
          4,
          1,
          3,
          3,
          3,
          2,
          5,
          3,
          4,
          4,
          5,
          4,
          5,
          4,
          4,
          3,
          4,
          2,
          4,
          5,
          2,
          3,
          4,
          5,
          3,
          5,
          2,
          5,
          3,
          3,
          5,
          5,
          5,
          5,
          3,
          3,
          3,
          3,
          5,
          3,
          3,
          1,
          5,
          2,
          3,
          3,
          5,
          3,
          3,
          4,
          5,
          5,
          4,
          4,
          5,
          4,
          4,
          3,
          1,
          1,
          4,
          4,
          4,
          4,
          4,
          5,
          4,
          4,
          3,
          2,
          3,
          3,
          4,
          4,
          5,
          4,
          2,
          2,
          3,
          2,
          1,
          1,
          3,
          1,
          3,
          3,
          2,
          3,
          3,
          4,
          4,
          2,
          3,
          4,
          3,
          5,
          1,
          4,
          2,
          5,
          5,
          4,
          5,
          5,
          5,
          2,
          3,
          4,
          2,
          4,
          2,
          4,
          5,
          3,
          4,
          5,
          1,
          4,
          1,
          5,
          5,
          3,
          3,
          4,
          5,
          4,
          3,
          3,
          3,
          3,
          3,
          5,
          5,
          5,
          2,
          4,
          2,
          5,
          3,
          2,
          2,
          2,
          3,
          3,
          3,
          4,
          5,
          4,
          4,
          5,
          2,
          3,
          5,
          4,
          1,
          5,
          4,
          3,
          3,
          2,
          4,
          3,
          2,
          3,
          2,
          3,
          4,
          2,
          4,
          2,
          4,
          3,
          5,
          5,
          4,
          5,
          2,
          5,
          4,
          4,
          2,
          4,
          3,
          5,
          3,
          5,
          1,
          3,
          5,
          2,
          4,
          5,
          5,
          4,
          3,
          2,
          5,
          2,
          2,
          3,
          3,
          5,
          2,
          5,
          5,
          2,
          3,
          2,
          1,
          2,
          3,
          1,
          2,
          3,
          3,
          3,
          3,
          3,
          3,
          5,
          2,
          2,
          3,
          4,
          3,
          4,
          5,
          4,
          5,
          4,
          4,
          4,
          5,
          5,
          4,
          4,
          4,
          3,
          2,
          3,
          2,
          4,
          3,
          2,
          2,
          1,
          3,
          3,
          2,
          1,
          3,
          5,
          3,
          2,
          1,
          4,
          5,
          3,
          3,
          3,
          3,
          3,
          5,
          1,
          3,
          5,
          3,
          2,
          3,
          4,
          2,
          3,
          4,
          5,
          5,
          4,
          2,
          5,
          3,
          1,
          2,
          5,
          4,
          3,
          3,
          3,
          5,
          5,
          3,
          4,
          3,
          5,
          5,
          2,
          1,
          2,
          5,
          4,
          3,
          2,
          4,
          2,
          2,
          3,
          4,
          3,
          2,
          2,
          2,
          2,
          3,
          3,
          3,
          3,
          3,
          3,
          3,
          3,
          1,
          5,
          5,
          4,
          5,
          4,
          4,
          5,
          4,
          3,
          5,
          3,
          1,
          3,
          2,
          4,
          3,
          5,
          3,
          1,
          3,
          4,
          4,
          2,
          2,
          5,
          5,
          5,
          4,
          4,
          3,
          4,
          5,
          3,
          5,
          4,
          5,
          4,
          5,
          3,
          4,
          4,
          5,
          4,
          4,
          5,
          5,
          4,
          3,
          2,
          3,
          3,
          3,
          5,
          5,
          3,
          3,
          2,
          2,
          1,
          5,
          3,
          3,
          5,
          2,
          3,
          4,
          2,
          2,
          4,
          4,
          3,
          3,
          3,
          5,
          2,
          4,
          5,
          5,
          2,
          5,
          2,
          2,
          2,
          3,
          4,
          3,
          2,
          5,
          1,
          3,
          5,
          3,
          2,
          1,
          4,
          3,
          3,
          3,
          3,
          3,
          4,
          4,
          2,
          5,
          5,
          5,
          3,
          1,
          2,
          4,
          4,
          2,
          5,
          3,
          4,
          3,
          5,
          3,
          4,
          3,
          4,
          3,
          3,
          3,
          2,
          1,
          5,
          4,
          3,
          2,
          3,
          5,
          3,
          2,
          3,
          3,
          5,
          3,
          1,
          4,
          3,
          4,
          3,
          2,
          2,
          4,
          3,
          3,
          2,
          4,
          4,
          5,
          2,
          3,
          2,
          2,
          5,
          3,
          5,
          3,
          4,
          5,
          5,
          3,
          3,
          4,
          4,
          5,
          4,
          1,
          1,
          5,
          3,
          5,
          3,
          1,
          3,
          4,
          4,
          2,
          2,
          3,
          4,
          4,
          5,
          2,
          3,
          4,
          5,
          5,
          3,
          3,
          3,
          5,
          5,
          5,
          2,
          2,
          2,
          4,
          3,
          3,
          4,
          2,
          2,
          3,
          4,
          4,
          5,
          2,
          2,
          2,
          5,
          4,
          2,
          3,
          4,
          2,
          3,
          5,
          5,
          1,
          5,
          4,
          1,
          3,
          2,
          4,
          5,
          3,
          1,
          5,
          4,
          3,
          5,
          5,
          3,
          3,
          3,
          3,
          3,
          3,
          5,
          5,
          2,
          3,
          2,
          2,
          3,
          4,
          3,
          2,
          2,
          1,
          2,
          2,
          3,
          2,
          5,
          4,
          5,
          2,
          5,
          5,
          2,
          2,
          3,
          5,
          3,
          4,
          4,
          3,
          2,
          4,
          4,
          5,
          1,
          5,
          4,
          2,
          3,
          5,
          3,
          3,
          3,
          2,
          4,
          4,
          2,
          3,
          4,
          5,
          4,
          3,
          5,
          5,
          5,
          2,
          3,
          4,
          2,
          2,
          5,
          5,
          3,
          5,
          5,
          5,
          5,
          4,
          2,
          2,
          5,
          5,
          3,
          5,
          3,
          4,
          5,
          4,
          5,
          4,
          5,
          5,
          4,
          4,
          2,
          3,
          4,
          5,
          3,
          5,
          5,
          5,
          3,
          3,
          4,
          2,
          5,
          4,
          2,
          4,
          3,
          5,
          5,
          2,
          4,
          4,
          3,
          2,
          2,
          5,
          5,
          5,
          4,
          3,
          5,
          5,
          3,
          2,
          2,
          5,
          5,
          4,
          2,
          4,
          5,
          2,
          4,
          5,
          4,
          5,
          3,
          3,
          3,
          4,
          2,
          4,
          3,
          1,
          5,
          5,
          5,
          1,
          1,
          5,
          4,
          1,
          5,
          2,
          5,
          4,
          5,
          3,
          5,
          3,
          5,
          5,
          5,
          4,
          5,
          4,
          3,
          1,
          3,
          4,
          2,
          5,
          1,
          4,
          2,
          2,
          3,
          3,
          5,
          1,
          3,
          3,
          4,
          5,
          5,
          5,
          3,
          4,
          4,
          5,
          2,
          5,
          2,
          2,
          5,
          1,
          2,
          3,
          3,
          3,
          3,
          5,
          2,
          3,
          3,
          4,
          3,
          2,
          3,
          4,
          4,
          5,
          3,
          4,
          4,
          5,
          4,
          4,
          5,
          3,
          2,
          5,
          5,
          5,
          5,
          4,
          3,
          4,
          5,
          5,
          3,
          4,
          3,
          3,
          2,
          4,
          4,
          4,
          2,
          5,
          5,
          4,
          4,
          3,
          1,
          2,
          3,
          3,
          5,
          3,
          3,
          4,
          3,
          5,
          5,
          4,
          4,
          3,
          5,
          3,
          4,
          3,
          2,
          4,
          4,
          3,
          5,
          3,
          5,
          4,
          5,
          5,
          2,
          3,
          1,
          2,
          2,
          3,
          3,
          1,
          3,
          2,
          4,
          1,
          2,
          4,
          3,
          3,
          5,
          2,
          4,
          3,
          5,
          2,
          4,
          5,
          5,
          5,
          4,
          5,
          5,
          4,
          2,
          3,
          1,
          2,
          2,
          3,
          2,
          2,
          3,
          1,
          2,
          4,
          4,
          3,
          4,
          4,
          1,
          3,
          4,
          4,
          3,
          5,
          2,
          5,
          4,
          5,
          2,
          1,
          3,
          3,
          5,
          3,
          2,
          2,
          3,
          4,
          3,
          3,
          3,
          3,
          3,
          4,
          1,
          2,
          3,
          1,
          3,
          5,
          4,
          3,
          2,
          5,
          3,
          4,
          5,
          1,
          2,
          5,
          3,
          3,
          3
         ],
         "xaxis": "x",
         "yaxis": "y"
        }
       ],
       "layout": {
        "barmode": "relative",
        "legend": {
         "tracegroupgap": 0
        },
        "template": {
         "data": {
          "bar": [
           {
            "error_x": {
             "color": "#2a3f5f"
            },
            "error_y": {
             "color": "#2a3f5f"
            },
            "marker": {
             "line": {
              "color": "#E5ECF6",
              "width": 0.5
             },
             "pattern": {
              "fillmode": "overlay",
              "size": 10,
              "solidity": 0.2
             }
            },
            "type": "bar"
           }
          ],
          "barpolar": [
           {
            "marker": {
             "line": {
              "color": "#E5ECF6",
              "width": 0.5
             },
             "pattern": {
              "fillmode": "overlay",
              "size": 10,
              "solidity": 0.2
             }
            },
            "type": "barpolar"
           }
          ],
          "carpet": [
           {
            "aaxis": {
             "endlinecolor": "#2a3f5f",
             "gridcolor": "white",
             "linecolor": "white",
             "minorgridcolor": "white",
             "startlinecolor": "#2a3f5f"
            },
            "baxis": {
             "endlinecolor": "#2a3f5f",
             "gridcolor": "white",
             "linecolor": "white",
             "minorgridcolor": "white",
             "startlinecolor": "#2a3f5f"
            },
            "type": "carpet"
           }
          ],
          "choropleth": [
           {
            "colorbar": {
             "outlinewidth": 0,
             "ticks": ""
            },
            "type": "choropleth"
           }
          ],
          "contour": [
           {
            "colorbar": {
             "outlinewidth": 0,
             "ticks": ""
            },
            "colorscale": [
             [
              0,
              "#0d0887"
             ],
             [
              0.1111111111111111,
              "#46039f"
             ],
             [
              0.2222222222222222,
              "#7201a8"
             ],
             [
              0.3333333333333333,
              "#9c179e"
             ],
             [
              0.4444444444444444,
              "#bd3786"
             ],
             [
              0.5555555555555556,
              "#d8576b"
             ],
             [
              0.6666666666666666,
              "#ed7953"
             ],
             [
              0.7777777777777778,
              "#fb9f3a"
             ],
             [
              0.8888888888888888,
              "#fdca26"
             ],
             [
              1,
              "#f0f921"
             ]
            ],
            "type": "contour"
           }
          ],
          "contourcarpet": [
           {
            "colorbar": {
             "outlinewidth": 0,
             "ticks": ""
            },
            "type": "contourcarpet"
           }
          ],
          "heatmap": [
           {
            "colorbar": {
             "outlinewidth": 0,
             "ticks": ""
            },
            "colorscale": [
             [
              0,
              "#0d0887"
             ],
             [
              0.1111111111111111,
              "#46039f"
             ],
             [
              0.2222222222222222,
              "#7201a8"
             ],
             [
              0.3333333333333333,
              "#9c179e"
             ],
             [
              0.4444444444444444,
              "#bd3786"
             ],
             [
              0.5555555555555556,
              "#d8576b"
             ],
             [
              0.6666666666666666,
              "#ed7953"
             ],
             [
              0.7777777777777778,
              "#fb9f3a"
             ],
             [
              0.8888888888888888,
              "#fdca26"
             ],
             [
              1,
              "#f0f921"
             ]
            ],
            "type": "heatmap"
           }
          ],
          "heatmapgl": [
           {
            "colorbar": {
             "outlinewidth": 0,
             "ticks": ""
            },
            "colorscale": [
             [
              0,
              "#0d0887"
             ],
             [
              0.1111111111111111,
              "#46039f"
             ],
             [
              0.2222222222222222,
              "#7201a8"
             ],
             [
              0.3333333333333333,
              "#9c179e"
             ],
             [
              0.4444444444444444,
              "#bd3786"
             ],
             [
              0.5555555555555556,
              "#d8576b"
             ],
             [
              0.6666666666666666,
              "#ed7953"
             ],
             [
              0.7777777777777778,
              "#fb9f3a"
             ],
             [
              0.8888888888888888,
              "#fdca26"
             ],
             [
              1,
              "#f0f921"
             ]
            ],
            "type": "heatmapgl"
           }
          ],
          "histogram": [
           {
            "marker": {
             "pattern": {
              "fillmode": "overlay",
              "size": 10,
              "solidity": 0.2
             }
            },
            "type": "histogram"
           }
          ],
          "histogram2d": [
           {
            "colorbar": {
             "outlinewidth": 0,
             "ticks": ""
            },
            "colorscale": [
             [
              0,
              "#0d0887"
             ],
             [
              0.1111111111111111,
              "#46039f"
             ],
             [
              0.2222222222222222,
              "#7201a8"
             ],
             [
              0.3333333333333333,
              "#9c179e"
             ],
             [
              0.4444444444444444,
              "#bd3786"
             ],
             [
              0.5555555555555556,
              "#d8576b"
             ],
             [
              0.6666666666666666,
              "#ed7953"
             ],
             [
              0.7777777777777778,
              "#fb9f3a"
             ],
             [
              0.8888888888888888,
              "#fdca26"
             ],
             [
              1,
              "#f0f921"
             ]
            ],
            "type": "histogram2d"
           }
          ],
          "histogram2dcontour": [
           {
            "colorbar": {
             "outlinewidth": 0,
             "ticks": ""
            },
            "colorscale": [
             [
              0,
              "#0d0887"
             ],
             [
              0.1111111111111111,
              "#46039f"
             ],
             [
              0.2222222222222222,
              "#7201a8"
             ],
             [
              0.3333333333333333,
              "#9c179e"
             ],
             [
              0.4444444444444444,
              "#bd3786"
             ],
             [
              0.5555555555555556,
              "#d8576b"
             ],
             [
              0.6666666666666666,
              "#ed7953"
             ],
             [
              0.7777777777777778,
              "#fb9f3a"
             ],
             [
              0.8888888888888888,
              "#fdca26"
             ],
             [
              1,
              "#f0f921"
             ]
            ],
            "type": "histogram2dcontour"
           }
          ],
          "mesh3d": [
           {
            "colorbar": {
             "outlinewidth": 0,
             "ticks": ""
            },
            "type": "mesh3d"
           }
          ],
          "parcoords": [
           {
            "line": {
             "colorbar": {
              "outlinewidth": 0,
              "ticks": ""
             }
            },
            "type": "parcoords"
           }
          ],
          "pie": [
           {
            "automargin": true,
            "type": "pie"
           }
          ],
          "scatter": [
           {
            "fillpattern": {
             "fillmode": "overlay",
             "size": 10,
             "solidity": 0.2
            },
            "type": "scatter"
           }
          ],
          "scatter3d": [
           {
            "line": {
             "colorbar": {
              "outlinewidth": 0,
              "ticks": ""
             }
            },
            "marker": {
             "colorbar": {
              "outlinewidth": 0,
              "ticks": ""
             }
            },
            "type": "scatter3d"
           }
          ],
          "scattercarpet": [
           {
            "marker": {
             "colorbar": {
              "outlinewidth": 0,
              "ticks": ""
             }
            },
            "type": "scattercarpet"
           }
          ],
          "scattergeo": [
           {
            "marker": {
             "colorbar": {
              "outlinewidth": 0,
              "ticks": ""
             }
            },
            "type": "scattergeo"
           }
          ],
          "scattergl": [
           {
            "marker": {
             "colorbar": {
              "outlinewidth": 0,
              "ticks": ""
             }
            },
            "type": "scattergl"
           }
          ],
          "scattermapbox": [
           {
            "marker": {
             "colorbar": {
              "outlinewidth": 0,
              "ticks": ""
             }
            },
            "type": "scattermapbox"
           }
          ],
          "scatterpolar": [
           {
            "marker": {
             "colorbar": {
              "outlinewidth": 0,
              "ticks": ""
             }
            },
            "type": "scatterpolar"
           }
          ],
          "scatterpolargl": [
           {
            "marker": {
             "colorbar": {
              "outlinewidth": 0,
              "ticks": ""
             }
            },
            "type": "scatterpolargl"
           }
          ],
          "scatterternary": [
           {
            "marker": {
             "colorbar": {
              "outlinewidth": 0,
              "ticks": ""
             }
            },
            "type": "scatterternary"
           }
          ],
          "surface": [
           {
            "colorbar": {
             "outlinewidth": 0,
             "ticks": ""
            },
            "colorscale": [
             [
              0,
              "#0d0887"
             ],
             [
              0.1111111111111111,
              "#46039f"
             ],
             [
              0.2222222222222222,
              "#7201a8"
             ],
             [
              0.3333333333333333,
              "#9c179e"
             ],
             [
              0.4444444444444444,
              "#bd3786"
             ],
             [
              0.5555555555555556,
              "#d8576b"
             ],
             [
              0.6666666666666666,
              "#ed7953"
             ],
             [
              0.7777777777777778,
              "#fb9f3a"
             ],
             [
              0.8888888888888888,
              "#fdca26"
             ],
             [
              1,
              "#f0f921"
             ]
            ],
            "type": "surface"
           }
          ],
          "table": [
           {
            "cells": {
             "fill": {
              "color": "#EBF0F8"
             },
             "line": {
              "color": "white"
             }
            },
            "header": {
             "fill": {
              "color": "#C8D4E3"
             },
             "line": {
              "color": "white"
             }
            },
            "type": "table"
           }
          ]
         },
         "layout": {
          "annotationdefaults": {
           "arrowcolor": "#2a3f5f",
           "arrowhead": 0,
           "arrowwidth": 1
          },
          "autotypenumbers": "strict",
          "coloraxis": {
           "colorbar": {
            "outlinewidth": 0,
            "ticks": ""
           }
          },
          "colorscale": {
           "diverging": [
            [
             0,
             "#8e0152"
            ],
            [
             0.1,
             "#c51b7d"
            ],
            [
             0.2,
             "#de77ae"
            ],
            [
             0.3,
             "#f1b6da"
            ],
            [
             0.4,
             "#fde0ef"
            ],
            [
             0.5,
             "#f7f7f7"
            ],
            [
             0.6,
             "#e6f5d0"
            ],
            [
             0.7,
             "#b8e186"
            ],
            [
             0.8,
             "#7fbc41"
            ],
            [
             0.9,
             "#4d9221"
            ],
            [
             1,
             "#276419"
            ]
           ],
           "sequential": [
            [
             0,
             "#0d0887"
            ],
            [
             0.1111111111111111,
             "#46039f"
            ],
            [
             0.2222222222222222,
             "#7201a8"
            ],
            [
             0.3333333333333333,
             "#9c179e"
            ],
            [
             0.4444444444444444,
             "#bd3786"
            ],
            [
             0.5555555555555556,
             "#d8576b"
            ],
            [
             0.6666666666666666,
             "#ed7953"
            ],
            [
             0.7777777777777778,
             "#fb9f3a"
            ],
            [
             0.8888888888888888,
             "#fdca26"
            ],
            [
             1,
             "#f0f921"
            ]
           ],
           "sequentialminus": [
            [
             0,
             "#0d0887"
            ],
            [
             0.1111111111111111,
             "#46039f"
            ],
            [
             0.2222222222222222,
             "#7201a8"
            ],
            [
             0.3333333333333333,
             "#9c179e"
            ],
            [
             0.4444444444444444,
             "#bd3786"
            ],
            [
             0.5555555555555556,
             "#d8576b"
            ],
            [
             0.6666666666666666,
             "#ed7953"
            ],
            [
             0.7777777777777778,
             "#fb9f3a"
            ],
            [
             0.8888888888888888,
             "#fdca26"
            ],
            [
             1,
             "#f0f921"
            ]
           ]
          },
          "colorway": [
           "#636efa",
           "#EF553B",
           "#00cc96",
           "#ab63fa",
           "#FFA15A",
           "#19d3f3",
           "#FF6692",
           "#B6E880",
           "#FF97FF",
           "#FECB52"
          ],
          "font": {
           "color": "#2a3f5f"
          },
          "geo": {
           "bgcolor": "white",
           "lakecolor": "white",
           "landcolor": "#E5ECF6",
           "showlakes": true,
           "showland": true,
           "subunitcolor": "white"
          },
          "hoverlabel": {
           "align": "left"
          },
          "hovermode": "closest",
          "mapbox": {
           "style": "light"
          },
          "paper_bgcolor": "white",
          "plot_bgcolor": "#E5ECF6",
          "polar": {
           "angularaxis": {
            "gridcolor": "white",
            "linecolor": "white",
            "ticks": ""
           },
           "bgcolor": "#E5ECF6",
           "radialaxis": {
            "gridcolor": "white",
            "linecolor": "white",
            "ticks": ""
           }
          },
          "scene": {
           "xaxis": {
            "backgroundcolor": "#E5ECF6",
            "gridcolor": "white",
            "gridwidth": 2,
            "linecolor": "white",
            "showbackground": true,
            "ticks": "",
            "zerolinecolor": "white"
           },
           "yaxis": {
            "backgroundcolor": "#E5ECF6",
            "gridcolor": "white",
            "gridwidth": 2,
            "linecolor": "white",
            "showbackground": true,
            "ticks": "",
            "zerolinecolor": "white"
           },
           "zaxis": {
            "backgroundcolor": "#E5ECF6",
            "gridcolor": "white",
            "gridwidth": 2,
            "linecolor": "white",
            "showbackground": true,
            "ticks": "",
            "zerolinecolor": "white"
           }
          },
          "shapedefaults": {
           "line": {
            "color": "#2a3f5f"
           }
          },
          "ternary": {
           "aaxis": {
            "gridcolor": "white",
            "linecolor": "white",
            "ticks": ""
           },
           "baxis": {
            "gridcolor": "white",
            "linecolor": "white",
            "ticks": ""
           },
           "bgcolor": "#E5ECF6",
           "caxis": {
            "gridcolor": "white",
            "linecolor": "white",
            "ticks": ""
           }
          },
          "title": {
           "x": 0.05
          },
          "xaxis": {
           "automargin": true,
           "gridcolor": "white",
           "linecolor": "white",
           "ticks": "",
           "title": {
            "standoff": 15
           },
           "zerolinecolor": "white",
           "zerolinewidth": 2
          },
          "yaxis": {
           "automargin": true,
           "gridcolor": "white",
           "linecolor": "white",
           "ticks": "",
           "title": {
            "standoff": 15
           },
           "zerolinecolor": "white",
           "zerolinewidth": 2
          }
         }
        },
        "title": {
         "text": "Distribution of Review Scores"
        },
        "xaxis": {
         "anchor": "y",
         "domain": [
          0,
          1
         ],
         "title": {
          "text": "Review Score"
         }
        },
        "yaxis": {
         "anchor": "x",
         "domain": [
          0,
          1
         ],
         "title": {
          "text": "Frequency"
         }
        }
       }
      }
     },
     "metadata": {},
     "output_type": "display_data"
    }
   ],
   "source": [
    "# Create a histogram with Plotly\n",
    "fig = px.histogram(user_reviews_long_df, x='Review Score', nbins=10,\n",
    "                   labels={'Review Score': 'Review Score', 'count': 'Frequency'},\n",
    "                   title='Distribution of Review Scores')\n",
    "\n",
    "# Update layout\n",
    "fig.update_layout(\n",
    "    xaxis=dict(title='Review Score'),\n",
    "    yaxis=dict(title='Frequency')\n",
    ")\n",
    "\n",
    "# Show the plot\n",
    "fig.show()\n"
   ]
  },
  {
   "cell_type": "markdown",
   "metadata": {},
   "source": [
    "![Opp](Images/Distribution_reviewscore.png)"
   ]
  },
  {
   "cell_type": "markdown",
   "metadata": {},
   "source": [
    "#### <b><span style='color:#FF0000'> NOTE :</span></b>\n",
    "- **Review score \"3\" has the highest frequency, with the bar reaching over 1456 counts.**\n",
    "- **Review score \"4\" & \"5\" has the highest frequency, with the bar reaching over 2277 counts indicating that on average most customers had a overall positive experience.**"
   ]
  },
  {
   "cell_type": "markdown",
   "metadata": {},
   "source": [
    "<a id=\"4.2\"></a>\n",
    "## <b>4.2 <span style='color:#de9e46'> Visualizing Top 20 Product Categories Distribution </span></b>"
   ]
  },
  {
   "cell_type": "code",
   "execution_count": 19,
   "metadata": {},
   "outputs": [
    {
     "data": {
      "application/vnd.plotly.v1+json": {
       "config": {
        "plotlyServerURL": "https://plot.ly"
       },
       "data": [
        {
         "alignmentgroup": "True",
         "hovertemplate": "Product Category=%{x}<br>Number of Products=%{y}<br>color=%{marker.color}<extra></extra>",
         "legendgroup": "",
         "marker": {
          "color": [
           21,
           15,
           14,
           14,
           12,
           12,
           12,
           10,
           10,
           9,
           9,
           8,
           8,
           7,
           7,
           7,
           6,
           6,
           6,
           6
          ],
          "coloraxis": "coloraxis",
          "pattern": {
           "shape": ""
          }
         },
         "name": "",
         "offsetgroup": "",
         "orientation": "v",
         "showlegend": false,
         "textposition": "auto",
         "type": "bar",
         "x": [
          "makeup > lips > lipstick",
          "makeup > face > blush",
          "mom & baby > maternity wear > maternity bra",
          "makeup > lips > liquid lipstick",
          "skin > moisturizers > face moisturizer & day cream",
          "makeup > face > foundation",
          "makeup > nails > nail polish",
          "makeup > eyes > under eye concealer",
          "personal care > bath & shower > shampoo",
          "makeup > face > highlighters",
          "skin > body care > lotions & creams",
          "skin > shop by concern > skin dryness",
          "natural > hair > shampoo & cleanser",
          "natural > types of skin > dry skin",
          "makeup > face > concealer",
          "natural > types of skin > normal skin",
          "natural > types of skin > oily skin",
          "brand > lakme",
          " luxe > fragrance > perfumes (edp/edt)",
          "natural > shop by concern > hairfall"
         ],
         "xaxis": "x",
         "y": [
          21,
          15,
          14,
          14,
          12,
          12,
          12,
          10,
          10,
          9,
          9,
          8,
          8,
          7,
          7,
          7,
          6,
          6,
          6,
          6
         ],
         "yaxis": "y"
        }
       ],
       "layout": {
        "barmode": "relative",
        "coloraxis": {
         "colorbar": {
          "title": {
           "text": "color"
          }
         },
         "colorscale": [
          [
           0,
           "#440154"
          ],
          [
           0.1111111111111111,
           "#482878"
          ],
          [
           0.2222222222222222,
           "#3e4989"
          ],
          [
           0.3333333333333333,
           "#31688e"
          ],
          [
           0.4444444444444444,
           "#26828e"
          ],
          [
           0.5555555555555556,
           "#1f9e89"
          ],
          [
           0.6666666666666666,
           "#35b779"
          ],
          [
           0.7777777777777778,
           "#6ece58"
          ],
          [
           0.8888888888888888,
           "#b5de2b"
          ],
          [
           1,
           "#fde725"
          ]
         ]
        },
        "legend": {
         "tracegroupgap": 0
        },
        "template": {
         "data": {
          "bar": [
           {
            "error_x": {
             "color": "#2a3f5f"
            },
            "error_y": {
             "color": "#2a3f5f"
            },
            "marker": {
             "line": {
              "color": "#E5ECF6",
              "width": 0.5
             },
             "pattern": {
              "fillmode": "overlay",
              "size": 10,
              "solidity": 0.2
             }
            },
            "type": "bar"
           }
          ],
          "barpolar": [
           {
            "marker": {
             "line": {
              "color": "#E5ECF6",
              "width": 0.5
             },
             "pattern": {
              "fillmode": "overlay",
              "size": 10,
              "solidity": 0.2
             }
            },
            "type": "barpolar"
           }
          ],
          "carpet": [
           {
            "aaxis": {
             "endlinecolor": "#2a3f5f",
             "gridcolor": "white",
             "linecolor": "white",
             "minorgridcolor": "white",
             "startlinecolor": "#2a3f5f"
            },
            "baxis": {
             "endlinecolor": "#2a3f5f",
             "gridcolor": "white",
             "linecolor": "white",
             "minorgridcolor": "white",
             "startlinecolor": "#2a3f5f"
            },
            "type": "carpet"
           }
          ],
          "choropleth": [
           {
            "colorbar": {
             "outlinewidth": 0,
             "ticks": ""
            },
            "type": "choropleth"
           }
          ],
          "contour": [
           {
            "colorbar": {
             "outlinewidth": 0,
             "ticks": ""
            },
            "colorscale": [
             [
              0,
              "#0d0887"
             ],
             [
              0.1111111111111111,
              "#46039f"
             ],
             [
              0.2222222222222222,
              "#7201a8"
             ],
             [
              0.3333333333333333,
              "#9c179e"
             ],
             [
              0.4444444444444444,
              "#bd3786"
             ],
             [
              0.5555555555555556,
              "#d8576b"
             ],
             [
              0.6666666666666666,
              "#ed7953"
             ],
             [
              0.7777777777777778,
              "#fb9f3a"
             ],
             [
              0.8888888888888888,
              "#fdca26"
             ],
             [
              1,
              "#f0f921"
             ]
            ],
            "type": "contour"
           }
          ],
          "contourcarpet": [
           {
            "colorbar": {
             "outlinewidth": 0,
             "ticks": ""
            },
            "type": "contourcarpet"
           }
          ],
          "heatmap": [
           {
            "colorbar": {
             "outlinewidth": 0,
             "ticks": ""
            },
            "colorscale": [
             [
              0,
              "#0d0887"
             ],
             [
              0.1111111111111111,
              "#46039f"
             ],
             [
              0.2222222222222222,
              "#7201a8"
             ],
             [
              0.3333333333333333,
              "#9c179e"
             ],
             [
              0.4444444444444444,
              "#bd3786"
             ],
             [
              0.5555555555555556,
              "#d8576b"
             ],
             [
              0.6666666666666666,
              "#ed7953"
             ],
             [
              0.7777777777777778,
              "#fb9f3a"
             ],
             [
              0.8888888888888888,
              "#fdca26"
             ],
             [
              1,
              "#f0f921"
             ]
            ],
            "type": "heatmap"
           }
          ],
          "heatmapgl": [
           {
            "colorbar": {
             "outlinewidth": 0,
             "ticks": ""
            },
            "colorscale": [
             [
              0,
              "#0d0887"
             ],
             [
              0.1111111111111111,
              "#46039f"
             ],
             [
              0.2222222222222222,
              "#7201a8"
             ],
             [
              0.3333333333333333,
              "#9c179e"
             ],
             [
              0.4444444444444444,
              "#bd3786"
             ],
             [
              0.5555555555555556,
              "#d8576b"
             ],
             [
              0.6666666666666666,
              "#ed7953"
             ],
             [
              0.7777777777777778,
              "#fb9f3a"
             ],
             [
              0.8888888888888888,
              "#fdca26"
             ],
             [
              1,
              "#f0f921"
             ]
            ],
            "type": "heatmapgl"
           }
          ],
          "histogram": [
           {
            "marker": {
             "pattern": {
              "fillmode": "overlay",
              "size": 10,
              "solidity": 0.2
             }
            },
            "type": "histogram"
           }
          ],
          "histogram2d": [
           {
            "colorbar": {
             "outlinewidth": 0,
             "ticks": ""
            },
            "colorscale": [
             [
              0,
              "#0d0887"
             ],
             [
              0.1111111111111111,
              "#46039f"
             ],
             [
              0.2222222222222222,
              "#7201a8"
             ],
             [
              0.3333333333333333,
              "#9c179e"
             ],
             [
              0.4444444444444444,
              "#bd3786"
             ],
             [
              0.5555555555555556,
              "#d8576b"
             ],
             [
              0.6666666666666666,
              "#ed7953"
             ],
             [
              0.7777777777777778,
              "#fb9f3a"
             ],
             [
              0.8888888888888888,
              "#fdca26"
             ],
             [
              1,
              "#f0f921"
             ]
            ],
            "type": "histogram2d"
           }
          ],
          "histogram2dcontour": [
           {
            "colorbar": {
             "outlinewidth": 0,
             "ticks": ""
            },
            "colorscale": [
             [
              0,
              "#0d0887"
             ],
             [
              0.1111111111111111,
              "#46039f"
             ],
             [
              0.2222222222222222,
              "#7201a8"
             ],
             [
              0.3333333333333333,
              "#9c179e"
             ],
             [
              0.4444444444444444,
              "#bd3786"
             ],
             [
              0.5555555555555556,
              "#d8576b"
             ],
             [
              0.6666666666666666,
              "#ed7953"
             ],
             [
              0.7777777777777778,
              "#fb9f3a"
             ],
             [
              0.8888888888888888,
              "#fdca26"
             ],
             [
              1,
              "#f0f921"
             ]
            ],
            "type": "histogram2dcontour"
           }
          ],
          "mesh3d": [
           {
            "colorbar": {
             "outlinewidth": 0,
             "ticks": ""
            },
            "type": "mesh3d"
           }
          ],
          "parcoords": [
           {
            "line": {
             "colorbar": {
              "outlinewidth": 0,
              "ticks": ""
             }
            },
            "type": "parcoords"
           }
          ],
          "pie": [
           {
            "automargin": true,
            "type": "pie"
           }
          ],
          "scatter": [
           {
            "fillpattern": {
             "fillmode": "overlay",
             "size": 10,
             "solidity": 0.2
            },
            "type": "scatter"
           }
          ],
          "scatter3d": [
           {
            "line": {
             "colorbar": {
              "outlinewidth": 0,
              "ticks": ""
             }
            },
            "marker": {
             "colorbar": {
              "outlinewidth": 0,
              "ticks": ""
             }
            },
            "type": "scatter3d"
           }
          ],
          "scattercarpet": [
           {
            "marker": {
             "colorbar": {
              "outlinewidth": 0,
              "ticks": ""
             }
            },
            "type": "scattercarpet"
           }
          ],
          "scattergeo": [
           {
            "marker": {
             "colorbar": {
              "outlinewidth": 0,
              "ticks": ""
             }
            },
            "type": "scattergeo"
           }
          ],
          "scattergl": [
           {
            "marker": {
             "colorbar": {
              "outlinewidth": 0,
              "ticks": ""
             }
            },
            "type": "scattergl"
           }
          ],
          "scattermapbox": [
           {
            "marker": {
             "colorbar": {
              "outlinewidth": 0,
              "ticks": ""
             }
            },
            "type": "scattermapbox"
           }
          ],
          "scatterpolar": [
           {
            "marker": {
             "colorbar": {
              "outlinewidth": 0,
              "ticks": ""
             }
            },
            "type": "scatterpolar"
           }
          ],
          "scatterpolargl": [
           {
            "marker": {
             "colorbar": {
              "outlinewidth": 0,
              "ticks": ""
             }
            },
            "type": "scatterpolargl"
           }
          ],
          "scatterternary": [
           {
            "marker": {
             "colorbar": {
              "outlinewidth": 0,
              "ticks": ""
             }
            },
            "type": "scatterternary"
           }
          ],
          "surface": [
           {
            "colorbar": {
             "outlinewidth": 0,
             "ticks": ""
            },
            "colorscale": [
             [
              0,
              "#0d0887"
             ],
             [
              0.1111111111111111,
              "#46039f"
             ],
             [
              0.2222222222222222,
              "#7201a8"
             ],
             [
              0.3333333333333333,
              "#9c179e"
             ],
             [
              0.4444444444444444,
              "#bd3786"
             ],
             [
              0.5555555555555556,
              "#d8576b"
             ],
             [
              0.6666666666666666,
              "#ed7953"
             ],
             [
              0.7777777777777778,
              "#fb9f3a"
             ],
             [
              0.8888888888888888,
              "#fdca26"
             ],
             [
              1,
              "#f0f921"
             ]
            ],
            "type": "surface"
           }
          ],
          "table": [
           {
            "cells": {
             "fill": {
              "color": "#EBF0F8"
             },
             "line": {
              "color": "white"
             }
            },
            "header": {
             "fill": {
              "color": "#C8D4E3"
             },
             "line": {
              "color": "white"
             }
            },
            "type": "table"
           }
          ]
         },
         "layout": {
          "annotationdefaults": {
           "arrowcolor": "#2a3f5f",
           "arrowhead": 0,
           "arrowwidth": 1
          },
          "autotypenumbers": "strict",
          "coloraxis": {
           "colorbar": {
            "outlinewidth": 0,
            "ticks": ""
           }
          },
          "colorscale": {
           "diverging": [
            [
             0,
             "#8e0152"
            ],
            [
             0.1,
             "#c51b7d"
            ],
            [
             0.2,
             "#de77ae"
            ],
            [
             0.3,
             "#f1b6da"
            ],
            [
             0.4,
             "#fde0ef"
            ],
            [
             0.5,
             "#f7f7f7"
            ],
            [
             0.6,
             "#e6f5d0"
            ],
            [
             0.7,
             "#b8e186"
            ],
            [
             0.8,
             "#7fbc41"
            ],
            [
             0.9,
             "#4d9221"
            ],
            [
             1,
             "#276419"
            ]
           ],
           "sequential": [
            [
             0,
             "#0d0887"
            ],
            [
             0.1111111111111111,
             "#46039f"
            ],
            [
             0.2222222222222222,
             "#7201a8"
            ],
            [
             0.3333333333333333,
             "#9c179e"
            ],
            [
             0.4444444444444444,
             "#bd3786"
            ],
            [
             0.5555555555555556,
             "#d8576b"
            ],
            [
             0.6666666666666666,
             "#ed7953"
            ],
            [
             0.7777777777777778,
             "#fb9f3a"
            ],
            [
             0.8888888888888888,
             "#fdca26"
            ],
            [
             1,
             "#f0f921"
            ]
           ],
           "sequentialminus": [
            [
             0,
             "#0d0887"
            ],
            [
             0.1111111111111111,
             "#46039f"
            ],
            [
             0.2222222222222222,
             "#7201a8"
            ],
            [
             0.3333333333333333,
             "#9c179e"
            ],
            [
             0.4444444444444444,
             "#bd3786"
            ],
            [
             0.5555555555555556,
             "#d8576b"
            ],
            [
             0.6666666666666666,
             "#ed7953"
            ],
            [
             0.7777777777777778,
             "#fb9f3a"
            ],
            [
             0.8888888888888888,
             "#fdca26"
            ],
            [
             1,
             "#f0f921"
            ]
           ]
          },
          "colorway": [
           "#636efa",
           "#EF553B",
           "#00cc96",
           "#ab63fa",
           "#FFA15A",
           "#19d3f3",
           "#FF6692",
           "#B6E880",
           "#FF97FF",
           "#FECB52"
          ],
          "font": {
           "color": "#2a3f5f"
          },
          "geo": {
           "bgcolor": "white",
           "lakecolor": "white",
           "landcolor": "#E5ECF6",
           "showlakes": true,
           "showland": true,
           "subunitcolor": "white"
          },
          "hoverlabel": {
           "align": "left"
          },
          "hovermode": "closest",
          "mapbox": {
           "style": "light"
          },
          "paper_bgcolor": "white",
          "plot_bgcolor": "#E5ECF6",
          "polar": {
           "angularaxis": {
            "gridcolor": "white",
            "linecolor": "white",
            "ticks": ""
           },
           "bgcolor": "#E5ECF6",
           "radialaxis": {
            "gridcolor": "white",
            "linecolor": "white",
            "ticks": ""
           }
          },
          "scene": {
           "xaxis": {
            "backgroundcolor": "#E5ECF6",
            "gridcolor": "white",
            "gridwidth": 2,
            "linecolor": "white",
            "showbackground": true,
            "ticks": "",
            "zerolinecolor": "white"
           },
           "yaxis": {
            "backgroundcolor": "#E5ECF6",
            "gridcolor": "white",
            "gridwidth": 2,
            "linecolor": "white",
            "showbackground": true,
            "ticks": "",
            "zerolinecolor": "white"
           },
           "zaxis": {
            "backgroundcolor": "#E5ECF6",
            "gridcolor": "white",
            "gridwidth": 2,
            "linecolor": "white",
            "showbackground": true,
            "ticks": "",
            "zerolinecolor": "white"
           }
          },
          "shapedefaults": {
           "line": {
            "color": "#2a3f5f"
           }
          },
          "ternary": {
           "aaxis": {
            "gridcolor": "white",
            "linecolor": "white",
            "ticks": ""
           },
           "baxis": {
            "gridcolor": "white",
            "linecolor": "white",
            "ticks": ""
           },
           "bgcolor": "#E5ECF6",
           "caxis": {
            "gridcolor": "white",
            "linecolor": "white",
            "ticks": ""
           }
          },
          "title": {
           "x": 0.05
          },
          "xaxis": {
           "automargin": true,
           "gridcolor": "white",
           "linecolor": "white",
           "ticks": "",
           "title": {
            "standoff": 15
           },
           "zerolinecolor": "white",
           "zerolinewidth": 2
          },
          "yaxis": {
           "automargin": true,
           "gridcolor": "white",
           "linecolor": "white",
           "ticks": "",
           "title": {
            "standoff": 15
           },
           "zerolinecolor": "white",
           "zerolinewidth": 2
          }
         }
        },
        "title": {
         "text": "Top 20 Product Categories Distribution (Excluding 'Category Not Specified')"
        },
        "xaxis": {
         "anchor": "y",
         "domain": [
          0,
          1
         ],
         "title": {
          "text": "Product Category"
         }
        },
        "yaxis": {
         "anchor": "x",
         "domain": [
          0,
          1
         ],
         "title": {
          "text": "Number of Products"
         }
        }
       }
      }
     },
     "metadata": {},
     "output_type": "display_data"
    }
   ],
   "source": [
    "# Exclude 'Category Not Specified' from the analysis\n",
    "filtered_df = metadata_original_df[metadata_original_df['Product Category'] != 'category not specified']\n",
    "\n",
    "# Count the occurrences of each category and select the top 20\n",
    "category_counts = filtered_df['Product Category'].value_counts().head(20)\n",
    "\n",
    "# Create the bar chart\n",
    "fig = px.bar(\n",
    "    category_counts,\n",
    "    x=category_counts.index,\n",
    "    y=category_counts.values,\n",
    "    title=\"Top 20 Product Categories Distribution (Excluding 'Category Not Specified')\",\n",
    "    labels={'x': 'Product Category', 'y': 'Number of Products'},\n",
    "    color=category_counts.values,\n",
    "    color_continuous_scale=px.colors.sequential.Viridis\n",
    ")\n",
    "\n",
    "# Show the figure\n",
    "fig.show()\n"
   ]
  },
  {
   "cell_type": "markdown",
   "metadata": {},
   "source": [
    "![Opp](Images/Top20Products.png)"
   ]
  },
  {
   "cell_type": "markdown",
   "metadata": {},
   "source": [
    "#### <b><span style='color:#FF0000'> NOTE :</span></b>\n",
    "- **From the above plot we can understand \"Makeup > lips > lipstick\" & \"makeup > face > blush\" are the most common categories, suggesting a high consumer interest or market demand for these types of products.**\n",
    "- **The rest of the top categories include a mix of makeup, skincare, and natural products, reflecting a diverse interest in various beauty and personal care items among the consumers.**"
   ]
  },
  {
   "cell_type": "markdown",
   "metadata": {},
   "source": [
    "<a id=\"4.3\"></a>\n",
    "## <b>4.3 <span style='color:#de9e46'> Visualizing Product Price Distribution </span></b>"
   ]
  },
  {
   "cell_type": "code",
   "execution_count": 20,
   "metadata": {},
   "outputs": [
    {
     "data": {
      "application/vnd.plotly.v1+json": {
       "config": {
        "plotlyServerURL": "https://plot.ly"
       },
       "data": [
        {
         "alignmentgroup": "True",
         "bingroup": "x",
         "hovertemplate": "Price (SEK)=%{x}<br>count=%{y}<extra></extra>",
         "legendgroup": "",
         "marker": {
          "color": "#636EFA",
          "pattern": {
           "shape": ""
          }
         },
         "name": "",
         "offsetgroup": "",
         "orientation": "v",
         "showlegend": false,
         "type": "histogram",
         "x": [
          120,
          90.80000000000001,
          279,
          35,
          107.80000000000001,
          49.800000000000004,
          52,
          28,
          151.6,
          449.40000000000003,
          418,
          35,
          42,
          380,
          35,
          360,
          1400,
          64,
          654.6,
          159,
          150,
          16,
          8.8,
          84.2,
          167,
          16,
          736,
          90,
          800,
          1080,
          19,
          37,
          370,
          69.2,
          30,
          59.800000000000004,
          1060,
          200,
          99,
          258,
          12,
          740,
          40,
          70,
          20,
          640,
          420,
          10,
          12.8,
          425,
          119.80000000000001,
          55,
          15.200000000000001,
          47.800000000000004,
          180,
          139,
          420,
          662,
          150,
          12,
          100,
          690,
          598,
          31.8,
          19.8,
          140,
          18.8,
          190,
          290,
          59.800000000000004,
          44.800000000000004,
          17,
          69.8,
          72,
          46,
          720,
          99,
          92,
          16.2,
          6.6000000000000005,
          612,
          340,
          150,
          20,
          59.800000000000004,
          480,
          630,
          59,
          250,
          26.200000000000003,
          159.8,
          431.8,
          44.800000000000004,
          35,
          955,
          1540,
          42,
          336,
          62.800000000000004,
          41.800000000000004,
          1225,
          21.8,
          760,
          41.800000000000004,
          13.8,
          640,
          8,
          115.2,
          52,
          69,
          509.40000000000003,
          22.400000000000002,
          15.8,
          120,
          56.400000000000006,
          340,
          130,
          46,
          99,
          63,
          19.8,
          50,
          25,
          1130,
          52,
          42,
          162,
          15,
          12,
          290,
          25,
          100.60000000000001,
          80,
          53.800000000000004,
          75.8,
          299.6,
          980,
          178,
          22,
          500,
          370,
          464,
          150,
          359.8,
          33.800000000000004,
          108.4,
          101.80000000000001,
          17,
          139.8,
          22,
          18,
          284,
          67.2,
          615,
          76.4,
          70,
          202.4,
          192,
          449.40000000000003,
          218,
          23.6,
          36,
          28,
          70,
          115,
          70,
          47.2,
          35.800000000000004,
          470,
          9,
          299.8,
          13,
          34.4,
          35,
          30,
          21.8,
          299.6,
          720,
          92,
          35.800000000000004,
          360,
          790,
          15.8,
          383.6,
          351.8,
          59.800000000000004,
          280,
          449.40000000000003,
          53.800000000000004,
          45,
          20,
          25,
          550,
          51,
          65,
          14.4,
          40.800000000000004,
          650,
          89,
          260,
          22.6,
          715,
          610,
          525,
          10,
          630,
          918,
          89.80000000000001,
          319.8,
          460,
          224,
          90,
          19.8,
          73.60000000000001,
          112,
          250,
          13.8,
          143.8,
          49,
          77,
          30,
          38.2,
          480,
          664,
          39.800000000000004,
          170,
          300,
          429.8,
          82.2,
          380,
          280,
          15.200000000000001,
          135,
          67.4,
          23,
          900,
          29.8,
          27,
          27,
          50,
          199.8,
          130,
          29.8,
          139,
          35.800000000000004,
          49,
          144,
          75,
          199,
          499.8,
          110,
          492.8,
          59.800000000000004,
          380,
          418,
          116,
          119.80000000000001,
          220.20000000000002,
          142,
          100,
          135,
          13,
          56,
          114.80000000000001,
          230,
          60,
          179.8,
          79.80000000000001,
          59.6,
          135,
          427,
          47,
          75,
          170,
          285.6,
          99.80000000000001,
          116,
          459.8,
          26.8,
          199.8,
          592,
          60,
          44,
          79.80000000000001,
          70,
          190,
          160,
          39.800000000000004,
          824.4000000000001,
          104,
          24,
          880,
          118.2,
          120,
          22,
          9.8,
          58,
          99.80000000000001,
          370,
          145,
          17,
          180,
          13.600000000000001,
          70,
          199,
          270,
          1020,
          16.8,
          14,
          9.8,
          460,
          15.4,
          59,
          210,
          120,
          68,
          210,
          32,
          31,
          75,
          135,
          55,
          630,
          89.80000000000001,
          126.60000000000001,
          25.8,
          59,
          40,
          500,
          129.8,
          75.60000000000001,
          53.800000000000004,
          449.40000000000003,
          79.80000000000001,
          25,
          21,
          42,
          52,
          149.8,
          34,
          400,
          67.8,
          30,
          101.80000000000001,
          59.800000000000004,
          37,
          40,
          55,
          12.8,
          395,
          36,
          37,
          190,
          27.6,
          461.40000000000003,
          105,
          1400,
          99,
          575,
          35.800000000000004,
          155.8,
          410,
          1010,
          17.2,
          25,
          90,
          380,
          109.80000000000001,
          220,
          250,
          13,
          142,
          1900,
          12,
          63,
          116,
          239.8,
          119.80000000000001,
          12,
          340,
          13,
          227.60000000000002,
          672,
          42.6,
          1160,
          34.2,
          49.6,
          72,
          380,
          19.8,
          42,
          860,
          38.2,
          79.2,
          59.800000000000004,
          13,
          299.8,
          25.200000000000003,
          55.400000000000006,
          65,
          460,
          12.8,
          192,
          30,
          9.8,
          139.8,
          158.60000000000002,
          41,
          159.8,
          50,
          380,
          14.8,
          6.4,
          70.60000000000001,
          31,
          143.8,
          15,
          620,
          320,
          380,
          17.8,
          44,
          333,
          900,
          98.80000000000001,
          198,
          202.4,
          27.8,
          99.80000000000001,
          623,
          17,
          319,
          420,
          42.400000000000006,
          45,
          170,
          210,
          170,
          55,
          21,
          119,
          359.8,
          9,
          49.800000000000004,
          15,
          118.80000000000001,
          53.800000000000004,
          5,
          72.2,
          307.6,
          17.8,
          10.600000000000001,
          62.800000000000004,
          78.60000000000001,
          65,
          1580,
          19,
          52,
          30,
          27.8,
          204,
          13.4,
          36,
          150,
          59.800000000000004,
          27,
          89.80000000000001,
          125.80000000000001,
          16,
          130,
          18,
          16.400000000000002,
          799.8000000000001,
          340,
          1080,
          70,
          170,
          75,
          59,
          56,
          63,
          14.8,
          49.800000000000004,
          135,
          23,
          16,
          130,
          59,
          770,
          210,
          78.60000000000001,
          560,
          210,
          13.4,
          12.8,
          87.80000000000001,
          25.8,
          680,
          28,
          159,
          47.6,
          26,
          427,
          69.60000000000001,
          410,
          843.8000000000001,
          19.6,
          711.8000000000001,
          580,
          48,
          104.80000000000001,
          222.4,
          101.80000000000001,
          90,
          16,
          33,
          39.800000000000004,
          155,
          40.800000000000004,
          48,
          885,
          412.8,
          420,
          262,
          80,
          11.200000000000001,
          178,
          16.8,
          150,
          35.800000000000004,
          468,
          160,
          44,
          1130,
          440,
          53,
          59.800000000000004,
          69.8,
          309.8,
          9.600000000000001,
          48,
          25.6,
          299.6,
          620,
          99.80000000000001,
          16,
          247.60000000000002,
          15,
          8.200000000000001,
          54,
          39,
          48,
          17,
          24,
          19.8,
          41,
          38,
          79.80000000000001,
          240,
          120,
          54.800000000000004,
          980,
          200,
          133,
          135,
          220
         ],
         "xaxis": "x",
         "yaxis": "y"
        }
       ],
       "layout": {
        "bargap": 0.2,
        "barmode": "relative",
        "legend": {
         "tracegroupgap": 0
        },
        "template": {
         "data": {
          "bar": [
           {
            "error_x": {
             "color": "#2a3f5f"
            },
            "error_y": {
             "color": "#2a3f5f"
            },
            "marker": {
             "line": {
              "color": "#E5ECF6",
              "width": 0.5
             },
             "pattern": {
              "fillmode": "overlay",
              "size": 10,
              "solidity": 0.2
             }
            },
            "type": "bar"
           }
          ],
          "barpolar": [
           {
            "marker": {
             "line": {
              "color": "#E5ECF6",
              "width": 0.5
             },
             "pattern": {
              "fillmode": "overlay",
              "size": 10,
              "solidity": 0.2
             }
            },
            "type": "barpolar"
           }
          ],
          "carpet": [
           {
            "aaxis": {
             "endlinecolor": "#2a3f5f",
             "gridcolor": "white",
             "linecolor": "white",
             "minorgridcolor": "white",
             "startlinecolor": "#2a3f5f"
            },
            "baxis": {
             "endlinecolor": "#2a3f5f",
             "gridcolor": "white",
             "linecolor": "white",
             "minorgridcolor": "white",
             "startlinecolor": "#2a3f5f"
            },
            "type": "carpet"
           }
          ],
          "choropleth": [
           {
            "colorbar": {
             "outlinewidth": 0,
             "ticks": ""
            },
            "type": "choropleth"
           }
          ],
          "contour": [
           {
            "colorbar": {
             "outlinewidth": 0,
             "ticks": ""
            },
            "colorscale": [
             [
              0,
              "#0d0887"
             ],
             [
              0.1111111111111111,
              "#46039f"
             ],
             [
              0.2222222222222222,
              "#7201a8"
             ],
             [
              0.3333333333333333,
              "#9c179e"
             ],
             [
              0.4444444444444444,
              "#bd3786"
             ],
             [
              0.5555555555555556,
              "#d8576b"
             ],
             [
              0.6666666666666666,
              "#ed7953"
             ],
             [
              0.7777777777777778,
              "#fb9f3a"
             ],
             [
              0.8888888888888888,
              "#fdca26"
             ],
             [
              1,
              "#f0f921"
             ]
            ],
            "type": "contour"
           }
          ],
          "contourcarpet": [
           {
            "colorbar": {
             "outlinewidth": 0,
             "ticks": ""
            },
            "type": "contourcarpet"
           }
          ],
          "heatmap": [
           {
            "colorbar": {
             "outlinewidth": 0,
             "ticks": ""
            },
            "colorscale": [
             [
              0,
              "#0d0887"
             ],
             [
              0.1111111111111111,
              "#46039f"
             ],
             [
              0.2222222222222222,
              "#7201a8"
             ],
             [
              0.3333333333333333,
              "#9c179e"
             ],
             [
              0.4444444444444444,
              "#bd3786"
             ],
             [
              0.5555555555555556,
              "#d8576b"
             ],
             [
              0.6666666666666666,
              "#ed7953"
             ],
             [
              0.7777777777777778,
              "#fb9f3a"
             ],
             [
              0.8888888888888888,
              "#fdca26"
             ],
             [
              1,
              "#f0f921"
             ]
            ],
            "type": "heatmap"
           }
          ],
          "heatmapgl": [
           {
            "colorbar": {
             "outlinewidth": 0,
             "ticks": ""
            },
            "colorscale": [
             [
              0,
              "#0d0887"
             ],
             [
              0.1111111111111111,
              "#46039f"
             ],
             [
              0.2222222222222222,
              "#7201a8"
             ],
             [
              0.3333333333333333,
              "#9c179e"
             ],
             [
              0.4444444444444444,
              "#bd3786"
             ],
             [
              0.5555555555555556,
              "#d8576b"
             ],
             [
              0.6666666666666666,
              "#ed7953"
             ],
             [
              0.7777777777777778,
              "#fb9f3a"
             ],
             [
              0.8888888888888888,
              "#fdca26"
             ],
             [
              1,
              "#f0f921"
             ]
            ],
            "type": "heatmapgl"
           }
          ],
          "histogram": [
           {
            "marker": {
             "pattern": {
              "fillmode": "overlay",
              "size": 10,
              "solidity": 0.2
             }
            },
            "type": "histogram"
           }
          ],
          "histogram2d": [
           {
            "colorbar": {
             "outlinewidth": 0,
             "ticks": ""
            },
            "colorscale": [
             [
              0,
              "#0d0887"
             ],
             [
              0.1111111111111111,
              "#46039f"
             ],
             [
              0.2222222222222222,
              "#7201a8"
             ],
             [
              0.3333333333333333,
              "#9c179e"
             ],
             [
              0.4444444444444444,
              "#bd3786"
             ],
             [
              0.5555555555555556,
              "#d8576b"
             ],
             [
              0.6666666666666666,
              "#ed7953"
             ],
             [
              0.7777777777777778,
              "#fb9f3a"
             ],
             [
              0.8888888888888888,
              "#fdca26"
             ],
             [
              1,
              "#f0f921"
             ]
            ],
            "type": "histogram2d"
           }
          ],
          "histogram2dcontour": [
           {
            "colorbar": {
             "outlinewidth": 0,
             "ticks": ""
            },
            "colorscale": [
             [
              0,
              "#0d0887"
             ],
             [
              0.1111111111111111,
              "#46039f"
             ],
             [
              0.2222222222222222,
              "#7201a8"
             ],
             [
              0.3333333333333333,
              "#9c179e"
             ],
             [
              0.4444444444444444,
              "#bd3786"
             ],
             [
              0.5555555555555556,
              "#d8576b"
             ],
             [
              0.6666666666666666,
              "#ed7953"
             ],
             [
              0.7777777777777778,
              "#fb9f3a"
             ],
             [
              0.8888888888888888,
              "#fdca26"
             ],
             [
              1,
              "#f0f921"
             ]
            ],
            "type": "histogram2dcontour"
           }
          ],
          "mesh3d": [
           {
            "colorbar": {
             "outlinewidth": 0,
             "ticks": ""
            },
            "type": "mesh3d"
           }
          ],
          "parcoords": [
           {
            "line": {
             "colorbar": {
              "outlinewidth": 0,
              "ticks": ""
             }
            },
            "type": "parcoords"
           }
          ],
          "pie": [
           {
            "automargin": true,
            "type": "pie"
           }
          ],
          "scatter": [
           {
            "fillpattern": {
             "fillmode": "overlay",
             "size": 10,
             "solidity": 0.2
            },
            "type": "scatter"
           }
          ],
          "scatter3d": [
           {
            "line": {
             "colorbar": {
              "outlinewidth": 0,
              "ticks": ""
             }
            },
            "marker": {
             "colorbar": {
              "outlinewidth": 0,
              "ticks": ""
             }
            },
            "type": "scatter3d"
           }
          ],
          "scattercarpet": [
           {
            "marker": {
             "colorbar": {
              "outlinewidth": 0,
              "ticks": ""
             }
            },
            "type": "scattercarpet"
           }
          ],
          "scattergeo": [
           {
            "marker": {
             "colorbar": {
              "outlinewidth": 0,
              "ticks": ""
             }
            },
            "type": "scattergeo"
           }
          ],
          "scattergl": [
           {
            "marker": {
             "colorbar": {
              "outlinewidth": 0,
              "ticks": ""
             }
            },
            "type": "scattergl"
           }
          ],
          "scattermapbox": [
           {
            "marker": {
             "colorbar": {
              "outlinewidth": 0,
              "ticks": ""
             }
            },
            "type": "scattermapbox"
           }
          ],
          "scatterpolar": [
           {
            "marker": {
             "colorbar": {
              "outlinewidth": 0,
              "ticks": ""
             }
            },
            "type": "scatterpolar"
           }
          ],
          "scatterpolargl": [
           {
            "marker": {
             "colorbar": {
              "outlinewidth": 0,
              "ticks": ""
             }
            },
            "type": "scatterpolargl"
           }
          ],
          "scatterternary": [
           {
            "marker": {
             "colorbar": {
              "outlinewidth": 0,
              "ticks": ""
             }
            },
            "type": "scatterternary"
           }
          ],
          "surface": [
           {
            "colorbar": {
             "outlinewidth": 0,
             "ticks": ""
            },
            "colorscale": [
             [
              0,
              "#0d0887"
             ],
             [
              0.1111111111111111,
              "#46039f"
             ],
             [
              0.2222222222222222,
              "#7201a8"
             ],
             [
              0.3333333333333333,
              "#9c179e"
             ],
             [
              0.4444444444444444,
              "#bd3786"
             ],
             [
              0.5555555555555556,
              "#d8576b"
             ],
             [
              0.6666666666666666,
              "#ed7953"
             ],
             [
              0.7777777777777778,
              "#fb9f3a"
             ],
             [
              0.8888888888888888,
              "#fdca26"
             ],
             [
              1,
              "#f0f921"
             ]
            ],
            "type": "surface"
           }
          ],
          "table": [
           {
            "cells": {
             "fill": {
              "color": "#EBF0F8"
             },
             "line": {
              "color": "white"
             }
            },
            "header": {
             "fill": {
              "color": "#C8D4E3"
             },
             "line": {
              "color": "white"
             }
            },
            "type": "table"
           }
          ]
         },
         "layout": {
          "annotationdefaults": {
           "arrowcolor": "#2a3f5f",
           "arrowhead": 0,
           "arrowwidth": 1
          },
          "autotypenumbers": "strict",
          "coloraxis": {
           "colorbar": {
            "outlinewidth": 0,
            "ticks": ""
           }
          },
          "colorscale": {
           "diverging": [
            [
             0,
             "#8e0152"
            ],
            [
             0.1,
             "#c51b7d"
            ],
            [
             0.2,
             "#de77ae"
            ],
            [
             0.3,
             "#f1b6da"
            ],
            [
             0.4,
             "#fde0ef"
            ],
            [
             0.5,
             "#f7f7f7"
            ],
            [
             0.6,
             "#e6f5d0"
            ],
            [
             0.7,
             "#b8e186"
            ],
            [
             0.8,
             "#7fbc41"
            ],
            [
             0.9,
             "#4d9221"
            ],
            [
             1,
             "#276419"
            ]
           ],
           "sequential": [
            [
             0,
             "#0d0887"
            ],
            [
             0.1111111111111111,
             "#46039f"
            ],
            [
             0.2222222222222222,
             "#7201a8"
            ],
            [
             0.3333333333333333,
             "#9c179e"
            ],
            [
             0.4444444444444444,
             "#bd3786"
            ],
            [
             0.5555555555555556,
             "#d8576b"
            ],
            [
             0.6666666666666666,
             "#ed7953"
            ],
            [
             0.7777777777777778,
             "#fb9f3a"
            ],
            [
             0.8888888888888888,
             "#fdca26"
            ],
            [
             1,
             "#f0f921"
            ]
           ],
           "sequentialminus": [
            [
             0,
             "#0d0887"
            ],
            [
             0.1111111111111111,
             "#46039f"
            ],
            [
             0.2222222222222222,
             "#7201a8"
            ],
            [
             0.3333333333333333,
             "#9c179e"
            ],
            [
             0.4444444444444444,
             "#bd3786"
            ],
            [
             0.5555555555555556,
             "#d8576b"
            ],
            [
             0.6666666666666666,
             "#ed7953"
            ],
            [
             0.7777777777777778,
             "#fb9f3a"
            ],
            [
             0.8888888888888888,
             "#fdca26"
            ],
            [
             1,
             "#f0f921"
            ]
           ]
          },
          "colorway": [
           "#636efa",
           "#EF553B",
           "#00cc96",
           "#ab63fa",
           "#FFA15A",
           "#19d3f3",
           "#FF6692",
           "#B6E880",
           "#FF97FF",
           "#FECB52"
          ],
          "font": {
           "color": "#2a3f5f"
          },
          "geo": {
           "bgcolor": "white",
           "lakecolor": "white",
           "landcolor": "#E5ECF6",
           "showlakes": true,
           "showland": true,
           "subunitcolor": "white"
          },
          "hoverlabel": {
           "align": "left"
          },
          "hovermode": "closest",
          "mapbox": {
           "style": "light"
          },
          "paper_bgcolor": "white",
          "plot_bgcolor": "#E5ECF6",
          "polar": {
           "angularaxis": {
            "gridcolor": "white",
            "linecolor": "white",
            "ticks": ""
           },
           "bgcolor": "#E5ECF6",
           "radialaxis": {
            "gridcolor": "white",
            "linecolor": "white",
            "ticks": ""
           }
          },
          "scene": {
           "xaxis": {
            "backgroundcolor": "#E5ECF6",
            "gridcolor": "white",
            "gridwidth": 2,
            "linecolor": "white",
            "showbackground": true,
            "ticks": "",
            "zerolinecolor": "white"
           },
           "yaxis": {
            "backgroundcolor": "#E5ECF6",
            "gridcolor": "white",
            "gridwidth": 2,
            "linecolor": "white",
            "showbackground": true,
            "ticks": "",
            "zerolinecolor": "white"
           },
           "zaxis": {
            "backgroundcolor": "#E5ECF6",
            "gridcolor": "white",
            "gridwidth": 2,
            "linecolor": "white",
            "showbackground": true,
            "ticks": "",
            "zerolinecolor": "white"
           }
          },
          "shapedefaults": {
           "line": {
            "color": "#2a3f5f"
           }
          },
          "ternary": {
           "aaxis": {
            "gridcolor": "white",
            "linecolor": "white",
            "ticks": ""
           },
           "baxis": {
            "gridcolor": "white",
            "linecolor": "white",
            "ticks": ""
           },
           "bgcolor": "#E5ECF6",
           "caxis": {
            "gridcolor": "white",
            "linecolor": "white",
            "ticks": ""
           }
          },
          "title": {
           "x": 0.05
          },
          "xaxis": {
           "automargin": true,
           "gridcolor": "white",
           "linecolor": "white",
           "ticks": "",
           "title": {
            "standoff": 15
           },
           "zerolinecolor": "white",
           "zerolinewidth": 2
          },
          "yaxis": {
           "automargin": true,
           "gridcolor": "white",
           "linecolor": "white",
           "ticks": "",
           "title": {
            "standoff": 15
           },
           "zerolinecolor": "white",
           "zerolinewidth": 2
          }
         }
        },
        "title": {
         "text": "Product Price Distribution"
        },
        "xaxis": {
         "anchor": "y",
         "domain": [
          0,
          1
         ],
         "title": {
          "text": "Price (SEK)"
         }
        },
        "yaxis": {
         "anchor": "x",
         "domain": [
          0,
          1
         ],
         "title": {
          "text": "count"
         }
        }
       }
      }
     },
     "metadata": {},
     "output_type": "display_data"
    }
   ],
   "source": [
    "# Histogram for Product Price Distribution\n",
    "fig_price_distribution = px.histogram(\n",
    "    metadata_original_df,\n",
    "    x='Product Price [SEK]',\n",
    "    title='Product Price Distribution',\n",
    "    labels={'Product Price [SEK]': 'Price (SEK)'},\n",
    "    color_discrete_sequence=['#636EFA']\n",
    ")\n",
    "\n",
    "fig_price_distribution.update_layout(bargap=0.2)\n",
    "fig_price_distribution.show()\n"
   ]
  },
  {
   "cell_type": "markdown",
   "metadata": {},
   "source": [
    "![Opp](Images/ProductPriceDisc.png)"
   ]
  },
  {
   "cell_type": "markdown",
   "metadata": {},
   "source": [
    "#### <b><span style='color:#FF0000'> NOTE :</span></b>\n",
    "- **The majority of products are priced at the lower end, indicating a large market for affordable beauty products.**\n",
    "- **The distribution has a long tail to the right, with a small number of products at much higher prices, suggesting the presence of premium or luxury items in the dataset.**"
   ]
  },
  {
   "cell_type": "markdown",
   "metadata": {},
   "source": [
    "<a id=\"4.4\"></a>\n",
    "## <b>4.4 <span style='color:#de9e46'> Visualizing Top 20 Brands Distribution </span></b>"
   ]
  },
  {
   "cell_type": "code",
   "execution_count": 21,
   "metadata": {},
   "outputs": [
    {
     "data": {
      "application/vnd.plotly.v1+json": {
       "config": {
        "plotlyServerURL": "https://plot.ly"
       },
       "data": [
        {
         "alignmentgroup": "True",
         "hovertemplate": "Product Brand=%{x}<br>Number of Products=%{y}<br>color=%{marker.color}<extra></extra>",
         "legendgroup": "",
         "marker": {
          "color": [
           17,
           14,
           13,
           12,
           11,
           10,
           10,
           10,
           9,
           9,
           8,
           8,
           8,
           8,
           7,
           7,
           6,
           6,
           6,
           6
          ],
          "coloraxis": "coloraxis",
          "pattern": {
           "shape": ""
          }
         },
         "name": "",
         "offsetgroup": "",
         "orientation": "v",
         "showlegend": false,
         "textposition": "auto",
         "type": "bar",
         "x": [
          "Himalaya",
          "Nykaa Cosmetics",
          "Lakme",
          "Inner Sense",
          "Allin Exporters",
          "Biotique",
          "Nykaa Naturals",
          "VLCC",
          "Nivea",
          "L'Oreal Paris",
          "Forest Essentials",
          "Bobbi Brown",
          "M.A.C",
          "Lotus Herbals",
          "Makeup Revolution",
          "Kay Beauty",
          "Charlotte Tilbury",
          "Lime Crime",
          "L'Occitane",
          "Faces Canada"
         ],
         "xaxis": "x",
         "y": [
          17,
          14,
          13,
          12,
          11,
          10,
          10,
          10,
          9,
          9,
          8,
          8,
          8,
          8,
          7,
          7,
          6,
          6,
          6,
          6
         ],
         "yaxis": "y"
        }
       ],
       "layout": {
        "barmode": "relative",
        "coloraxis": {
         "colorbar": {
          "title": {
           "text": "color"
          }
         },
         "colorscale": [
          [
           0,
           "rgb(75, 41, 145)"
          ],
          [
           0.16666666666666666,
           "rgb(135, 44, 162)"
          ],
          [
           0.3333333333333333,
           "rgb(192, 54, 157)"
          ],
          [
           0.5,
           "rgb(234, 79, 136)"
          ],
          [
           0.6666666666666666,
           "rgb(250, 120, 118)"
          ],
          [
           0.8333333333333334,
           "rgb(246, 169, 122)"
          ],
          [
           1,
           "rgb(237, 217, 163)"
          ]
         ]
        },
        "legend": {
         "tracegroupgap": 0
        },
        "template": {
         "data": {
          "bar": [
           {
            "error_x": {
             "color": "#2a3f5f"
            },
            "error_y": {
             "color": "#2a3f5f"
            },
            "marker": {
             "line": {
              "color": "#E5ECF6",
              "width": 0.5
             },
             "pattern": {
              "fillmode": "overlay",
              "size": 10,
              "solidity": 0.2
             }
            },
            "type": "bar"
           }
          ],
          "barpolar": [
           {
            "marker": {
             "line": {
              "color": "#E5ECF6",
              "width": 0.5
             },
             "pattern": {
              "fillmode": "overlay",
              "size": 10,
              "solidity": 0.2
             }
            },
            "type": "barpolar"
           }
          ],
          "carpet": [
           {
            "aaxis": {
             "endlinecolor": "#2a3f5f",
             "gridcolor": "white",
             "linecolor": "white",
             "minorgridcolor": "white",
             "startlinecolor": "#2a3f5f"
            },
            "baxis": {
             "endlinecolor": "#2a3f5f",
             "gridcolor": "white",
             "linecolor": "white",
             "minorgridcolor": "white",
             "startlinecolor": "#2a3f5f"
            },
            "type": "carpet"
           }
          ],
          "choropleth": [
           {
            "colorbar": {
             "outlinewidth": 0,
             "ticks": ""
            },
            "type": "choropleth"
           }
          ],
          "contour": [
           {
            "colorbar": {
             "outlinewidth": 0,
             "ticks": ""
            },
            "colorscale": [
             [
              0,
              "#0d0887"
             ],
             [
              0.1111111111111111,
              "#46039f"
             ],
             [
              0.2222222222222222,
              "#7201a8"
             ],
             [
              0.3333333333333333,
              "#9c179e"
             ],
             [
              0.4444444444444444,
              "#bd3786"
             ],
             [
              0.5555555555555556,
              "#d8576b"
             ],
             [
              0.6666666666666666,
              "#ed7953"
             ],
             [
              0.7777777777777778,
              "#fb9f3a"
             ],
             [
              0.8888888888888888,
              "#fdca26"
             ],
             [
              1,
              "#f0f921"
             ]
            ],
            "type": "contour"
           }
          ],
          "contourcarpet": [
           {
            "colorbar": {
             "outlinewidth": 0,
             "ticks": ""
            },
            "type": "contourcarpet"
           }
          ],
          "heatmap": [
           {
            "colorbar": {
             "outlinewidth": 0,
             "ticks": ""
            },
            "colorscale": [
             [
              0,
              "#0d0887"
             ],
             [
              0.1111111111111111,
              "#46039f"
             ],
             [
              0.2222222222222222,
              "#7201a8"
             ],
             [
              0.3333333333333333,
              "#9c179e"
             ],
             [
              0.4444444444444444,
              "#bd3786"
             ],
             [
              0.5555555555555556,
              "#d8576b"
             ],
             [
              0.6666666666666666,
              "#ed7953"
             ],
             [
              0.7777777777777778,
              "#fb9f3a"
             ],
             [
              0.8888888888888888,
              "#fdca26"
             ],
             [
              1,
              "#f0f921"
             ]
            ],
            "type": "heatmap"
           }
          ],
          "heatmapgl": [
           {
            "colorbar": {
             "outlinewidth": 0,
             "ticks": ""
            },
            "colorscale": [
             [
              0,
              "#0d0887"
             ],
             [
              0.1111111111111111,
              "#46039f"
             ],
             [
              0.2222222222222222,
              "#7201a8"
             ],
             [
              0.3333333333333333,
              "#9c179e"
             ],
             [
              0.4444444444444444,
              "#bd3786"
             ],
             [
              0.5555555555555556,
              "#d8576b"
             ],
             [
              0.6666666666666666,
              "#ed7953"
             ],
             [
              0.7777777777777778,
              "#fb9f3a"
             ],
             [
              0.8888888888888888,
              "#fdca26"
             ],
             [
              1,
              "#f0f921"
             ]
            ],
            "type": "heatmapgl"
           }
          ],
          "histogram": [
           {
            "marker": {
             "pattern": {
              "fillmode": "overlay",
              "size": 10,
              "solidity": 0.2
             }
            },
            "type": "histogram"
           }
          ],
          "histogram2d": [
           {
            "colorbar": {
             "outlinewidth": 0,
             "ticks": ""
            },
            "colorscale": [
             [
              0,
              "#0d0887"
             ],
             [
              0.1111111111111111,
              "#46039f"
             ],
             [
              0.2222222222222222,
              "#7201a8"
             ],
             [
              0.3333333333333333,
              "#9c179e"
             ],
             [
              0.4444444444444444,
              "#bd3786"
             ],
             [
              0.5555555555555556,
              "#d8576b"
             ],
             [
              0.6666666666666666,
              "#ed7953"
             ],
             [
              0.7777777777777778,
              "#fb9f3a"
             ],
             [
              0.8888888888888888,
              "#fdca26"
             ],
             [
              1,
              "#f0f921"
             ]
            ],
            "type": "histogram2d"
           }
          ],
          "histogram2dcontour": [
           {
            "colorbar": {
             "outlinewidth": 0,
             "ticks": ""
            },
            "colorscale": [
             [
              0,
              "#0d0887"
             ],
             [
              0.1111111111111111,
              "#46039f"
             ],
             [
              0.2222222222222222,
              "#7201a8"
             ],
             [
              0.3333333333333333,
              "#9c179e"
             ],
             [
              0.4444444444444444,
              "#bd3786"
             ],
             [
              0.5555555555555556,
              "#d8576b"
             ],
             [
              0.6666666666666666,
              "#ed7953"
             ],
             [
              0.7777777777777778,
              "#fb9f3a"
             ],
             [
              0.8888888888888888,
              "#fdca26"
             ],
             [
              1,
              "#f0f921"
             ]
            ],
            "type": "histogram2dcontour"
           }
          ],
          "mesh3d": [
           {
            "colorbar": {
             "outlinewidth": 0,
             "ticks": ""
            },
            "type": "mesh3d"
           }
          ],
          "parcoords": [
           {
            "line": {
             "colorbar": {
              "outlinewidth": 0,
              "ticks": ""
             }
            },
            "type": "parcoords"
           }
          ],
          "pie": [
           {
            "automargin": true,
            "type": "pie"
           }
          ],
          "scatter": [
           {
            "fillpattern": {
             "fillmode": "overlay",
             "size": 10,
             "solidity": 0.2
            },
            "type": "scatter"
           }
          ],
          "scatter3d": [
           {
            "line": {
             "colorbar": {
              "outlinewidth": 0,
              "ticks": ""
             }
            },
            "marker": {
             "colorbar": {
              "outlinewidth": 0,
              "ticks": ""
             }
            },
            "type": "scatter3d"
           }
          ],
          "scattercarpet": [
           {
            "marker": {
             "colorbar": {
              "outlinewidth": 0,
              "ticks": ""
             }
            },
            "type": "scattercarpet"
           }
          ],
          "scattergeo": [
           {
            "marker": {
             "colorbar": {
              "outlinewidth": 0,
              "ticks": ""
             }
            },
            "type": "scattergeo"
           }
          ],
          "scattergl": [
           {
            "marker": {
             "colorbar": {
              "outlinewidth": 0,
              "ticks": ""
             }
            },
            "type": "scattergl"
           }
          ],
          "scattermapbox": [
           {
            "marker": {
             "colorbar": {
              "outlinewidth": 0,
              "ticks": ""
             }
            },
            "type": "scattermapbox"
           }
          ],
          "scatterpolar": [
           {
            "marker": {
             "colorbar": {
              "outlinewidth": 0,
              "ticks": ""
             }
            },
            "type": "scatterpolar"
           }
          ],
          "scatterpolargl": [
           {
            "marker": {
             "colorbar": {
              "outlinewidth": 0,
              "ticks": ""
             }
            },
            "type": "scatterpolargl"
           }
          ],
          "scatterternary": [
           {
            "marker": {
             "colorbar": {
              "outlinewidth": 0,
              "ticks": ""
             }
            },
            "type": "scatterternary"
           }
          ],
          "surface": [
           {
            "colorbar": {
             "outlinewidth": 0,
             "ticks": ""
            },
            "colorscale": [
             [
              0,
              "#0d0887"
             ],
             [
              0.1111111111111111,
              "#46039f"
             ],
             [
              0.2222222222222222,
              "#7201a8"
             ],
             [
              0.3333333333333333,
              "#9c179e"
             ],
             [
              0.4444444444444444,
              "#bd3786"
             ],
             [
              0.5555555555555556,
              "#d8576b"
             ],
             [
              0.6666666666666666,
              "#ed7953"
             ],
             [
              0.7777777777777778,
              "#fb9f3a"
             ],
             [
              0.8888888888888888,
              "#fdca26"
             ],
             [
              1,
              "#f0f921"
             ]
            ],
            "type": "surface"
           }
          ],
          "table": [
           {
            "cells": {
             "fill": {
              "color": "#EBF0F8"
             },
             "line": {
              "color": "white"
             }
            },
            "header": {
             "fill": {
              "color": "#C8D4E3"
             },
             "line": {
              "color": "white"
             }
            },
            "type": "table"
           }
          ]
         },
         "layout": {
          "annotationdefaults": {
           "arrowcolor": "#2a3f5f",
           "arrowhead": 0,
           "arrowwidth": 1
          },
          "autotypenumbers": "strict",
          "coloraxis": {
           "colorbar": {
            "outlinewidth": 0,
            "ticks": ""
           }
          },
          "colorscale": {
           "diverging": [
            [
             0,
             "#8e0152"
            ],
            [
             0.1,
             "#c51b7d"
            ],
            [
             0.2,
             "#de77ae"
            ],
            [
             0.3,
             "#f1b6da"
            ],
            [
             0.4,
             "#fde0ef"
            ],
            [
             0.5,
             "#f7f7f7"
            ],
            [
             0.6,
             "#e6f5d0"
            ],
            [
             0.7,
             "#b8e186"
            ],
            [
             0.8,
             "#7fbc41"
            ],
            [
             0.9,
             "#4d9221"
            ],
            [
             1,
             "#276419"
            ]
           ],
           "sequential": [
            [
             0,
             "#0d0887"
            ],
            [
             0.1111111111111111,
             "#46039f"
            ],
            [
             0.2222222222222222,
             "#7201a8"
            ],
            [
             0.3333333333333333,
             "#9c179e"
            ],
            [
             0.4444444444444444,
             "#bd3786"
            ],
            [
             0.5555555555555556,
             "#d8576b"
            ],
            [
             0.6666666666666666,
             "#ed7953"
            ],
            [
             0.7777777777777778,
             "#fb9f3a"
            ],
            [
             0.8888888888888888,
             "#fdca26"
            ],
            [
             1,
             "#f0f921"
            ]
           ],
           "sequentialminus": [
            [
             0,
             "#0d0887"
            ],
            [
             0.1111111111111111,
             "#46039f"
            ],
            [
             0.2222222222222222,
             "#7201a8"
            ],
            [
             0.3333333333333333,
             "#9c179e"
            ],
            [
             0.4444444444444444,
             "#bd3786"
            ],
            [
             0.5555555555555556,
             "#d8576b"
            ],
            [
             0.6666666666666666,
             "#ed7953"
            ],
            [
             0.7777777777777778,
             "#fb9f3a"
            ],
            [
             0.8888888888888888,
             "#fdca26"
            ],
            [
             1,
             "#f0f921"
            ]
           ]
          },
          "colorway": [
           "#636efa",
           "#EF553B",
           "#00cc96",
           "#ab63fa",
           "#FFA15A",
           "#19d3f3",
           "#FF6692",
           "#B6E880",
           "#FF97FF",
           "#FECB52"
          ],
          "font": {
           "color": "#2a3f5f"
          },
          "geo": {
           "bgcolor": "white",
           "lakecolor": "white",
           "landcolor": "#E5ECF6",
           "showlakes": true,
           "showland": true,
           "subunitcolor": "white"
          },
          "hoverlabel": {
           "align": "left"
          },
          "hovermode": "closest",
          "mapbox": {
           "style": "light"
          },
          "paper_bgcolor": "white",
          "plot_bgcolor": "#E5ECF6",
          "polar": {
           "angularaxis": {
            "gridcolor": "white",
            "linecolor": "white",
            "ticks": ""
           },
           "bgcolor": "#E5ECF6",
           "radialaxis": {
            "gridcolor": "white",
            "linecolor": "white",
            "ticks": ""
           }
          },
          "scene": {
           "xaxis": {
            "backgroundcolor": "#E5ECF6",
            "gridcolor": "white",
            "gridwidth": 2,
            "linecolor": "white",
            "showbackground": true,
            "ticks": "",
            "zerolinecolor": "white"
           },
           "yaxis": {
            "backgroundcolor": "#E5ECF6",
            "gridcolor": "white",
            "gridwidth": 2,
            "linecolor": "white",
            "showbackground": true,
            "ticks": "",
            "zerolinecolor": "white"
           },
           "zaxis": {
            "backgroundcolor": "#E5ECF6",
            "gridcolor": "white",
            "gridwidth": 2,
            "linecolor": "white",
            "showbackground": true,
            "ticks": "",
            "zerolinecolor": "white"
           }
          },
          "shapedefaults": {
           "line": {
            "color": "#2a3f5f"
           }
          },
          "ternary": {
           "aaxis": {
            "gridcolor": "white",
            "linecolor": "white",
            "ticks": ""
           },
           "baxis": {
            "gridcolor": "white",
            "linecolor": "white",
            "ticks": ""
           },
           "bgcolor": "#E5ECF6",
           "caxis": {
            "gridcolor": "white",
            "linecolor": "white",
            "ticks": ""
           }
          },
          "title": {
           "x": 0.05
          },
          "xaxis": {
           "automargin": true,
           "gridcolor": "white",
           "linecolor": "white",
           "ticks": "",
           "title": {
            "standoff": 15
           },
           "zerolinecolor": "white",
           "zerolinewidth": 2
          },
          "yaxis": {
           "automargin": true,
           "gridcolor": "white",
           "linecolor": "white",
           "ticks": "",
           "title": {
            "standoff": 15
           },
           "zerolinecolor": "white",
           "zerolinewidth": 2
          }
         }
        },
        "title": {
         "text": "Top 20 Brands Distribution"
        },
        "xaxis": {
         "anchor": "y",
         "domain": [
          0,
          1
         ],
         "title": {
          "text": "Product Brand"
         }
        },
        "yaxis": {
         "anchor": "x",
         "domain": [
          0,
          1
         ],
         "title": {
          "text": "Number of Products"
         }
        }
       }
      }
     },
     "metadata": {},
     "output_type": "display_data"
    }
   ],
   "source": [
    "# Get top 20 brands\n",
    "top_brands = metadata_original_df['Product Brand'].value_counts().head(20)\n",
    "\n",
    "fig_brand_distribution = px.bar(\n",
    "    top_brands,\n",
    "    x=top_brands.index,\n",
    "    y=top_brands.values,\n",
    "    title='Top 20 Brands Distribution',\n",
    "    labels={'y': 'Number of Products', 'index': 'Brand'},\n",
    "    color=top_brands.values,\n",
    "    color_continuous_scale='Agsunset'\n",
    ")\n",
    "\n",
    "fig_brand_distribution.show()\n"
   ]
  },
  {
   "cell_type": "markdown",
   "metadata": {},
   "source": [
    "![Opp](Images/Top20Brands.png)"
   ]
  },
  {
   "cell_type": "markdown",
   "metadata": {},
   "source": [
    "#### <b><span style='color:#FF0000'> NOTE :</span></b>\n",
    "- **Himalaya is the leading brand in terms of the number of products, followed closely by Nykaa Cosmetics and Lakme, indicating these brands have a wide variety of offerings in the dataset.**\n",
    "- **The distribution of products across these brands is fairly even, with no single brand dominating, which could imply a competitive market with numerous choices for consumers.**"
   ]
  },
  {
   "cell_type": "markdown",
   "metadata": {},
   "source": [
    "<a id=\"4.5\"></a>\n",
    "## <b>4.5 <span style='color:#de9e46'> Visualizing Product Price vs. Category </span></b>"
   ]
  },
  {
   "cell_type": "code",
   "execution_count": 22,
   "metadata": {},
   "outputs": [
    {
     "data": {
      "application/vnd.plotly.v1+json": {
       "config": {
        "plotlyServerURL": "https://plot.ly"
       },
       "data": [
        {
         "hovertemplate": "Category=%{x}<br>Price (SEK)=%{marker.color}<extra></extra>",
         "legendgroup": "",
         "marker": {
          "color": [
           279,
           151.6,
           449.40000000000003,
           418,
           42,
           380,
           64,
           159,
           90,
           37,
           59.800000000000004,
           99,
           70,
           640,
           10,
           55,
           139,
           420,
           662,
           150,
           690,
           18.8,
           290,
           44.800000000000004,
           720,
           92,
           612,
           340,
           150,
           20,
           59,
           250,
           26.200000000000003,
           431.8,
           44.800000000000004,
           955,
           1540,
           21.8,
           41.800000000000004,
           13.8,
           640,
           509.40000000000003,
           15.8,
           120,
           340,
           130,
           46,
           99,
           52,
           42,
           25,
           100.60000000000001,
           80,
           299.6,
           178,
           500,
           370,
           464,
           150,
           101.80000000000001,
           17,
           22,
           284,
           67.2,
           615,
           76.4,
           70,
           202.4,
           449.40000000000003,
           218,
           23.6,
           28,
           70,
           115,
           47.2,
           35.800000000000004,
           34.4,
           299.6,
           35.800000000000004,
           383.6,
           449.40000000000003,
           53.800000000000004,
           550,
           51,
           14.4,
           40.800000000000004,
           650,
           22.6,
           610,
           630,
           89.80000000000001,
           319.8,
           460,
           224,
           90,
           19.8,
           73.60000000000001,
           112,
           250,
           143.8,
           49,
           30,
           38.2,
           480,
           664,
           39.800000000000004,
           170,
           429.8,
           380,
           280,
           135,
           900,
           29.8,
           27,
           27,
           50,
           199.8,
           29.8,
           139,
           35.800000000000004,
           49,
           144,
           110,
           492.8,
           59.800000000000004,
           380,
           418,
           116,
           119.80000000000001,
           220.20000000000002,
           100,
           114.80000000000001,
           79.80000000000001,
           59.6,
           135,
           75,
           170,
           285.6,
           26.8,
           199.8,
           60,
           70,
           24,
           22,
           370,
           145,
           17,
           70,
           14,
           9.8,
           15.4,
           120,
           68,
           55,
           449.40000000000003,
           79.80000000000001,
           25,
           42,
           52,
           149.8,
           34,
           30,
           59.800000000000004,
           37,
           37,
           27.6,
           461.40000000000003,
           105,
           575,
           17.2,
           25,
           90,
           380,
           109.80000000000001,
           250,
           13,
           142,
           1900,
           63,
           13,
           227.60000000000002,
           42.6,
           1160,
           34.2,
           380,
           19.8,
           42,
           38.2,
           79.2,
           59.800000000000004,
           299.8,
           55.400000000000006,
           460,
           12.8,
           139.8,
           158.60000000000002,
           159.8,
           50,
           380,
           14.8,
           70.60000000000001,
           15,
           620,
           320,
           380,
           900,
           99.80000000000001,
           420,
           42.400000000000006,
           45,
           210,
           170,
           55,
           15,
           118.80000000000001,
           307.6,
           10.600000000000001,
           78.60000000000001,
           65,
           52,
           27.8,
           13.4,
           150,
           89.80000000000001,
           125.80000000000001,
           340,
           1080,
           75,
           59,
           14.8,
           49.800000000000004,
           12.8,
           25.8,
           680,
           47.6,
           26,
           69.60000000000001,
           843.8000000000001,
           19.6,
           580,
           48,
           222.4,
           101.80000000000001,
           39.800000000000004,
           155,
           40.800000000000004,
           11.200000000000001,
           16.8,
           1130,
           53,
           59.800000000000004,
           48,
           299.6,
           99.80000000000001,
           15,
           8.200000000000001,
           39,
           48,
           24,
           41,
           79.80000000000001,
           240,
           54.800000000000004,
           980,
           200,
           133
          ],
          "coloraxis": "coloraxis",
          "symbol": "circle"
         },
         "mode": "markers",
         "name": "",
         "orientation": "v",
         "showlegend": false,
         "type": "scatter",
         "x": [
          "makeup > face > foundation",
          "mom & baby > maternity wear > maternity bra",
          "mom & baby > maternity wear > maternity bra",
          "makeup > face > concealer",
          "skin > body care > lotions & creams",
          "makeup > lips > liquid lipstick",
          "makeup > face > foundation",
          "makeup > face > concealer",
          "makeup > face > blush",
          "skin > moisturizers > face moisturizer & day cream",
          "makeup > face > blush",
          "makeup > eyes > under eye concealer",
          "makeup > nails > nail polish",
          "category not specified",
          "category not specified",
          "skin > body care > lotions & creams",
          "makeup > face > concealer",
          "personal care > bath & shower > shampoo",
          "makeup > face > foundation",
          "natural > hair > shampoo & cleanser",
          "makeup > lips > lipstick",
          "skin > moisturizers > face moisturizer & day cream",
          "makeup > face > concealer",
          "makeup > face > blush",
          "category not specified",
          "category not specified",
          "category not specified",
          "category not specified",
          "category not specified",
          "natural > types of skin > combination skin",
          "skin > shop by concern > skin dryness",
          "skin > shop by concern > skin dryness",
          "category not specified",
          "category not specified",
          "natural > hair > shampoo & cleanser",
          "makeup > face > blush",
          "category not specified",
          "skin > body care > massage oils",
          "personal care > bath & shower > shampoo",
          "category not specified",
          "makeup > eyes > under eye concealer",
          "mom & baby > maternity wear > maternity bra",
          "natural > hair > shampoo & cleanser",
          "category not specified",
          "makeup > lips > lipstick",
          "makeup > face > highlighters",
          "personal care > bath & shower > shampoo",
          "makeup > face > blush",
          "skin > body care > massage oils",
          "category not specified",
          "brand > himalaya",
          "makeup > face > blush",
          "makeup > lips > liquid lipstick",
          "mom & baby > maternity wear > maternity bra",
          "skin > shop by concern > skin dryness",
          "category not specified",
          "makeup > face > highlighters",
          "category not specified",
          "makeup > lips > lipstick",
          "makeup > eyes > under eye concealer",
          "natural > hair > shampoo & cleanser",
          "category not specified",
          "makeup > face > blush",
          "skin > body care > massage oils",
          "category not specified",
          "category not specified",
          "makeup > face > highlighters",
          "category not specified",
          "mom & baby > maternity wear > maternity bra",
          "makeup > face > blush",
          "natural > types of skin > dry skin",
          "category not specified",
          "personal care > bath & shower > shampoo",
          "skin > body care > lotions & creams",
          "makeup > lips > lipstick",
          "category not specified",
          "category not specified",
          "category not specified",
          "makeup > nails > nail polish",
          "mom & baby > maternity wear > maternity bra",
          "mom & baby > maternity wear > maternity bra",
          "category not specified",
          "makeup > lips > lipstick",
          "category not specified",
          "brand > himalaya",
          "category not specified",
          "makeup > eyes > under eye concealer",
          "category not specified",
          "makeup > face > highlighters",
          "category not specified",
          "personal care > bath & shower > shampoo",
          "category not specified",
          "makeup > face > blush",
          "category not specified",
          "natural > hair > shampoo & cleanser",
          "skin > shop by concern > skin dryness",
          "makeup > face > highlighters",
          "makeup > face > blush",
          "category not specified",
          "makeup > lips > lipstick",
          "category not specified",
          "skin > body care > lotions & creams",
          "makeup > nails > nail polish",
          "category not specified",
          "category not specified",
          "skin > body care > lotions & creams",
          "makeup > lips > lipstick",
          "makeup > lips > lipstick",
          "makeup > lips > lipstick",
          "makeup > face > foundation",
          "makeup > face > highlighters",
          "category not specified",
          "skin > shop by concern > skin dryness",
          "natural > types of skin > normal skin",
          "skin > moisturizers > face moisturizer & day cream",
          "makeup > face > concealer",
          "makeup > lips > lipstick",
          "makeup > nails > nail polish",
          "makeup > eyes > under eye concealer",
          "category not specified",
          "makeup > face > concealer",
          "category not specified",
          "makeup > lips > lipstick",
          "category not specified",
          "makeup > face > highlighters",
          "makeup > lips > liquid lipstick",
          "makeup > face > concealer",
          "natural > types of skin > normal skin",
          "makeup > lips > lipstick",
          "natural > types of skin > dry skin",
          "makeup > face > blush",
          "category not specified",
          "makeup > eyes > under eye concealer",
          "makeup > lips > liquid lipstick",
          "makeup > face > blush",
          "category not specified",
          "makeup > face > highlighters",
          "category not specified",
          "natural > hair > shampoo & cleanser",
          "makeup > lips > lipstick",
          "makeup > face > foundation",
          "category not specified",
          "category not specified",
          "makeup > nails > nail polish",
          "makeup > face > highlighters",
          "category not specified",
          "makeup > nails > nail polish",
          "personal care > bath & shower > shampoo",
          "skin > shop by concern > skin dryness",
          "natural > types of skin > combination skin",
          "natural > types of skin > normal skin",
          "makeup > eyes > under eye concealer",
          "natural > types of skin > dry skin",
          "makeup > lips > lipstick",
          "mom & baby > maternity wear > maternity bra",
          "makeup > face > blush",
          "skin > body care > lotions & creams",
          "natural > types of skin > dry skin",
          "natural > hair > shampoo & cleanser",
          "mom & baby > maternity wear > maternity bra",
          "makeup > nails > nail polish",
          "makeup > nails > nail polish",
          "skin > moisturizers > face moisturizer & day cream",
          "category not specified",
          "natural > types of skin > normal skin",
          "category not specified",
          "mom & baby > maternity wear > maternity bra",
          "category not specified",
          "skin > body care > massage oils",
          "makeup > face > foundation",
          "category not specified",
          "skin > moisturizers > face moisturizer & day cream",
          "makeup > lips > liquid lipstick",
          "makeup > lips > lipstick",
          "makeup > eyes > under eye concealer",
          "category not specified",
          "category not specified",
          "category not specified",
          "makeup > nails > nail polish",
          "skin > shop by concern > skin dryness",
          "mom & baby > maternity wear > maternity bra",
          "category not specified",
          "skin > moisturizers > face moisturizer & day cream",
          "category not specified",
          "category not specified",
          "skin > moisturizers > face moisturizer & day cream",
          "natural > hair > shampoo & cleanser",
          "makeup > nails > nail polish",
          "category not specified",
          "makeup > lips > lipstick",
          "makeup > face > blush",
          "skin > body care > massage oils",
          "category not specified",
          "brand > himalaya",
          "makeup > lips > liquid lipstick",
          "makeup > lips > liquid lipstick",
          "makeup > face > foundation",
          "skin > moisturizers > face moisturizer & day cream",
          "makeup > lips > liquid lipstick",
          "natural > types of skin > dry skin",
          "makeup > face > foundation",
          "natural > types of skin > combination skin",
          "category not specified",
          "category not specified",
          "makeup > lips > liquid lipstick",
          "category not specified",
          "makeup > lips > liquid lipstick",
          "makeup > lips > liquid lipstick",
          "category not specified",
          "natural > types of skin > dry skin",
          "category not specified",
          "makeup > face > foundation",
          "makeup > eyes > under eye concealer",
          "natural > types of skin > combination skin",
          "makeup > lips > liquid lipstick",
          "mom & baby > maternity wear > maternity bra",
          "natural > types of skin > normal skin",
          "personal care > bath & shower > shampoo",
          "makeup > lips > lipstick",
          "skin > body care > lotions & creams",
          "category not specified",
          "natural > types of skin > normal skin",
          "makeup > face > foundation",
          "makeup > lips > lipstick",
          "makeup > face > blush",
          "category not specified",
          "category not specified",
          "makeup > lips > lipstick",
          "makeup > face > foundation",
          "brand > himalaya",
          "makeup > lips > liquid lipstick",
          "category not specified",
          "skin > moisturizers > face moisturizer & day cream",
          "category not specified",
          "makeup > lips > lipstick",
          "personal care > bath & shower > shampoo",
          "makeup > lips > lipstick",
          "category not specified",
          "personal care > bath & shower > shampoo",
          "category not specified",
          "category not specified",
          "mom & baby > maternity wear > maternity bra",
          "category not specified",
          "makeup > nails > nail polish",
          "skin > body care > massage oils",
          "natural > types of skin > combination skin",
          "category not specified",
          "brand > himalaya",
          "skin > moisturizers > face moisturizer & day cream",
          "skin > shop by concern > skin dryness",
          "skin > moisturizers > face moisturizer & day cream",
          "natural > types of skin > normal skin",
          "mom & baby > maternity wear > maternity bra",
          "makeup > lips > liquid lipstick",
          "category not specified",
          "brand > himalaya",
          "skin > body care > lotions & creams",
          "natural > types of skin > dry skin",
          "skin > moisturizers > face moisturizer & day cream",
          "personal care > bath & shower > shampoo",
          "skin > body care > lotions & creams",
          "makeup > face > foundation",
          "natural > types of skin > combination skin",
          "category not specified",
          "makeup > nails > nail polish",
          "makeup > eyes > under eye concealer"
         ],
         "xaxis": "x",
         "y": [
          279,
          151.6,
          449.40000000000003,
          418,
          42,
          380,
          64,
          159,
          90,
          37,
          59.800000000000004,
          99,
          70,
          640,
          10,
          55,
          139,
          420,
          662,
          150,
          690,
          18.8,
          290,
          44.800000000000004,
          720,
          92,
          612,
          340,
          150,
          20,
          59,
          250,
          26.200000000000003,
          431.8,
          44.800000000000004,
          955,
          1540,
          21.8,
          41.800000000000004,
          13.8,
          640,
          509.40000000000003,
          15.8,
          120,
          340,
          130,
          46,
          99,
          52,
          42,
          25,
          100.60000000000001,
          80,
          299.6,
          178,
          500,
          370,
          464,
          150,
          101.80000000000001,
          17,
          22,
          284,
          67.2,
          615,
          76.4,
          70,
          202.4,
          449.40000000000003,
          218,
          23.6,
          28,
          70,
          115,
          47.2,
          35.800000000000004,
          34.4,
          299.6,
          35.800000000000004,
          383.6,
          449.40000000000003,
          53.800000000000004,
          550,
          51,
          14.4,
          40.800000000000004,
          650,
          22.6,
          610,
          630,
          89.80000000000001,
          319.8,
          460,
          224,
          90,
          19.8,
          73.60000000000001,
          112,
          250,
          143.8,
          49,
          30,
          38.2,
          480,
          664,
          39.800000000000004,
          170,
          429.8,
          380,
          280,
          135,
          900,
          29.8,
          27,
          27,
          50,
          199.8,
          29.8,
          139,
          35.800000000000004,
          49,
          144,
          110,
          492.8,
          59.800000000000004,
          380,
          418,
          116,
          119.80000000000001,
          220.20000000000002,
          100,
          114.80000000000001,
          79.80000000000001,
          59.6,
          135,
          75,
          170,
          285.6,
          26.8,
          199.8,
          60,
          70,
          24,
          22,
          370,
          145,
          17,
          70,
          14,
          9.8,
          15.4,
          120,
          68,
          55,
          449.40000000000003,
          79.80000000000001,
          25,
          42,
          52,
          149.8,
          34,
          30,
          59.800000000000004,
          37,
          37,
          27.6,
          461.40000000000003,
          105,
          575,
          17.2,
          25,
          90,
          380,
          109.80000000000001,
          250,
          13,
          142,
          1900,
          63,
          13,
          227.60000000000002,
          42.6,
          1160,
          34.2,
          380,
          19.8,
          42,
          38.2,
          79.2,
          59.800000000000004,
          299.8,
          55.400000000000006,
          460,
          12.8,
          139.8,
          158.60000000000002,
          159.8,
          50,
          380,
          14.8,
          70.60000000000001,
          15,
          620,
          320,
          380,
          900,
          99.80000000000001,
          420,
          42.400000000000006,
          45,
          210,
          170,
          55,
          15,
          118.80000000000001,
          307.6,
          10.600000000000001,
          78.60000000000001,
          65,
          52,
          27.8,
          13.4,
          150,
          89.80000000000001,
          125.80000000000001,
          340,
          1080,
          75,
          59,
          14.8,
          49.800000000000004,
          12.8,
          25.8,
          680,
          47.6,
          26,
          69.60000000000001,
          843.8000000000001,
          19.6,
          580,
          48,
          222.4,
          101.80000000000001,
          39.800000000000004,
          155,
          40.800000000000004,
          11.200000000000001,
          16.8,
          1130,
          53,
          59.800000000000004,
          48,
          299.6,
          99.80000000000001,
          15,
          8.200000000000001,
          39,
          48,
          24,
          41,
          79.80000000000001,
          240,
          54.800000000000004,
          980,
          200,
          133
         ],
         "yaxis": "y"
        }
       ],
       "layout": {
        "coloraxis": {
         "colorbar": {
          "title": {
           "text": "Price (SEK)"
          }
         },
         "colorscale": [
          [
           0,
           "#440154"
          ],
          [
           0.1111111111111111,
           "#482878"
          ],
          [
           0.2222222222222222,
           "#3e4989"
          ],
          [
           0.3333333333333333,
           "#31688e"
          ],
          [
           0.4444444444444444,
           "#26828e"
          ],
          [
           0.5555555555555556,
           "#1f9e89"
          ],
          [
           0.6666666666666666,
           "#35b779"
          ],
          [
           0.7777777777777778,
           "#6ece58"
          ],
          [
           0.8888888888888888,
           "#b5de2b"
          ],
          [
           1,
           "#fde725"
          ]
         ]
        },
        "legend": {
         "tracegroupgap": 0
        },
        "template": {
         "data": {
          "bar": [
           {
            "error_x": {
             "color": "#2a3f5f"
            },
            "error_y": {
             "color": "#2a3f5f"
            },
            "marker": {
             "line": {
              "color": "#E5ECF6",
              "width": 0.5
             },
             "pattern": {
              "fillmode": "overlay",
              "size": 10,
              "solidity": 0.2
             }
            },
            "type": "bar"
           }
          ],
          "barpolar": [
           {
            "marker": {
             "line": {
              "color": "#E5ECF6",
              "width": 0.5
             },
             "pattern": {
              "fillmode": "overlay",
              "size": 10,
              "solidity": 0.2
             }
            },
            "type": "barpolar"
           }
          ],
          "carpet": [
           {
            "aaxis": {
             "endlinecolor": "#2a3f5f",
             "gridcolor": "white",
             "linecolor": "white",
             "minorgridcolor": "white",
             "startlinecolor": "#2a3f5f"
            },
            "baxis": {
             "endlinecolor": "#2a3f5f",
             "gridcolor": "white",
             "linecolor": "white",
             "minorgridcolor": "white",
             "startlinecolor": "#2a3f5f"
            },
            "type": "carpet"
           }
          ],
          "choropleth": [
           {
            "colorbar": {
             "outlinewidth": 0,
             "ticks": ""
            },
            "type": "choropleth"
           }
          ],
          "contour": [
           {
            "colorbar": {
             "outlinewidth": 0,
             "ticks": ""
            },
            "colorscale": [
             [
              0,
              "#0d0887"
             ],
             [
              0.1111111111111111,
              "#46039f"
             ],
             [
              0.2222222222222222,
              "#7201a8"
             ],
             [
              0.3333333333333333,
              "#9c179e"
             ],
             [
              0.4444444444444444,
              "#bd3786"
             ],
             [
              0.5555555555555556,
              "#d8576b"
             ],
             [
              0.6666666666666666,
              "#ed7953"
             ],
             [
              0.7777777777777778,
              "#fb9f3a"
             ],
             [
              0.8888888888888888,
              "#fdca26"
             ],
             [
              1,
              "#f0f921"
             ]
            ],
            "type": "contour"
           }
          ],
          "contourcarpet": [
           {
            "colorbar": {
             "outlinewidth": 0,
             "ticks": ""
            },
            "type": "contourcarpet"
           }
          ],
          "heatmap": [
           {
            "colorbar": {
             "outlinewidth": 0,
             "ticks": ""
            },
            "colorscale": [
             [
              0,
              "#0d0887"
             ],
             [
              0.1111111111111111,
              "#46039f"
             ],
             [
              0.2222222222222222,
              "#7201a8"
             ],
             [
              0.3333333333333333,
              "#9c179e"
             ],
             [
              0.4444444444444444,
              "#bd3786"
             ],
             [
              0.5555555555555556,
              "#d8576b"
             ],
             [
              0.6666666666666666,
              "#ed7953"
             ],
             [
              0.7777777777777778,
              "#fb9f3a"
             ],
             [
              0.8888888888888888,
              "#fdca26"
             ],
             [
              1,
              "#f0f921"
             ]
            ],
            "type": "heatmap"
           }
          ],
          "heatmapgl": [
           {
            "colorbar": {
             "outlinewidth": 0,
             "ticks": ""
            },
            "colorscale": [
             [
              0,
              "#0d0887"
             ],
             [
              0.1111111111111111,
              "#46039f"
             ],
             [
              0.2222222222222222,
              "#7201a8"
             ],
             [
              0.3333333333333333,
              "#9c179e"
             ],
             [
              0.4444444444444444,
              "#bd3786"
             ],
             [
              0.5555555555555556,
              "#d8576b"
             ],
             [
              0.6666666666666666,
              "#ed7953"
             ],
             [
              0.7777777777777778,
              "#fb9f3a"
             ],
             [
              0.8888888888888888,
              "#fdca26"
             ],
             [
              1,
              "#f0f921"
             ]
            ],
            "type": "heatmapgl"
           }
          ],
          "histogram": [
           {
            "marker": {
             "pattern": {
              "fillmode": "overlay",
              "size": 10,
              "solidity": 0.2
             }
            },
            "type": "histogram"
           }
          ],
          "histogram2d": [
           {
            "colorbar": {
             "outlinewidth": 0,
             "ticks": ""
            },
            "colorscale": [
             [
              0,
              "#0d0887"
             ],
             [
              0.1111111111111111,
              "#46039f"
             ],
             [
              0.2222222222222222,
              "#7201a8"
             ],
             [
              0.3333333333333333,
              "#9c179e"
             ],
             [
              0.4444444444444444,
              "#bd3786"
             ],
             [
              0.5555555555555556,
              "#d8576b"
             ],
             [
              0.6666666666666666,
              "#ed7953"
             ],
             [
              0.7777777777777778,
              "#fb9f3a"
             ],
             [
              0.8888888888888888,
              "#fdca26"
             ],
             [
              1,
              "#f0f921"
             ]
            ],
            "type": "histogram2d"
           }
          ],
          "histogram2dcontour": [
           {
            "colorbar": {
             "outlinewidth": 0,
             "ticks": ""
            },
            "colorscale": [
             [
              0,
              "#0d0887"
             ],
             [
              0.1111111111111111,
              "#46039f"
             ],
             [
              0.2222222222222222,
              "#7201a8"
             ],
             [
              0.3333333333333333,
              "#9c179e"
             ],
             [
              0.4444444444444444,
              "#bd3786"
             ],
             [
              0.5555555555555556,
              "#d8576b"
             ],
             [
              0.6666666666666666,
              "#ed7953"
             ],
             [
              0.7777777777777778,
              "#fb9f3a"
             ],
             [
              0.8888888888888888,
              "#fdca26"
             ],
             [
              1,
              "#f0f921"
             ]
            ],
            "type": "histogram2dcontour"
           }
          ],
          "mesh3d": [
           {
            "colorbar": {
             "outlinewidth": 0,
             "ticks": ""
            },
            "type": "mesh3d"
           }
          ],
          "parcoords": [
           {
            "line": {
             "colorbar": {
              "outlinewidth": 0,
              "ticks": ""
             }
            },
            "type": "parcoords"
           }
          ],
          "pie": [
           {
            "automargin": true,
            "type": "pie"
           }
          ],
          "scatter": [
           {
            "fillpattern": {
             "fillmode": "overlay",
             "size": 10,
             "solidity": 0.2
            },
            "type": "scatter"
           }
          ],
          "scatter3d": [
           {
            "line": {
             "colorbar": {
              "outlinewidth": 0,
              "ticks": ""
             }
            },
            "marker": {
             "colorbar": {
              "outlinewidth": 0,
              "ticks": ""
             }
            },
            "type": "scatter3d"
           }
          ],
          "scattercarpet": [
           {
            "marker": {
             "colorbar": {
              "outlinewidth": 0,
              "ticks": ""
             }
            },
            "type": "scattercarpet"
           }
          ],
          "scattergeo": [
           {
            "marker": {
             "colorbar": {
              "outlinewidth": 0,
              "ticks": ""
             }
            },
            "type": "scattergeo"
           }
          ],
          "scattergl": [
           {
            "marker": {
             "colorbar": {
              "outlinewidth": 0,
              "ticks": ""
             }
            },
            "type": "scattergl"
           }
          ],
          "scattermapbox": [
           {
            "marker": {
             "colorbar": {
              "outlinewidth": 0,
              "ticks": ""
             }
            },
            "type": "scattermapbox"
           }
          ],
          "scatterpolar": [
           {
            "marker": {
             "colorbar": {
              "outlinewidth": 0,
              "ticks": ""
             }
            },
            "type": "scatterpolar"
           }
          ],
          "scatterpolargl": [
           {
            "marker": {
             "colorbar": {
              "outlinewidth": 0,
              "ticks": ""
             }
            },
            "type": "scatterpolargl"
           }
          ],
          "scatterternary": [
           {
            "marker": {
             "colorbar": {
              "outlinewidth": 0,
              "ticks": ""
             }
            },
            "type": "scatterternary"
           }
          ],
          "surface": [
           {
            "colorbar": {
             "outlinewidth": 0,
             "ticks": ""
            },
            "colorscale": [
             [
              0,
              "#0d0887"
             ],
             [
              0.1111111111111111,
              "#46039f"
             ],
             [
              0.2222222222222222,
              "#7201a8"
             ],
             [
              0.3333333333333333,
              "#9c179e"
             ],
             [
              0.4444444444444444,
              "#bd3786"
             ],
             [
              0.5555555555555556,
              "#d8576b"
             ],
             [
              0.6666666666666666,
              "#ed7953"
             ],
             [
              0.7777777777777778,
              "#fb9f3a"
             ],
             [
              0.8888888888888888,
              "#fdca26"
             ],
             [
              1,
              "#f0f921"
             ]
            ],
            "type": "surface"
           }
          ],
          "table": [
           {
            "cells": {
             "fill": {
              "color": "#EBF0F8"
             },
             "line": {
              "color": "white"
             }
            },
            "header": {
             "fill": {
              "color": "#C8D4E3"
             },
             "line": {
              "color": "white"
             }
            },
            "type": "table"
           }
          ]
         },
         "layout": {
          "annotationdefaults": {
           "arrowcolor": "#2a3f5f",
           "arrowhead": 0,
           "arrowwidth": 1
          },
          "autotypenumbers": "strict",
          "coloraxis": {
           "colorbar": {
            "outlinewidth": 0,
            "ticks": ""
           }
          },
          "colorscale": {
           "diverging": [
            [
             0,
             "#8e0152"
            ],
            [
             0.1,
             "#c51b7d"
            ],
            [
             0.2,
             "#de77ae"
            ],
            [
             0.3,
             "#f1b6da"
            ],
            [
             0.4,
             "#fde0ef"
            ],
            [
             0.5,
             "#f7f7f7"
            ],
            [
             0.6,
             "#e6f5d0"
            ],
            [
             0.7,
             "#b8e186"
            ],
            [
             0.8,
             "#7fbc41"
            ],
            [
             0.9,
             "#4d9221"
            ],
            [
             1,
             "#276419"
            ]
           ],
           "sequential": [
            [
             0,
             "#0d0887"
            ],
            [
             0.1111111111111111,
             "#46039f"
            ],
            [
             0.2222222222222222,
             "#7201a8"
            ],
            [
             0.3333333333333333,
             "#9c179e"
            ],
            [
             0.4444444444444444,
             "#bd3786"
            ],
            [
             0.5555555555555556,
             "#d8576b"
            ],
            [
             0.6666666666666666,
             "#ed7953"
            ],
            [
             0.7777777777777778,
             "#fb9f3a"
            ],
            [
             0.8888888888888888,
             "#fdca26"
            ],
            [
             1,
             "#f0f921"
            ]
           ],
           "sequentialminus": [
            [
             0,
             "#0d0887"
            ],
            [
             0.1111111111111111,
             "#46039f"
            ],
            [
             0.2222222222222222,
             "#7201a8"
            ],
            [
             0.3333333333333333,
             "#9c179e"
            ],
            [
             0.4444444444444444,
             "#bd3786"
            ],
            [
             0.5555555555555556,
             "#d8576b"
            ],
            [
             0.6666666666666666,
             "#ed7953"
            ],
            [
             0.7777777777777778,
             "#fb9f3a"
            ],
            [
             0.8888888888888888,
             "#fdca26"
            ],
            [
             1,
             "#f0f921"
            ]
           ]
          },
          "colorway": [
           "#636efa",
           "#EF553B",
           "#00cc96",
           "#ab63fa",
           "#FFA15A",
           "#19d3f3",
           "#FF6692",
           "#B6E880",
           "#FF97FF",
           "#FECB52"
          ],
          "font": {
           "color": "#2a3f5f"
          },
          "geo": {
           "bgcolor": "white",
           "lakecolor": "white",
           "landcolor": "#E5ECF6",
           "showlakes": true,
           "showland": true,
           "subunitcolor": "white"
          },
          "hoverlabel": {
           "align": "left"
          },
          "hovermode": "closest",
          "mapbox": {
           "style": "light"
          },
          "paper_bgcolor": "white",
          "plot_bgcolor": "#E5ECF6",
          "polar": {
           "angularaxis": {
            "gridcolor": "white",
            "linecolor": "white",
            "ticks": ""
           },
           "bgcolor": "#E5ECF6",
           "radialaxis": {
            "gridcolor": "white",
            "linecolor": "white",
            "ticks": ""
           }
          },
          "scene": {
           "xaxis": {
            "backgroundcolor": "#E5ECF6",
            "gridcolor": "white",
            "gridwidth": 2,
            "linecolor": "white",
            "showbackground": true,
            "ticks": "",
            "zerolinecolor": "white"
           },
           "yaxis": {
            "backgroundcolor": "#E5ECF6",
            "gridcolor": "white",
            "gridwidth": 2,
            "linecolor": "white",
            "showbackground": true,
            "ticks": "",
            "zerolinecolor": "white"
           },
           "zaxis": {
            "backgroundcolor": "#E5ECF6",
            "gridcolor": "white",
            "gridwidth": 2,
            "linecolor": "white",
            "showbackground": true,
            "ticks": "",
            "zerolinecolor": "white"
           }
          },
          "shapedefaults": {
           "line": {
            "color": "#2a3f5f"
           }
          },
          "ternary": {
           "aaxis": {
            "gridcolor": "white",
            "linecolor": "white",
            "ticks": ""
           },
           "baxis": {
            "gridcolor": "white",
            "linecolor": "white",
            "ticks": ""
           },
           "bgcolor": "#E5ECF6",
           "caxis": {
            "gridcolor": "white",
            "linecolor": "white",
            "ticks": ""
           }
          },
          "title": {
           "x": 0.05
          },
          "xaxis": {
           "automargin": true,
           "gridcolor": "white",
           "linecolor": "white",
           "ticks": "",
           "title": {
            "standoff": 15
           },
           "zerolinecolor": "white",
           "zerolinewidth": 2
          },
          "yaxis": {
           "automargin": true,
           "gridcolor": "white",
           "linecolor": "white",
           "ticks": "",
           "title": {
            "standoff": 15
           },
           "zerolinecolor": "white",
           "zerolinewidth": 2
          }
         }
        },
        "title": {
         "text": "Product Price vs. Category"
        },
        "xaxis": {
         "anchor": "y",
         "categoryorder": "total descending",
         "domain": [
          0,
          1
         ],
         "title": {
          "text": "Category"
         }
        },
        "yaxis": {
         "anchor": "x",
         "domain": [
          0,
          1
         ],
         "title": {
          "text": "Price (SEK)"
         }
        }
       }
      }
     },
     "metadata": {},
     "output_type": "display_data"
    }
   ],
   "source": [
    "# Assuming you've filtered or aggregated the dataset for visual clarity\n",
    "top_categories = metadata_original_df['Product Category'].value_counts().head(20).index\n",
    "\n",
    "fig_price_vs_category = px.scatter(\n",
    "    metadata_original_df[metadata_original_df['Product Category'].isin(top_categories)],\n",
    "    x='Product Category',\n",
    "    y='Product Price [SEK]',\n",
    "    title='Product Price vs. Category',\n",
    "    labels={'Product Price [SEK]': 'Price (SEK)', 'Product Category': 'Category'},\n",
    "    color='Product Price [SEK]',\n",
    "    color_continuous_scale='Viridis'\n",
    ")\n",
    "\n",
    "fig_price_vs_category.update_layout(xaxis={'categoryorder':'total descending'})\n",
    "fig_price_vs_category.show()\n"
   ]
  },
  {
   "cell_type": "markdown",
   "metadata": {},
   "source": [
    "![Opp](Images/PpVsCategory.png)"
   ]
  },
  {
   "cell_type": "markdown",
   "metadata": {},
   "source": [
    "#### <b><span style='color:#FF0000'> NOTE :</span></b>\n",
    "- **A wide range of prices within categories, with some categories like \"makeup > lips > lipstick\" showing a broad price range, indicating a diversity of product options from budget to premium within the same category.**\n",
    "- **Some categories have a tight cluster of prices, such as \"mom & baby > maternity wear > maternity bra\", suggesting more uniform pricing within that category.**\n",
    "- **The presence of outliers, particularly in categories like \"makeup > face > foundation\", where there are a few products with significantly higher prices than the rest.**"
   ]
  },
  {
   "cell_type": "markdown",
   "metadata": {},
   "source": [
    "<a id=\"5\"></a>\n",
    "<p style=\"background-color:#2d8077;font-family:newtimeroman;color:#FFF9ED;font-size:120%;text-align:center;border-radius:10px 10px;\"> DEPLOYMENT</p>"
   ]
  },
  {
   "cell_type": "markdown",
   "metadata": {},
   "source": [
    "<p align=\"center\">\n",
    "  <img src=\"Images/ChimpAI.png\">\n",
    "</p>\n"
   ]
  },
  {
   "cell_type": "markdown",
   "metadata": {},
   "source": [
    "<a id=\"6\"></a>\n",
    "<p style=\"background-color:#2d8077;font-family:newtimeroman;color:#FFF9ED;font-size:120%;text-align:center;border-radius:10px 10px;\"> IMPLEMENTATION PLAN</p>"
   ]
  },
  {
   "cell_type": "markdown",
   "metadata": {},
   "source": [
    "**6. IMPLEMENTATION PLAN FOR CHIMPAI**\n",
    "\n",
    "*Model Deployment and Prediction:*\n",
    "\n",
    "Deploy the trained model on AI Platform, and schedule daily updates using the first three days of sales data for new SKUs. Update the model daily with new sales data and use it to predict sales for the next day, repeating this process until the 30th day. Cloud Functions and Cloud Scheduler can automate this process. Store the model predictions in BigQuery for easy access by stakeholders.\n",
    "\n",
    "*Monitoring and Evaluation:*\n",
    "\n",
    "  - *Production Schedule:* Based on the model's predictions, adjust the production plan to optimize inventory levels.\n",
    "\n",
    "  - *b. Lead Time Consideration:* Factor in the 1.5-month lead time for production and delivery to the warehouse when making adjustments.\n",
    "\n",
    "  - *c. Batch Orders:* Work within the constraint of monthly batch orders, finding ways to optimize production without modifying existing orders.\n",
    "\n",
    "  - *d. Business Objectives:* Focus on minimizing lost sales opportunities due to stock-outs (1st criterion) and reducing overstock (2nd criterion) while adjusting the production plan.\n",
    "\n",
    "Monitor the model's performance by comparing predictions with actual sales data. Use tools like AI Platform's Monitoring or Data Studio for visualization and analysis. If the model's performance degrades, retrain it using the latest data or explore alternative modeling techniques.\n",
    "\n",
    "\n",
    "*Testing Strategy:*\n",
    "\n",
    "Conduct A/B testing to validate the model's effectiveness in meeting the business objectives. Compare the performance of the production plan based on the model's predictions with a control group using the traditional production plan. Track metrics like lost sales opportunities and overstock to ensure the model achieves the desired outcomes.\n",
    "\n",
    "By following these detailed steps, we can develop, deploy, and maintain an effective recommendation predictive model for ChimpAI.\n",
    "\n",
    "*Cost Approximation*\n",
    "\n",
    "- Data Exploration and Preprocessing (1 week): €5,000\n",
    "- Feature Engineering (2 weeks): €10,000\n",
    "- Model Selection and Training (2 weeks): €10,000\n",
    "- Prediction and Updating Implementation (1 week): €5,000\n",
    "- Evaluation and Model Fine-tuning (1 week): €5,000\n",
    "- Testing and Deployment (1 week): €5,000\n",
    "- Total Time: 8 weeks\n",
    "- Total Cost: €40,000\n",
    "\n",
    "\n",
    "In summary, this end-to-end solution leverages GCP services like BigQuery, Dataflow, DataPrep, AI Platform, Cloud Functions, and Cloud Scheduler to integrate, preprocess, and analyze the data, develop and deploy the predictive recommendation model, and continuously monitor and evaluate its performance. The costs associated with these services will depend on the specific requirements, such as data volume, storage, and processing needs. The time to implement this solution will also vary, depending on factors like data quality, model complexity, and resource availability."
   ]
  }
 ],
 "metadata": {
  "kernelspec": {
   "display_name": ".venv",
   "language": "python",
   "name": "python3"
  },
  "language_info": {
   "codemirror_mode": {
    "name": "ipython",
    "version": 3
   },
   "file_extension": ".py",
   "mimetype": "text/x-python",
   "name": "python",
   "nbconvert_exporter": "python",
   "pygments_lexer": "ipython3",
   "version": "3.8.5"
  }
 },
 "nbformat": 4,
 "nbformat_minor": 2
}
